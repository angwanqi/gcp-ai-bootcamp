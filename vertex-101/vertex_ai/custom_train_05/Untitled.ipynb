{
 "cells": [
  {
   "cell_type": "markdown",
   "id": "6a639a23-5978-4af0-924c-f9f6f80bd718",
   "metadata": {},
   "source": [
    "Need to park this notebook somewhere before 05"
   ]
  },
  {
   "cell_type": "code",
   "execution_count": 6,
   "id": "221c8d73-b7ed-4b36-a11c-e66e56e1f00d",
   "metadata": {
    "tags": []
   },
   "outputs": [
    {
     "name": "stdout",
     "output_type": "stream",
     "text": [
      "\n",
      "BUCKET_NAME          = \"fraud123-438914-fraudfinder\"\n",
      "PROJECT              = \"fraud123-438914\"\n",
      "REGION               = \"us-central1\"\n",
      "ID                   = \"fipp8\"\n",
      "FEATURESTORE_ID      = \"fraudfinder_fipp8\"\n",
      "MODEL_NAME           = \"ff_model\"\n",
      "ENDPOINT_NAME        = \"ff_model_endpoint\"\n",
      "TRAINING_DS_SIZE     = \"1000\"\n",
      "DATA_DIR             = \"data\"\n",
      "TRAIN_DATA_DIR       = \"train\"\n",
      "CUSTOMER_ENTITY      = \"customer\"\n",
      "TERMINAL_ENTITY      = \"terminal\"\n",
      "TARGET               = \"tx_fraud\"\n",
      "\n"
     ]
    }
   ],
   "source": [
    "PROJECT_ID = GCP_PROJECTS[0]\n",
    "BUCKET_NAME = f\"{PROJECT_ID}-fraudfinder\"\n",
    "config = !gsutil cat gs://{BUCKET_NAME}/config/notebook_env_v02.py\n",
    "print(config.n)\n",
    "exec(config.n)"
   ]
  },
  {
   "cell_type": "code",
   "execution_count": 8,
   "id": "91b946f2-3e5b-4dd7-b0ca-34b22288fa72",
   "metadata": {
    "tags": []
   },
   "outputs": [],
   "source": [
    "#TEMP TO BE DELETED\n",
    "ID = \"fvde2\""
   ]
  },
  {
   "cell_type": "code",
   "execution_count": 4,
   "id": "9c12ef36-183d-4304-b5af-e115ed0cfd49",
   "metadata": {
    "tags": []
   },
   "outputs": [],
   "source": [
    "# Replace Region here\n",
    "REGION = \"us-central1\"\n",
    "\n",
    "# static parameters\n",
    "GCP_PROJECTS = !gcloud config get-value project\n",
    "PROJECT_ID = GCP_PROJECTS[0]\n",
    "BUCKET_NAME = f\"{PROJECT_ID}-fraudfinder\"\n",
    "UPLOAD_BUCKET = f\"model-upload-{PROJECT_ID}\"\n",
    "AGENT_BUCKET = f\"ai-workshops-{ID}\"\n",
    "TRAINING_DS_SIZE = 1000"
   ]
  },
  {
   "cell_type": "code",
   "execution_count": 9,
   "id": "82d93050-1afd-4199-b769-76f909372bf7",
   "metadata": {
    "tags": []
   },
   "outputs": [
    {
     "name": "stdout",
     "output_type": "stream",
     "text": [
      "Using this default Service Account: 520607199607-compute@developer.gserviceaccount.com\n"
     ]
    }
   ],
   "source": [
    "# Gets the default BUCKET_URI and SERVICE_ACCOUNT if they were not specified by the user.\n",
    "shell_output = ! gcloud projects describe $PROJECT_ID\n",
    "project_number = shell_output[-1].split(\":\")[1].strip().replace(\"'\", \"\")\n",
    "SERVICE_ACCOUNT = f\"{project_number}-compute@developer.gserviceaccount.com\"\n",
    "print(\"Using this default Service Account:\", SERVICE_ACCOUNT)"
   ]
  },
  {
   "cell_type": "code",
   "execution_count": 28,
   "id": "57755ad9-784e-4bab-91a2-5fda944d41ff",
   "metadata": {
    "tags": []
   },
   "outputs": [],
   "source": [
    "config = f\"\"\"\n",
    "PROJECT_ID: {PROJECT_ID}\n",
    "BUCKET_NAME: {BUCKET_NAME}\n",
    "REGION: {REGION}\n",
    "ID: \"{ID}\"\n",
    "CUSTOMER_ENTITY_ID: customer\n",
    "CUSTOMER_ENTITY_ID_FIELD: customer_id\n",
    "TERMINAL_ENTITY_ID: terminal\n",
    "TERMINALS_ENTITY_ID_FIELD: terminal_id\n",
    "FEATURESTORE_ID: \"fraudfinder_{ID}\"\n",
    "FEATUREVIEW_ID: \"fraudfinder_view_{ID}\"\n",
    "NETWORK: fraud-finder-network\n",
    "SUBNET: https://www.googleapis.com/compute/v1/projects/fraud-finder-lab/regions/us-central1/subnetworks/us-central1\n",
    "MODEL_REGISTRY: ff_model\n",
    "RAW_BQ_TRANSACTION_TABLE_URI: \"{PROJECT_ID}.tx.tx\"\n",
    "RAW_BQ_LABELS_TABLE_URI: \"{PROJECT_ID}.tx.txlabels\"\n",
    "FEATURES_BQ_TABLE_URI: \"{PROJECT_ID}.tx.wide_features_table\"\n",
    "FEATURE_TIME: feature_ts\n",
    "ONLINE_STORAGE_NODES: 1\n",
    "SUBSCRIPTION_NAME: ff-tx-for-feat-eng-sub\n",
    "SUBSCRIPTION_PATH: \"projects/{PROJECT_ID}/subscriptions/ff-tx-for-feat-eng-sub\"\n",
    "DROP_COLUMNS:\n",
    "- timestamp\n",
    "- entity_type_customer\n",
    "- entity_type_terminal\n",
    "FEAT_COLUMNS:\n",
    "- customer_id_avg_amount_14day_window\n",
    "- customer_id_avg_amount_15min_window\n",
    "- customer_id_avg_amount_1day_window\n",
    "- customer_id_avg_amount_30min_window\n",
    "- customer_id_avg_amount_60min_window\n",
    "- customer_id_avg_amount_7day_window\n",
    "- customer_id_nb_tx_14day_window\n",
    "- customer_id_nb_tx_15min_window\n",
    "- customer_id_nb_tx_1day_window\n",
    "- customer_id_nb_tx_30min_window\n",
    "- customer_id_nb_tx_60min_window\n",
    "- customer_id_nb_tx_7day_window\n",
    "- terminal_id_avg_amount_15min_window\n",
    "- terminal_id_avg_amount_30min_window\n",
    "- terminal_id_avg_amount_60min_window\n",
    "- terminal_id_nb_tx_14day_window\n",
    "- terminal_id_nb_tx_15min_window\n",
    "- terminal_id_nb_tx_1day_window\n",
    "- terminal_id_nb_tx_30min_window\n",
    "- terminal_id_nb_tx_60min_window\n",
    "- terminal_id_nb_tx_7day_window\n",
    "- terminal_id_risk_14day_window\n",
    "- terminal_id_risk_1day_window\n",
    "- terminal_id_risk_7day_window\n",
    "- tx_amount\n",
    "TARGET_COLUMN: tx_fraud\n",
    "DATA_SCHEMA:\n",
    "  timestamp: object\n",
    "  tx_amount: float64\n",
    "  tx_fraud: Int64\n",
    "  entity_type_customer: Int64\n",
    "  customer_id_nb_tx_1day_window: Int64\n",
    "  customer_id_nb_tx_7day_window: Int64\n",
    "  customer_id_nb_tx_14day_window: Int64\n",
    "  customer_id_avg_amount_1day_window: float64\n",
    "  customer_id_avg_amount_7day_window: float64\n",
    "  customer_id_avg_amount_14day_window: float64\n",
    "  customer_id_nb_tx_15min_window: Int64\n",
    "  customer_id_avg_amount_15min_window: float64\n",
    "  customer_id_nb_tx_30min_window: Int64\n",
    "  customer_id_avg_amount_30min_window: float64\n",
    "  customer_id_nb_tx_60min_window: Int64\n",
    "  customer_id_avg_amount_60min_window: float64\n",
    "  entity_type_terminal: Int64\n",
    "  terminal_id_nb_tx_1day_window: Int64\n",
    "  terminal_id_nb_tx_7day_window: Int64\n",
    "  terminal_id_nb_tx_14day_window: Int64\n",
    "  terminal_id_risk_1day_window: float64\n",
    "  terminal_id_risk_7day_window: float64\n",
    "  terminal_id_risk_14day_window: float64\n",
    "  terminal_id_nb_tx_15min_window: Int64\n",
    "  terminal_id_avg_amount_15min_window: float64\n",
    "  terminal_id_nb_tx_30min_window: Int64\n",
    "  terminal_id_avg_amount_30min_window: float64\n",
    "  terminal_id_nb_tx_60min_window: Int64\n",
    "  terminal_id_avg_amount_60min_window: float64\n",
    "MODEL_NAME: ff_model\n",
    "EXPERIMENT_NAME: \"ff-experiment-{ID}\"\n",
    "DATA_URI: \"gs://{PROJECT_ID}-fraudfinder/data\"\n",
    "TRAIN_DATA_URI: \"gs://{PROJECT_ID}-fraudfinder/data/train\"\n",
    "READ_INSTANCES_TABLE: \"ground_truth_{ID}\"\n",
    "READ_INSTANCES_URI: \"bq://{PROJECT_ID}.tx.ground_truth_{ID}\"\n",
    "DATASET_NAME: \"fraud_finder_dataset_{ID}\"\n",
    "JOB_NAME: \"fraudfinder-train-xgb-{ID}\"\n",
    "ENDPOINT_NAME: ff_model_endpoint\n",
    "MODEL_SERVING_IMAGE_URI: \"us-docker.pkg.dev/vertex-ai/prediction/xgboost-cpu.1-7:latest\"\n",
    "IMAGE_REPOSITORY: \"fraudfinder-{ID}\"\n",
    "IMAGE_NAME: dask-xgb-classificator\n",
    "IMAGE_TAG: latest\n",
    "IMAGE_URI: \"us-central1-docker.pkg.dev/{PROJECT_ID}/fraudfinder-{ID}/dask-xgb-classificator:latest\"\n",
    "TRAIN_COMPUTE: e2-standard-4\n",
    "DEPLOY_COMPUTE: n1-standard-4\n",
    "BASE_IMAGE: \"python:3.10\"\n",
    "PIPELINE_NAME: \"fraud-finder-xgb-pipeline-{ID}\"\n",
    "PIPELINE_ROOT: \"gs://{PROJECT_ID}-fraudfinder/pipelines\"\n",
    "BQ_DATASET: tx\n",
    "METRICS_URI: \"gs://{PROJECT_ID}-fraudfinder/deliverables/metrics.json\"\n",
    "AVG_PR_THRESHOLD: 0.2\n",
    "MODEL_THRESHOLD: 0.5\n",
    "AVG_PR_CONDITION: avg_pr_condition\n",
    "PERSISTENT_RESOURCE_ID: ai-takeoff\n",
    "REPLICA_COUNT: 1\n",
    "SERVICE_ACCOUNT: \"{SERVICE_ACCOUNT}\"\n",
    "\"\"\""
   ]
  },
  {
   "cell_type": "code",
   "execution_count": 29,
   "id": "df551b3d-7ef2-43c2-9530-e5705055deef",
   "metadata": {
    "tags": []
   },
   "outputs": [
    {
     "name": "stdout",
     "output_type": "stream",
     "text": [
      "Copying from <STDIN>...\n",
      "/ [1 files][    0.0 B/    0.0 B]                                                \n",
      "Operation completed over 1 objects.                                              \n"
     ]
    }
   ],
   "source": [
    "!echo '{config}' | gsutil cp - gs://{BUCKET_NAME}/config/vertex_conf.yaml"
   ]
  },
  {
   "cell_type": "code",
   "execution_count": 25,
   "id": "356ebc74-d7e4-4205-9a85-f252dcb0fd3d",
   "metadata": {
    "tags": []
   },
   "outputs": [
    {
     "name": "stdout",
     "output_type": "stream",
     "text": [
      "\n",
      "PROJECT_ID: fraud123-438914\n",
      "BUCKET_NAME: fraud123-438914-fraudfinder\n",
      "REGION: us-central1\n",
      "ID: \"fvde2\"\n",
      "CUSTOMER_ENTITY_ID: customer\n",
      "CUSTOMER_ENTITY_ID_FIELD: customer_id\n",
      "TERMINAL_ENTITY_ID: terminal\n",
      "TERMINALS_ENTITY_ID_FIELD: terminal_id\n",
      "FEATURESTORE_ID: \"fraudfinder_fvde2\"\n",
      "FEATUREVIEW_ID: \"fraudfinder_view_fvde2\"\n",
      "NETWORK: fraud-finder-network\n",
      "SUBNET: https://www.googleapis.com/compute/v1/projects/fraud-finder-lab/regions/us-central1/subnetworks/us-central1\n",
      "MODEL_REGISTRY: ff_model\n",
      "RAW_BQ_TRANSACTION_TABLE_URI: \"fraud123-438914.tx.tx\"\n",
      "RAW_BQ_LABELS_TABLE_URI: \"fraud123-438914.tx.txlabels\"\n",
      "FEATURES_BQ_TABLE_URI: \"fraud123-438914.tx.wide_features_table\"\n",
      "FEATURE_TIME: feature_ts\n",
      "ONLINE_STORAGE_NODES: 1\n",
      "SUBSCRIPTION_NAME: ff-tx-for-feat-eng-sub\n",
      "SUBSCRIPTION_PATH: \"projects/fraud123-438914/subscriptions/ff-tx-for-feat-eng-sub\"\n",
      "DROP_COLUMNS:\n",
      "- timestamp\n",
      "- entity_type_customer\n",
      "- entity_type_terminal\n",
      "FEAT_COLUMNS:\n",
      "- customer_id_avg_amount_14day_window\n",
      "- customer_id_avg_amount_15min_window\n",
      "- customer_id_avg_amount_1day_window\n",
      "- customer_id_avg_amount_30min_window\n",
      "- customer_id_avg_amount_60min_window\n",
      "- customer_id_avg_amount_7day_window\n",
      "- customer_id_nb_tx_14day_window\n",
      "- customer_id_nb_tx_15min_window\n",
      "- customer_id_nb_tx_1day_window\n",
      "- customer_id_nb_tx_30min_window\n",
      "- customer_id_nb_tx_60min_window\n",
      "- customer_id_nb_tx_7day_window\n",
      "- terminal_id_avg_amount_15min_window\n",
      "- terminal_id_avg_amount_30min_window\n",
      "- terminal_id_avg_amount_60min_window\n",
      "- terminal_id_nb_tx_14day_window\n",
      "- terminal_id_nb_tx_15min_window\n",
      "- terminal_id_nb_tx_1day_window\n",
      "- terminal_id_nb_tx_30min_window\n",
      "- terminal_id_nb_tx_60min_window\n",
      "- terminal_id_nb_tx_7day_window\n",
      "- terminal_id_risk_14day_window\n",
      "- terminal_id_risk_1day_window\n",
      "- terminal_id_risk_7day_window\n",
      "- tx_amount\n",
      "TARGET_COLUMN: tx_fraud\n",
      "DATA_SCHEMA:\n",
      "  timestamp: object\n",
      "  tx_amount: float64\n",
      "  tx_fraud: Int64\n",
      "  entity_type_customer: Int64\n",
      "  customer_id_nb_tx_1day_window: Int64\n",
      "  customer_id_nb_tx_7day_window: Int64\n",
      "  customer_id_nb_tx_14day_window: Int64\n",
      "  customer_id_avg_amount_1day_window: float64\n",
      "  customer_id_avg_amount_7day_window: float64\n",
      "  customer_id_avg_amount_14day_window: float64\n",
      "  customer_id_nb_tx_15min_window: Int64\n",
      "  customer_id_avg_amount_15min_window: float64\n",
      "  customer_id_nb_tx_30min_window: Int64\n",
      "  customer_id_avg_amount_30min_window: float64\n",
      "  customer_id_nb_tx_60min_window: Int64\n",
      "  customer_id_avg_amount_60min_window: float64\n",
      "  entity_type_terminal: Int64\n",
      "  terminal_id_nb_tx_1day_window: Int64\n",
      "  terminal_id_nb_tx_7day_window: Int64\n",
      "  terminal_id_nb_tx_14day_window: Int64\n",
      "  terminal_id_risk_1day_window: float64\n",
      "  terminal_id_risk_7day_window: float64\n",
      "  terminal_id_risk_14day_window: float64\n",
      "  terminal_id_nb_tx_15min_window: Int64\n",
      "  terminal_id_avg_amount_15min_window: float64\n",
      "  terminal_id_nb_tx_30min_window: Int64\n",
      "  terminal_id_avg_amount_30min_window: float64\n",
      "  terminal_id_nb_tx_60min_window: Int64\n",
      "  terminal_id_avg_amount_60min_window: float64\n",
      "MODEL_NAME: ff_model\n",
      "EXPERIMENT_NAME: \"ff-experiment-fvde2\"\n",
      "DATA_URI: \"gs://fraud123-438914-fraudfinder/data\"\n",
      "TRAIN_DATA_URI: \"gs://fraud123-438914-fraudfinder/data/train\"\n",
      "READ_INSTANCES_TABLE: \"ground_truth_fvde2\"\n",
      "READ_INSTANCES_URI: \"bq://fraud123-438914.tx.ground_truth_fvde2\"\n",
      "DATASET_NAME: \"fraud_finder_dataset_fvde2\"\n",
      "JOB_NAME: \"fraudfinder-train-xgb-fvde2\"\n",
      "ENDPOINT_NAME: ff_model_endpoint\n",
      "MODEL_SERVING_IMAGE_URI: \"us-docker.pkg.dev/vertex-ai/prediction/xgboost-cpu.1-7:latest\"\n",
      "IMAGE_REPOSITORY: \"fraudfinder-fvde2\"\n",
      "IMAGE_NAME: dask-xgb-classificator\n",
      "IMAGE_TAG: latest\n",
      "IMAGE_URI: \"us-central1-docker.pkg.dev/fraud-finder-lab/fraudfinder-8wc8m/dask-xgb-classificator:latest\"\n",
      "TRAIN_COMPUTE: e2-standard-4\n",
      "DEPLOY_COMPUTE: n1-standard-4\n",
      "BASE_IMAGE: \"python:3.10\"\n",
      "PIPELINE_NAME: \"fraud-finder-xgb-pipeline-fvde2\"\n",
      "PIPELINE_ROOT: \"gs://fraud123-438914-fraudfinder/pipelines\"\n",
      "BQ_DATASET: tx\n",
      "METRICS_URI: \"gs://fraud123-438914-fraudfinder/deliverables/metrics.json\"\n",
      "AVG_PR_THRESHOLD: 0.2\n",
      "MODEL_THRESHOLD: 0.5\n",
      "AVG_PR_CONDITION: avg_pr_condition\n",
      "PERSISTENT_RESOURCE_ID: ai-takeoff\n",
      "REPLICA_COUNT: 1\n",
      "SERVICE_ACCOUNT: \"520607199607-compute@developer.gserviceaccount.com\"\n",
      "\n"
     ]
    }
   ],
   "source": [
    "print(config)"
   ]
  },
  {
   "cell_type": "code",
   "execution_count": 1,
   "id": "a82fe9cc-07ff-479d-9043-58eee1ff60a8",
   "metadata": {
    "tags": []
   },
   "outputs": [
    {
     "ename": "ModuleNotFoundError",
     "evalue": "No module named 'utils'",
     "output_type": "error",
     "traceback": [
      "\u001b[0;31m---------------------------------------------------------------------------\u001b[0m",
      "\u001b[0;31mModuleNotFoundError\u001b[0m                       Traceback (most recent call last)",
      "Cell \u001b[0;32mIn[1], line 2\u001b[0m\n\u001b[1;32m      1\u001b[0m \u001b[38;5;28;01mimport\u001b[39;00m \u001b[38;5;21;01myaml\u001b[39;00m\n\u001b[0;32m----> 2\u001b[0m \u001b[38;5;28;01mfrom\u001b[39;00m \u001b[38;5;21;01mutils\u001b[39;00m \u001b[38;5;28;01mimport\u001b[39;00m gcs_read, VertexConfig\n\u001b[1;32m      5\u001b[0m BUCKET_NAME \u001b[38;5;241m=\u001b[39m \u001b[38;5;124mf\u001b[39m\u001b[38;5;124m\"\u001b[39m\u001b[38;5;132;01m{\u001b[39;00mPROJECT_ID\u001b[38;5;132;01m}\u001b[39;00m\u001b[38;5;124m-fraudfinder\u001b[39m\u001b[38;5;124m\"\u001b[39m\n\u001b[1;32m      6\u001b[0m config_path \u001b[38;5;241m=\u001b[39m \u001b[38;5;124m\"\u001b[39m\u001b[38;5;124mconfig/vertex_conf.yaml\u001b[39m\u001b[38;5;124m\"\u001b[39m\n",
      "\u001b[0;31mModuleNotFoundError\u001b[0m: No module named 'utils'"
     ]
    }
   ],
   "source": [
    "import yaml\n",
    "from utils import gcs_read, VertexConfig\n",
    "\n",
    "\n",
    "BUCKET_NAME = f\"{PROJECT_ID}-fraudfinder\"\n",
    "config_path = \"config/vertex_conf.yaml\"\n",
    "\n",
    "with gcs_read(PROJECT_ID, BUCKET_NAME, \"config/vertex_conf.yaml\").open(\"r\") as f:\n",
    "    conf = yaml.safe_load(f)\n",
    "vertex_config = VertexConfig(**conf)\n",
    "\n",
    "!gcloud ai persistent-resources describe $PERSISTENT_RESOURCE_ID --project=$PROJECT_ID --region=$PERSISTENT_RESOURCE_REGION"
   ]
  },
  {
   "cell_type": "code",
   "execution_count": null,
   "id": "9456b327-8157-4d69-8571-04c00fb01714",
   "metadata": {},
   "outputs": [],
   "source": []
  }
 ],
 "metadata": {
  "environment": {
   "kernel": "conda-base-py",
   "name": "workbench-notebooks.m125",
   "type": "gcloud",
   "uri": "us-docker.pkg.dev/deeplearning-platform-release/gcr.io/workbench-notebooks:m125"
  },
  "kernelspec": {
   "display_name": "Python 3 (ipykernel) (Local)",
   "language": "python",
   "name": "conda-base-py"
  },
  "language_info": {
   "codemirror_mode": {
    "name": "ipython",
    "version": 3
   },
   "file_extension": ".py",
   "mimetype": "text/x-python",
   "name": "python",
   "nbconvert_exporter": "python",
   "pygments_lexer": "ipython3",
   "version": "3.10.15"
  }
 },
 "nbformat": 4,
 "nbformat_minor": 5
}
