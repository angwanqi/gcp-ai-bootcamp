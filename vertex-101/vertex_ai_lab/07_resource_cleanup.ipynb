{
 "cells": [
  {
   "cell_type": "code",
   "execution_count": null,
   "metadata": {
    "id": "ur8xi4C7S06n",
    "tags": []
   },
   "outputs": [],
   "source": [
    "# Copyright 2023 Google LLC\n",
    "#\n",
    "# Licensed under the Apache License, Version 2.0 (the \"License\");\n",
    "# you may not use this file except in compliance with the License.\n",
    "# You may obtain a copy of the License at\n",
    "#\n",
    "#     https://www.apache.org/licenses/LICENSE-2.0\n",
    "#\n",
    "# Unless required by applicable law or agreed to in writing, software\n",
    "# distributed under the License is distributed on an \"AS IS\" BASIS,\n",
    "# WITHOUT WARRANTIES OR CONDITIONS OF ANY KIND, either express or implied.\n",
    "# See the License for the specific language governing permissions and\n",
    "# limitations under the License."
   ]
  },
  {
   "cell_type": "markdown",
   "metadata": {
    "id": "JAPoU8Sm5E6e"
   },
   "source": [
    "# Fraudfinder - ML Pipeline\n",
    "\n",
    "<table align=\"left\">\n",
    "  <td>\n",
    "    <a href=\"https://console.cloud.google.com/ai-platform/notebooks/deploy-notebook?download_url=https://github.com/GoogleCloudPlatform/fraudfinder/blob/main/vertex_ai/06_formalization.ipynb\">\n",
    "       <img src=\"https://www.gstatic.com/cloud/images/navigation/vertex-ai.svg\" alt=\"Google Cloud Notebooks\">Open in Cloud Notebook\n",
    "    </a>\n",
    "  </td> \n",
    "  <td>\n",
    "    <a href=\"https://colab.research.google.com/github/GoogleCloudPlatform/fraudfinder/blob/main/vertex_ai/06_formalization.ipynb\">\n",
    "      <img src=\"https://cloud.google.com/ml-engine/images/colab-logo-32px.png\" alt=\"Colab logo\"> Open in Colab\n",
    "    </a>\n",
    "  </td>\n",
    "  <td>\n",
    "    <a href=\"https://github.com/GoogleCloudPlatform/fraudfinder/blob/main/vertex_ai/06_formalization.ipynb\">\n",
    "        <img src=\"https://cloud.google.com/ml-engine/images/github-logo-32px.png\" alt=\"GitHub logo\">\n",
    "      View on GitHub\n",
    "    </a>\n",
    "  </td>\n",
    "</table>"
   ]
  },
  {
   "cell_type": "markdown",
   "metadata": {
    "id": "tvgnzT1CKxrO",
    "tags": []
   },
   "source": [
    "## Overview\n",
    "\n",
    "[Fraudfinder](https://github.com/googlecloudplatform/fraudfinder) is a series of labs on how to build a real-time fraud detection system on Google Cloud. Throughout the Fraudfinder labs, you will learn how to read historical bank transaction data stored in data warehouse, read from a live stream of new transactions, perform exploratory data analysis (EDA), do feature engineering, ingest features into a feature store, train a model using feature store, register your model in a model registry, evaluate your model, deploy your model to an endpoint, do real-time inference on your model with feature store, and monitor your model."
   ]
  },
  {
   "cell_type": "markdown",
   "metadata": {},
   "source": [
    "### Objective\n",
    "\n",
    "This notebook shows how to use Feature Store, Pipelines and Model Monitoring for building an end-to-end demo using both components defined in `google_cloud_pipeline_components` and custom components. \n",
    "\n",
    "This lab uses the following Google Cloud services and resources:\n",
    "\n",
    "- [Vertex AI](https://cloud.google.com/vertex-ai/)\n",
    "- [BigQuery](https://cloud.google.com/bigquery/)\n",
    "\n",
    "Steps performed in this notebook:\n",
    "\n",
    "* Create a Vetex AI Pipeline to orchestrate and automate the ML workflow"
   ]
  },
  {
   "cell_type": "markdown",
   "metadata": {},
   "source": [
    "### Costs"
   ]
  },
  {
   "cell_type": "markdown",
   "metadata": {},
   "source": [
    "This tutorial uses billable components of Google Cloud:\n",
    "\n",
    "* Vertex AI\n",
    "* BigQuery\n",
    "\n",
    "Learn about [Vertex AI\n",
    "pricing](https://cloud.google.com/vertex-ai/pricing), [BigQuery pricing](https://cloud.google.com/bigquery/pricing) and use the [Pricing\n",
    "Calculator](https://cloud.google.com/products/calculator/)\n",
    "to generate a cost estimate based on your projected usage."
   ]
  },
  {
   "cell_type": "markdown",
   "metadata": {},
   "source": [
    "### Load configuration settings from the setup notebook\n",
    "\n",
    "Set the constants used in this notebook and load the config settings from the `00_environment_setup.ipynb` notebook."
   ]
  },
  {
   "cell_type": "code",
   "execution_count": 1,
   "metadata": {
    "tags": []
   },
   "outputs": [],
   "source": [
    "import json\n",
    "\n",
    "try:\n",
    "    with open(\"../config_path.json\", \"r\") as f:\n",
    "        config_path = json.load(f)\n",
    "except FileNotFoundError:\n",
    "    print(\"config_path.json not found. Please make sure the file exists.\")\n",
    "    ID = None"
   ]
  },
  {
   "cell_type": "code",
   "execution_count": 2,
   "metadata": {},
   "outputs": [],
   "source": [
    "from utils import read_from_bucket, VertexConfig\n",
    "\n",
    "\n",
    "config = read_from_bucket(config_path[\"bucket\"], config_path[\"conf_uri\"])\n",
    "config = VertexConfig(**config)\n",
    "\n",
    "PROJECT_NUM = !gcloud projects list --filter=\"$config.PROJECT_ID\" --format=\"value(PROJECT_NUMBER)\"\n",
    "PROJECT_NUM = PROJECT_NUM[0]"
   ]
  },
  {
   "cell_type": "markdown",
   "metadata": {},
   "source": [
    "### Delete created Vertex AI resources"
   ]
  },
  {
   "cell_type": "markdown",
   "metadata": {},
   "source": [
    "Undeploy the model and delete the endpoint"
   ]
  },
  {
   "cell_type": "code",
   "execution_count": null,
   "metadata": {},
   "outputs": [
    {
     "name": "stdout",
     "output_type": "stream",
     "text": [
      "Deleting Endpoint : projects/401714874268/locations/us-central1/endpoints/6306461146853408768\n",
      "Endpoint deleted. . Resource name: projects/401714874268/locations/us-central1/endpoints/6306461146853408768\n",
      "Deleting Endpoint resource: projects/401714874268/locations/us-central1/endpoints/6306461146853408768\n",
      "Delete Endpoint backing LRO: projects/401714874268/locations/us-central1/operations/953613409797013504\n",
      "Endpoint resource projects/401714874268/locations/us-central1/endpoints/6306461146853408768 deleted.\n"
     ]
    }
   ],
   "source": [
    "import google.cloud.aiplatform as vertex_ai\n",
    "from google.cloud import aiplatform_v1\n",
    "from google.cloud.aiplatform_v1 import types as aip_types\n",
    "\n",
    "\n",
    "endpoint = vertex_ai.Endpoint(f\"projects/<project-num>/locations/{config.REGION}/endpoints/<endpoint-id>\")\n",
    "endpoint.undeploy(\"<model-id>\")\n",
    "endpoint.delete()"
   ]
  },
  {
   "cell_type": "markdown",
   "metadata": {},
   "source": [
    "Delete the model from registry"
   ]
  },
  {
   "cell_type": "code",
   "execution_count": null,
   "metadata": {},
   "outputs": [
    {
     "name": "stdout",
     "output_type": "stream",
     "text": [
      "Deleting Model : projects/401714874268/locations/us-central1/models/5590448179729399808\n",
      "Model deleted. . Resource name: projects/401714874268/locations/us-central1/models/5590448179729399808\n",
      "Deleting Model resource: projects/401714874268/locations/us-central1/models/5590448179729399808\n",
      "Delete Model backing LRO: projects/401714874268/locations/us-central1/models/5590448179729399808/operations/8651391072880033792\n",
      "Model resource projects/401714874268/locations/us-central1/models/5590448179729399808 deleted.\n"
     ]
    }
   ],
   "source": [
    "model = vertex_ai.Model(f\"projects/<project-num>/locations/{config.REGION}/models/<model-id>\")\n",
    "model.delete()"
   ]
  },
  {
   "cell_type": "markdown",
   "metadata": {},
   "source": [
    "Remove the experiment"
   ]
  },
  {
   "cell_type": "code",
   "execution_count": null,
   "metadata": {},
   "outputs": [
    {
     "name": "stdout",
     "output_type": "stream",
     "text": [
      "Deleting Context : projects/401714874268/locations/us-central1/metadataStores/default/contexts/ff-experiment-ucx2v\n",
      "Context deleted. . Resource name: projects/401714874268/locations/us-central1/metadataStores/default/contexts/ff-experiment-ucx2v\n",
      "Deleting Context resource: projects/401714874268/locations/us-central1/metadataStores/default/contexts/ff-experiment-ucx2v\n",
      "Delete Context backing LRO: projects/401714874268/locations/us-central1/metadataStores/default/contexts/ff-experiment-ucx2v/operations/8383426895051489280\n",
      "Context resource projects/401714874268/locations/us-central1/metadataStores/default/contexts/ff-experiment-ucx2v deleted.\n"
     ]
    }
   ],
   "source": [
    "experiments = vertex_ai.Experiment(experiment_name=config.EXPERIMENT_NAME, project=config.PROJECT_ID, location=config.REGION)\n",
    "experiments.delete(delete_backing_tensorboard_runs=True)"
   ]
  },
  {
   "cell_type": "markdown",
   "metadata": {},
   "source": [
    "Delete the dataset"
   ]
  },
  {
   "cell_type": "code",
   "execution_count": null,
   "metadata": {},
   "outputs": [
    {
     "name": "stdout",
     "output_type": "stream",
     "text": [
      "Deleting TabularDataset : projects/401714874268/locations/us-central1/datasets/5726527587073654784\n",
      "TabularDataset deleted. . Resource name: projects/401714874268/locations/us-central1/datasets/5726527587073654784\n",
      "Deleting TabularDataset resource: projects/401714874268/locations/us-central1/datasets/5726527587073654784\n",
      "Delete TabularDataset backing LRO: projects/401714874268/locations/us-central1/operations/2832740354317352960\n",
      "TabularDataset resource projects/401714874268/locations/us-central1/datasets/5726527587073654784 deleted.\n"
     ]
    }
   ],
   "source": [
    "dataset = vertex_ai.TabularDataset(f\"projects/<project-num>/locations/{config.REGION}/datasets/<dataset-id>\")\n",
    "dataset.delete()"
   ]
  },
  {
   "cell_type": "markdown",
   "metadata": {},
   "source": [
    "Delete the feature store and feature groups"
   ]
  },
  {
   "cell_type": "code",
   "execution_count": null,
   "metadata": {},
   "outputs": [],
   "source": [
    "client_options = {\"api_endpoint\": f\"{config.REGION}-aiplatform.googleapis.com\"}\n",
    "client = aiplatform_v1.FeatureOnlineStoreAdminServiceClient(client_options=client_options)\n",
    "delete_fv_req = aip_types.DeleteFeatureViewRequest(name=f\"projects/{config.PROJECT_ID}/locations/{config.REGION}/featureOnlineStores/{config.FEATURESTORE_ID}/featureViews/{config.FEATUREVIEW_ID}\")\n",
    "client.delete_feature_view(request=delete_fv_req)\n",
    "\n",
    "delete_os_rq = aip_types.DeleteFeatureOnlineStoreRequest(name=f\"projects/{config.PROJECT_ID}/locations/{config.REGION}/featureOnlineStores/{config.FEATURESTORE_ID}\")\n",
    "client.delete_feature_online_store(request=delete_os_rq)"
   ]
  },
  {
   "cell_type": "code",
   "execution_count": null,
   "metadata": {},
   "outputs": [
    {
     "data": {
      "text/plain": [
       "<google.api_core.operation.Operation at 0x7f7ea6be70e0>"
      ]
     },
     "execution_count": 28,
     "metadata": {},
     "output_type": "execute_result"
    }
   ],
   "source": [
    "# force delete feature group will delete every mapping it has\n",
    "client = aiplatform_v1.FeatureRegistryServiceClient(client_options=client_options)\n",
    "delete_fg_req = aip_types.DeleteFeatureGroupRequest(name=f\"projects/{config.PROJECT_ID}/locations/{config.REGION}/featureGroups/{config.TERMINAL_ENTITY_ID}\", force=True)\n",
    "client.delete_feature_group(request=delete_fg_req)\n",
    "delete_fg_req = aip_types.DeleteFeatureGroupRequest(name=f\"projects/{config.PROJECT_ID}/locations/{config.REGION}/featureGroups/{config.CUSTOMER_ENTITY_ID}\", force=True)\n",
    "client.delete_feature_group(request=delete_fg_req)"
   ]
  },
  {
   "cell_type": "markdown",
   "metadata": {},
   "source": [
    "### Delete BQ datasets"
   ]
  },
  {
   "cell_type": "code",
   "execution_count": 33,
   "metadata": {},
   "outputs": [],
   "source": [
    "from google.cloud import bigquery\n",
    "\n",
    "client = bigquery.Client()\n",
    "client.delete_dataset(dataset=f\"{config.PROJECT_ID}.tx\", delete_contents=True, not_found_ok=True)\n",
    "client.delete_dataset(dataset=f\"{config.PROJECT_ID}.demographics\", delete_contents=True, not_found_ok=True)"
   ]
  },
  {
   "cell_type": "markdown",
   "metadata": {},
   "source": [
    "### END"
   ]
  }
 ],
 "metadata": {
  "colab": {
   "collapsed_sections": [],
   "name": "notebook_template.ipynb",
   "toc_visible": true
  },
  "environment": {
   "kernel": "conda-base-py",
   "name": "workbench-notebooks.m125",
   "type": "gcloud",
   "uri": "us-docker.pkg.dev/deeplearning-platform-release/gcr.io/workbench-notebooks:m125"
  },
  "kernelspec": {
   "display_name": ".venv",
   "language": "python",
   "name": "python3"
  },
  "language_info": {
   "codemirror_mode": {
    "name": "ipython",
    "version": 3
   },
   "file_extension": ".py",
   "mimetype": "text/x-python",
   "name": "python",
   "nbconvert_exporter": "python",
   "pygments_lexer": "ipython3",
   "version": "3.12.10"
  },
  "toc-autonumbering": false,
  "toc-showmarkdowntxt": true
 },
 "nbformat": 4,
 "nbformat_minor": 4
}
