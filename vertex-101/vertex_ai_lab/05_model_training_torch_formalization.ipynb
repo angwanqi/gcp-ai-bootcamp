{
 "cells": [
  {
   "cell_type": "code",
   "execution_count": null,
   "metadata": {
    "id": "ur8xi4C7S06n"
   },
   "outputs": [],
   "source": [
    "# Copyright 2023 Google LLC\n",
    "#\n",
    "# Licensed under the Apache License, Version 2.0 (the \"License\");\n",
    "# you may not use this file except in compliance with the License.\n",
    "# You may obtain a copy of the License at\n",
    "#\n",
    "#     https://www.apache.org/licenses/LICENSE-2.0\n",
    "#\n",
    "# Unless required by applicable law or agreed to in writing, software\n",
    "# distributed under the License is distributed on an \"AS IS\" BASIS,\n",
    "# WITHOUT WARRANTIES OR CONDITIONS OF ANY KIND, either express or implied.\n",
    "# See the License for the specific language governing permissions and\n",
    "# limitations under the License."
   ]
  },
  {
   "cell_type": "markdown",
   "metadata": {},
   "source": [
    "# Fraudfinder - Model training and deployment using Vertex AI\n",
    "\n",
    "<table align=\"left\">\n",
    "  <td>\n",
    "    <a href=\"https://console.cloud.google.com/ai-platform/notebooks/deploy-notebook?download_url=https://github.com/GoogleCloudPlatform/fraudfinder/blob/main/vertex_ai/05_model_training_xgboost_formalization.ipynb\">\n",
    "       <img src=\"https://www.gstatic.com/cloud/images/navigation/vertex-ai.svg\" alt=\"Google Cloud Notebooks\">Open in Cloud Notebook\n",
    "    </a>\n",
    "  </td> \n",
    "  <td>\n",
    "    <a href=\"https://colab.research.google.com/github/GoogleCloudPlatform/fraudfinder/blob/main/vertex_ai/05_model_training_xgboost_formalization.ipynb\">\n",
    "      <img src=\"https://cloud.google.com/ml-engine/images/colab-logo-32px.png\" alt=\"Colab logo\"> Open in Colab\n",
    "    </a>\n",
    "  </td>\n",
    "  <td>\n",
    "    <a href=\"https://github.com/GoogleCloudPlatform/fraudfinder/blob/main/vertex_ai/05_model_training_xgboost_formalization.ipynb\">\n",
    "        <img src=\"https://cloud.google.com/ml-engine/images/github-logo-32px.png\" alt=\"GitHub logo\">\n",
    "      View on GitHub\n",
    "    </a>\n",
    "  </td>\n",
    "</table>"
   ]
  },
  {
   "cell_type": "markdown",
   "metadata": {},
   "source": [
    "### Load configuration settings from the setup notebook\n",
    "\n",
    "Set the constants used in this notebook and load the config settings from the `00_environment_setup.ipynb` notebook."
   ]
  },
  {
   "cell_type": "markdown",
   "metadata": {
    "id": "tvgnzT1CKxrO"
   },
   "source": [
    "## Overview\n",
    "\n",
    "[Fraudfinder](https://github.com/googlecloudplatform/fraudfinder) is a series of labs on how to build a real-time fraud detection system on Google Cloud. Throughout the Fraudfinder labs, you will learn how to read historical bank transaction data stored in data warehouse, read from a live stream of new transactions, perform exploratory data analysis (EDA), do feature engineering, ingest features into a feature store, train a model using feature store, register your model in a model registry, evaluate your model, deploy your model to an endpoint, do real-time inference on your model with feature store, and monitor your model.\n",
    "\n",
    "### Objective\n",
    "\n",
    "In the following notebook, you will learn how to:\n",
    "\n",
    "* Build a Vertex AI dataset\n",
    "* Build a Docker container and train a custom Pytorch model using Vertex AI\n",
    "* Evaluate the model locally\n",
    "* Deploy the model to Vertex AI as an endpoint. \n",
    "\n",
    "This tutorial uses the following Google Cloud data analytics and services:\n",
    "\n",
    "- [BigQuery](https://cloud.google.com/bigquery/)\n",
    "- [Vertex AI](https://cloud.google.com/vertex-ai/)\n",
    "\n",
    "### Costs \n",
    "\n",
    "This tutorial uses billable components of Google Cloud:\n",
    "\n",
    "* BigQuery\n",
    "* Vertex AI\n",
    "\n",
    "Learn about [BigQuery Pricing](https://cloud.google.com/bigquery/pricing), [Vertex AI pricing](https://cloud.google.com/vertex-ai/pricing), and use the [Pricing Calculator](https://cloud.google.com/products/calculator/) to generate a cost estimate based on your projected usage."
   ]
  },
  {
   "cell_type": "markdown",
   "metadata": {},
   "source": [
    "## ***Load old config, and create a new one."
   ]
  },
  {
   "cell_type": "code",
   "execution_count": 1,
   "metadata": {
    "tags": []
   },
   "outputs": [],
   "source": [
    "import json\n",
    "\n",
    "try:\n",
    "    with open(\"../config_path.json\", \"r\") as f:\n",
    "        config_path = json.load(f)\n",
    "except FileNotFoundError:\n",
    "    print(\"config_path.json not found. Please make sure the file exists.\")\n",
    "    ID = None"
   ]
  },
  {
   "cell_type": "code",
   "execution_count": 2,
   "metadata": {
    "tags": []
   },
   "outputs": [],
   "source": [
    "from utils import read_from_bucket, VertexConfig\n",
    "\n",
    "\n",
    "config = read_from_bucket(config_path[\"bucket\"], config_path[\"conf_uri\"])\n",
    "config = VertexConfig(**config)\n",
    "\n",
    "PROJECT_NUM = !gcloud projects list --filter=\"$config.PROJECT_ID\" --format=\"value(PROJECT_NUMBER)\"\n",
    "PROJECT_NUM = PROJECT_NUM[0]"
   ]
  },
  {
   "cell_type": "markdown",
   "metadata": {
    "id": "XoEqT2Y4DJmf"
   },
   "source": [
    "### Import libraries"
   ]
  },
  {
   "cell_type": "code",
   "execution_count": 4,
   "metadata": {
    "id": "pRUOFELefqf1",
    "tags": []
   },
   "outputs": [],
   "source": [
    "# General\n",
    "import os\n",
    "from typing import Union\n",
    "from datetime import datetime, timedelta\n",
    "\n",
    "# Data Preprocessing\n",
    "import pandas as pd\n",
    "\n",
    "# Model Training with Vertex AI\n",
    "from google.cloud import bigquery\n",
    "\n",
    "# Model Deployment and Evaluation\n",
    "from sklearn.metrics import precision_recall_fscore_support"
   ]
  },
  {
   "cell_type": "markdown",
   "metadata": {},
   "source": [
    "### Define constants"
   ]
  },
  {
   "cell_type": "code",
   "execution_count": 5,
   "metadata": {
    "tags": []
   },
   "outputs": [],
   "source": [
    "# General\n",
    "import os\n",
    "\n",
    "\n",
    "DATA_DIR = os.path.join(os.pardir, \"data\")\n",
    "TRAIN_DATA_DIR = os.path.join(DATA_DIR, \"train\")\n",
    "os.makedirs(TRAIN_DATA_DIR, exist_ok=True)\n",
    "\n",
    "# Feature Store\n",
    "START_DATE_TRAIN = (datetime.today() - timedelta(days=1)).strftime(\"%Y-%m-%d\")"
   ]
  },
  {
   "cell_type": "markdown",
   "metadata": {
    "id": "XoEqT2Y4DJmf"
   },
   "source": [
    "### Initialize Vertex AI SDK and BigQuery Client for Python"
   ]
  },
  {
   "cell_type": "code",
   "execution_count": 6,
   "metadata": {
    "tags": []
   },
   "outputs": [],
   "source": [
    "bq_client = bigquery.Client(project=config.PROJECT_ID, location=config.REGION)"
   ]
  },
  {
   "cell_type": "code",
   "execution_count": 7,
   "metadata": {
    "tags": []
   },
   "outputs": [],
   "source": [
    "# Dynamically retrieve Persistent Resource location\n",
    "PERSISTENT_RESOURCE_REGION = \"\"\n",
    "check_regions = [\"us-central1\", \"asia-southeast1\", \"europe-west4\"]\n",
    "\n",
    "for region in check_regions:\n",
    "    shell_output = !gcloud ai persistent-resources list --project=$config.PROJECT_ID --region=$region\n",
    "    if \"Listed 0 items.\" not in shell_output:\n",
    "        print(f\"Persistent Resource found in {region}\")\n",
    "        PERSISTENT_RESOURCE_REGION = region"
   ]
  },
  {
   "cell_type": "code",
   "execution_count": 8,
   "metadata": {},
   "outputs": [
    {
     "data": {
      "text/plain": [
       "''"
      ]
     },
     "execution_count": 8,
     "metadata": {},
     "output_type": "execute_result"
    }
   ],
   "source": [
    "PERSISTENT_RESOURCE_REGION"
   ]
  },
  {
   "cell_type": "code",
   "execution_count": 9,
   "metadata": {
    "tags": []
   },
   "outputs": [
    {
     "name": "stdout",
     "output_type": "stream",
     "text": [
      "MACHINE_TYPE not found in output.\n",
      "REPLICA_COUNT not found in output.\n",
      "ACCELERATOR COUNT not found in output.\n",
      "ACCELERATOR TYPE not found in output.\n"
     ]
    }
   ],
   "source": [
    "import re\n",
    "\n",
    "DESCRIBE_PR_OUTPUT = !gcloud ai persistent-resources describe $config.PERSISTENT_RESOURCE_ID --project=$config.PROJECT_ID --region=$PERSISTENT_RESOURCE_REGION\n",
    "#print(DESCRIBE_PR_OUTPUT) \n",
    "\n",
    "# Join the output lines with spaces\n",
    "PR_DETAILS = \" \".join(DESCRIBE_PR_OUTPUT)  \n",
    "\n",
    "# Extract machine type\n",
    "match = re.search(r\"machineType: (\\w+-\\w+-\\w+)\", PR_DETAILS)\n",
    "if match:\n",
    "    MACHINE_TYPE = match.group(1)\n",
    "    print(f\"MACHINE_TYPE: {MACHINE_TYPE}\")\n",
    "else:\n",
    "    MACHINE_TYPE = config.TRAIN_COMPUTE\n",
    "    print(\"MACHINE_TYPE not found in output.\")\n",
    "\n",
    "# Extract replica count\n",
    "match = re.search(r\"replicaCount: '(\\d+)'\", PR_DETAILS)\n",
    "if match:\n",
    "    REPLICA_COUNT = int(match.group(1))\n",
    "    print(f\"REPLICA_COUNT: {REPLICA_COUNT}\")\n",
    "else:\n",
    "    REPLICA_COUNT = config.REPLICA_COUNT\n",
    "    print(\"REPLICA_COUNT not found in output.\")\n",
    "    \n",
    "# Extract Accelerator Count\n",
    "match = re.search(r\"acceleratorCount: (\\d+)\", PR_DETAILS)\n",
    "if match:\n",
    "    ACCELERATOR_COUNT = int(match.group(1))\n",
    "    print(f\"ACCELERATOR COUNT: {ACCELERATOR_COUNT}\")\n",
    "else:\n",
    "    ACCELERATOR_COUNT = 0\n",
    "    print(\"ACCELERATOR COUNT not found in output.\")\n",
    "\n",
    "# Extract Accelerator Type\n",
    "match = re.search(r\"acceleratorType: (\\w+)\", PR_DETAILS)\n",
    "if match:\n",
    "    ACCELERATOR_TYPE = match.group(1)\n",
    "    print(f\"ACCELERATOR TYPE: {ACCELERATOR_TYPE}\")\n",
    "else:\n",
    "    ACCELERATOR_TYPE = \"ACCELERATOR_TYPE_UNSPECIFIED\"\n",
    "    print(\"ACCELERATOR TYPE not found in output.\")"
   ]
  },
  {
   "cell_type": "code",
   "execution_count": 10,
   "metadata": {
    "tags": []
   },
   "outputs": [
    {
     "data": {
      "text/html": [
       "\n",
       "        \n",
       "    <link rel=\"stylesheet\" href=\"https://fonts.googleapis.com/icon?family=Material+Icons\">\n",
       "    <style>\n",
       "      .view-vertex-resource,\n",
       "      .view-vertex-resource:hover,\n",
       "      .view-vertex-resource:visited {\n",
       "        position: relative;\n",
       "        display: inline-flex;\n",
       "        flex-direction: row;\n",
       "        height: 32px;\n",
       "        padding: 0 12px;\n",
       "          margin: 4px 18px;\n",
       "        gap: 4px;\n",
       "        border-radius: 4px;\n",
       "\n",
       "        align-items: center;\n",
       "        justify-content: center;\n",
       "        background-color: rgb(255, 255, 255);\n",
       "        color: rgb(51, 103, 214);\n",
       "\n",
       "        font-family: Roboto,\"Helvetica Neue\",sans-serif;\n",
       "        font-size: 13px;\n",
       "        font-weight: 500;\n",
       "        text-transform: uppercase;\n",
       "        text-decoration: none !important;\n",
       "\n",
       "        transition: box-shadow 280ms cubic-bezier(0.4, 0, 0.2, 1) 0s;\n",
       "        box-shadow: 0px 3px 1px -2px rgba(0,0,0,0.2), 0px 2px 2px 0px rgba(0,0,0,0.14), 0px 1px 5px 0px rgba(0,0,0,0.12);\n",
       "      }\n",
       "      .view-vertex-resource:active {\n",
       "        box-shadow: 0px 5px 5px -3px rgba(0,0,0,0.2),0px 8px 10px 1px rgba(0,0,0,0.14),0px 3px 14px 2px rgba(0,0,0,0.12);\n",
       "      }\n",
       "      .view-vertex-resource:active .view-vertex-ripple::before {\n",
       "        position: absolute;\n",
       "        top: 0;\n",
       "        bottom: 0;\n",
       "        left: 0;\n",
       "        right: 0;\n",
       "        border-radius: 4px;\n",
       "        pointer-events: none;\n",
       "\n",
       "        content: '';\n",
       "        background-color: rgb(51, 103, 214);\n",
       "        opacity: 0.12;\n",
       "      }\n",
       "      .view-vertex-icon {\n",
       "        font-size: 18px;\n",
       "      }\n",
       "    </style>\n",
       "  \n",
       "        <a class=\"view-vertex-resource\" id=\"view-vertex-resource-0351dc5b-0886-4dff-abff-dd95569812a2\" href=\"#view-view-vertex-resource-0351dc5b-0886-4dff-abff-dd95569812a2\">\n",
       "          <span class=\"material-icons view-vertex-icon\">science</span>\n",
       "          <span>View Experiment</span>\n",
       "        </a>\n",
       "        \n",
       "        <script>\n",
       "          (function () {\n",
       "            const link = document.getElementById('view-vertex-resource-0351dc5b-0886-4dff-abff-dd95569812a2');\n",
       "            link.addEventListener('click', (e) => {\n",
       "              if (window.google?.colab?.openUrl) {\n",
       "                window.google.colab.openUrl('https://console.cloud.google.com/vertex-ai/experiments/locations/us-central1/experiments/ff-experiment-h7ivo/runs?project=ai-takeoff-terraform');\n",
       "              } else {\n",
       "                window.open('https://console.cloud.google.com/vertex-ai/experiments/locations/us-central1/experiments/ff-experiment-h7ivo/runs?project=ai-takeoff-terraform', '_blank');\n",
       "              }\n",
       "              e.stopPropagation();\n",
       "              e.preventDefault();\n",
       "            });\n",
       "          })();\n",
       "        </script>\n",
       "    "
      ],
      "text/plain": [
       "<IPython.core.display.HTML object>"
      ]
     },
     "metadata": {},
     "output_type": "display_data"
    }
   ],
   "source": [
    "from google.cloud import aiplatform as vertex_ai\n",
    "\n",
    "\n",
    "# Set the default region for launching jobs.\n",
    "REGION = PERSISTENT_RESOURCE_REGION\n",
    "\n",
    "vertex_ai.init(\n",
    "    project=config.PROJECT_ID,\n",
    "    location=REGION,\n",
    "    staging_bucket=config.BUCKET_NAME,\n",
    "    experiment=config.EXPERIMENT_NAME,\n",
    ")"
   ]
  },
  {
   "cell_type": "markdown",
   "metadata": {},
   "source": [
    "### Helper Functions\n",
    "You will now run some helper functions that we will use throughout the notebook."
   ]
  },
  {
   "cell_type": "markdown",
   "metadata": {},
   "source": [
    "We're also using the BigQuery helper function. "
   ]
  },
  {
   "cell_type": "code",
   "execution_count": 12,
   "metadata": {
    "tags": []
   },
   "outputs": [],
   "source": [
    "# Wrapper to use BigQuery client to run query/job, return job ID or result as DF\n",
    "def run_bq_query(sql: str) -> Union[str, pd.DataFrame]:\n",
    "    \"\"\"\n",
    "    Run a BigQuery query and return the job ID or result as a DataFrame\n",
    "    Args:\n",
    "        sql: SQL query, as a string, to execute in BigQuery\n",
    "    Returns:\n",
    "        df: DataFrame of results from query,  or error, if any\n",
    "    \"\"\"\n",
    "\n",
    "    bq_client = bigquery.Client()\n",
    "\n",
    "    # Try dry run before executing query to catch any errors\n",
    "    job_config = bigquery.QueryJobConfig(dry_run=True, use_query_cache=False)\n",
    "    bq_client.query(sql, job_config=job_config)\n",
    "\n",
    "    # If dry run succeeds without errors, proceed to run query\n",
    "    job_config = bigquery.QueryJobConfig()\n",
    "    client_result = bq_client.query(sql, job_config=job_config)\n",
    "\n",
    "    job_id = client_result.job_id\n",
    "\n",
    "    # Wait for query/job to finish running. then get & return data frame\n",
    "    df = client_result.result().to_arrow().to_pandas()\n",
    "    print(f\"Finished job_id: {job_id}\")\n",
    "    return df"
   ]
  },
  {
   "cell_type": "markdown",
   "metadata": {
    "tags": []
   },
   "source": [
    "## Fetching feature values for model training\n",
    "\n",
    "To fetch training data, we have to specify the following inputs to batch serving:\n",
    "\n",
    "- a file containing a \"query\", with the entities and timestamps for each label\n",
    "- a list of feature values to fetch\n",
    "- the destination location and format\n"
   ]
  },
  {
   "cell_type": "markdown",
   "metadata": {},
   "source": [
    "### Read-instance list\n",
    "\n",
    "In our case, we need a csv file with content formatted like the table below:\n",
    "\n",
    "|customer                     |terminal|timestamp                                    |\n",
    "|-----------------------------|--------|---------------------------------------------|\n",
    "|xxx3859                         |xxx8811    |2021-07-07 00:01:10 UTC                      |\n",
    "|xxx4165                         |xxx8810    |2021-07-07 00:01:55 UTC                      |\n",
    "|xxx2289                         |xxx2081    |2021-07-07 00:02:12 UTC                      |\n",
    "|xxx3227                         |xxx3011    |2021-07-07 00:03:23 UTC                      |\n",
    "|xxx2819                         |xxx6263    |2021-07-07 00:05:30 UTC                      |\n",
    "\n",
    "where the column names are the names of entities in Feature Store and the timestamps represents the time an event occurred."
   ]
  },
  {
   "cell_type": "code",
   "execution_count": 13,
   "metadata": {
    "tags": []
   },
   "outputs": [
    {
     "name": "stdout",
     "output_type": "stream",
     "text": [
      "Finished job_id: 5ee79818-8fcb-4f5c-9aef-0f749e55186b\n"
     ]
    },
    {
     "data": {
      "text/html": [
       "<div>\n",
       "<style scoped>\n",
       "    .dataframe tbody tr th:only-of-type {\n",
       "        vertical-align: middle;\n",
       "    }\n",
       "\n",
       "    .dataframe tbody tr th {\n",
       "        vertical-align: top;\n",
       "    }\n",
       "\n",
       "    .dataframe thead th {\n",
       "        text-align: right;\n",
       "    }\n",
       "</style>\n",
       "<table border=\"1\" class=\"dataframe\">\n",
       "  <thead>\n",
       "    <tr style=\"text-align: right;\">\n",
       "      <th></th>\n",
       "      <th>timestamp</th>\n",
       "      <th>customer_id</th>\n",
       "      <th>terminal_id</th>\n",
       "      <th>tx_amount</th>\n",
       "      <th>tx_fraud</th>\n",
       "    </tr>\n",
       "  </thead>\n",
       "  <tbody>\n",
       "    <tr>\n",
       "      <th>0</th>\n",
       "      <td>2025-05-11 09:40:00+00:00</td>\n",
       "      <td>9992872597999278</td>\n",
       "      <td>00064542</td>\n",
       "      <td>64.070000000</td>\n",
       "      <td>0</td>\n",
       "    </tr>\n",
       "    <tr>\n",
       "      <th>1</th>\n",
       "      <td>2025-05-11 16:01:49+00:00</td>\n",
       "      <td>4428639496183819</td>\n",
       "      <td>00064542</td>\n",
       "      <td>94.450000000</td>\n",
       "      <td>0</td>\n",
       "    </tr>\n",
       "    <tr>\n",
       "      <th>2</th>\n",
       "      <td>2025-05-11 19:57:47+00:00</td>\n",
       "      <td>7878608710789540</td>\n",
       "      <td>00064542</td>\n",
       "      <td>29.670000000</td>\n",
       "      <td>0</td>\n",
       "    </tr>\n",
       "    <tr>\n",
       "      <th>3</th>\n",
       "      <td>2025-05-11 06:00:47+00:00</td>\n",
       "      <td>8090273384298979</td>\n",
       "      <td>00064542</td>\n",
       "      <td>19.040000000</td>\n",
       "      <td>0</td>\n",
       "    </tr>\n",
       "  </tbody>\n",
       "</table>\n",
       "</div>"
      ],
      "text/plain": [
       "                  timestamp       customer_id terminal_id     tx_amount  \\\n",
       "0 2025-05-11 09:40:00+00:00  9992872597999278    00064542  64.070000000   \n",
       "1 2025-05-11 16:01:49+00:00  4428639496183819    00064542  94.450000000   \n",
       "2 2025-05-11 19:57:47+00:00  7878608710789540    00064542  29.670000000   \n",
       "3 2025-05-11 06:00:47+00:00  8090273384298979    00064542  19.040000000   \n",
       "\n",
       "   tx_fraud  \n",
       "0         0  \n",
       "1         0  \n",
       "2         0  \n",
       "3         0  "
      ]
     },
     "execution_count": 13,
     "metadata": {},
     "output_type": "execute_result"
    }
   ],
   "source": [
    "read_instances_query = f\"\"\"\n",
    "    SELECT\n",
    "        gt.timestamp,\n",
    "        gt.customer_id,\n",
    "        gt.terminal_id,\n",
    "        gt.tx_amount,\n",
    "        gt.tx_fraud,\n",
    "    FROM \n",
    "        `{config.PROJECT_ID}.tx.{config.READ_INSTANCES_TABLE}` as gt;\n",
    "\"\"\"\n",
    "\n",
    "query_df = run_bq_query(read_instances_query)\n",
    "query_df.head(4)"
   ]
  },
  {
   "cell_type": "markdown",
   "metadata": {},
   "source": [
    "### Get Feature Store historical training data\n",
    "repeat what you have done in previous module."
   ]
  },
  {
   "cell_type": "markdown",
   "metadata": {},
   "source": [
    "Next fetch a batch of data from the Vertex AI Feature Store. "
   ]
  },
  {
   "cell_type": "code",
   "execution_count": 14,
   "metadata": {
    "tags": []
   },
   "outputs": [
    {
     "data": {
      "text/html": [
       "Query job 6793a328-ea4e-453c-8778-5a1b0966ab0e is DONE. 0 Bytes processed. <a target=\"_blank\" href=\"https://console.cloud.google.com/bigquery?project=ai-takeoff-terraform&j=bq:us-central1:6793a328-ea4e-453c-8778-5a1b0966ab0e&page=queryresults\">Open Job</a>"
      ],
      "text/plain": [
       "<IPython.core.display.HTML object>"
      ]
     },
     "metadata": {},
     "output_type": "display_data"
    },
    {
     "data": {
      "text/html": [
       "Load job be700b64-deea-4d6f-af87-e855b4731b5c is DONE. <a target=\"_blank\" href=\"https://console.cloud.google.com/bigquery?project=ai-takeoff-terraform&j=bq:us-central1:be700b64-deea-4d6f-af87-e855b4731b5c&page=queryresults\">Open Job</a>"
      ],
      "text/plain": [
       "<IPython.core.display.HTML object>"
      ]
     },
     "metadata": {},
     "output_type": "display_data"
    },
    {
     "data": {
      "text/html": [
       "Query job 2b3ff2f9-49e4-47e4-8ba7-861eb4ef23af is DONE. 385.8 MB processed. <a target=\"_blank\" href=\"https://console.cloud.google.com/bigquery?project=ai-takeoff-terraform&j=bq:us-central1:2b3ff2f9-49e4-47e4-8ba7-861eb4ef23af&page=queryresults\">Open Job</a>"
      ],
      "text/plain": [
       "<IPython.core.display.HTML object>"
      ]
     },
     "metadata": {},
     "output_type": "display_data"
    }
   ],
   "source": [
    "import bigframes\n",
    "import bigframes.pandas\n",
    "from vertexai.resources.preview.feature_store import FeatureGroup, offline_store\n",
    "\n",
    "\n",
    "customer_fg = FeatureGroup(name=config.CUSTOMER_ENTITY_ID)\n",
    "customer_features_str = [\n",
    "    \"customer_id_nb_tx_1day_window\",\n",
    "    \"customer_id_nb_tx_7day_window\",\n",
    "    \"customer_id_nb_tx_14day_window\",\n",
    "    \"customer_id_avg_amount_1day_window\",\n",
    "    \"customer_id_avg_amount_7day_window\",\n",
    "    \"customer_id_avg_amount_14day_window\",\n",
    "    \"customer_id_nb_tx_15min_window\",\n",
    "    \"customer_id_nb_tx_30min_window\",\n",
    "    \"customer_id_nb_tx_60min_window\",\n",
    "    \"customer_id_avg_amount_15min_window\",\n",
    "    \"customer_id_avg_amount_30min_window\",\n",
    "    \"customer_id_avg_amount_60min_window\",\n",
    "]\n",
    "customer_features = [customer_fg.get_feature(c_feat) for c_feat in customer_features_str]\n",
    "terminal_fg = FeatureGroup(name=config.TERMINAL_ENTITY_ID)\n",
    "terminal_features_str = [\n",
    "    \"terminal_id_nb_tx_1day_window\",\n",
    "    \"terminal_id_nb_tx_7day_window\",\n",
    "    \"terminal_id_nb_tx_14day_window\",\n",
    "    \"terminal_id_risk_1day_window\",\n",
    "    \"terminal_id_risk_7day_window\",\n",
    "    \"terminal_id_risk_14day_window\",\n",
    "    \"terminal_id_nb_tx_15min_window\",\n",
    "    \"terminal_id_nb_tx_30min_window\",\n",
    "    \"terminal_id_nb_tx_60min_window\",\n",
    "    \"terminal_id_avg_amount_15min_window\",\n",
    "    \"terminal_id_avg_amount_30min_window\",\n",
    "    \"terminal_id_avg_amount_60min_window\",\n",
    "]\n",
    "terminal_features = [terminal_fg.get_feature(t_feat) for t_feat in terminal_features_str]\n",
    "sample_df = offline_store.fetch_historical_feature_values(\n",
    "    entity_df=query_df,\n",
    "    features=customer_features + terminal_features,\n",
    ")\n",
    "sample_df = sample_df.to_pandas()"
   ]
  },
  {
   "cell_type": "markdown",
   "metadata": {},
   "source": [
    "Now you will create a copy of the training data in your local notebook instance so that you can use it later for testing the model."
   ]
  },
  {
   "cell_type": "code",
   "execution_count": 26,
   "metadata": {},
   "outputs": [],
   "source": [
    "# Save the data to both gcs and local\n",
    "import io\n",
    "from utils import gcs_write\n",
    "\n",
    "\n",
    "csv_io = io.StringIO()\n",
    "sample_df.to_csv(csv_io, index=False)\n",
    "gcs_write(config.PROJECT_ID, config.BUCKET_NAME, config.TRAIN_DATA_URI, csv_io)\n",
    "sample_df.to_csv(os.path.join(TRAIN_DATA_DIR, \"train.csv\"), index=False)"
   ]
  },
  {
   "cell_type": "markdown",
   "metadata": {},
   "source": [
    "Exporting the features into cloud storage will generate a csv file. Let's list the local file:"
   ]
  },
  {
   "cell_type": "code",
   "execution_count": 44,
   "metadata": {
    "tags": []
   },
   "outputs": [
    {
     "name": "stdout",
     "output_type": "stream",
     "text": [
      "train.csv\n"
     ]
    }
   ],
   "source": [
    "!ls $TRAIN_DATA_DIR"
   ]
  },
  {
   "cell_type": "markdown",
   "metadata": {},
   "source": [
    "## Building a fraud detection model using Vertex AI custom training"
   ]
  },
  {
   "cell_type": "markdown",
   "metadata": {},
   "source": [
    "#### Building a Vertex AI dataset\n",
    "In this section, you will create a managed [Vertex AI dataset](https://cloud.google.com/vertex-ai/docs/training/using-managed-datasets). Vertex AI datasets can be used to train AutoML models or custom-trained models.  "
   ]
  },
  {
   "cell_type": "code",
   "execution_count": 43,
   "metadata": {
    "tags": []
   },
   "outputs": [
    {
     "data": {
      "text/plain": [
       "['gs://ai-takeoff-2025-fraudfinder-lh9ca/data/train.csv']"
      ]
     },
     "execution_count": 43,
     "metadata": {},
     "output_type": "execute_result"
    }
   ],
   "source": [
    "# retrieve list of local files\n",
    "flist = !ls $TRAIN_DATA_DIR\n",
    "obj_list = [os.path.join(\"gs://\", config.BUCKET_NAME, config.TRAIN_DATA_URI) for fname in flist]\n",
    "obj_list"
   ]
  },
  {
   "cell_type": "code",
   "execution_count": 32,
   "metadata": {
    "tags": []
   },
   "outputs": [
    {
     "name": "stdout",
     "output_type": "stream",
     "text": [
      "Creating TabularDataset\n",
      "Create TabularDataset backing LRO: projects/401714874268/locations/us-central1/datasets/8210830129568415744/operations/3967038605850836992\n",
      "TabularDataset created. Resource name: projects/401714874268/locations/us-central1/datasets/8210830129568415744\n",
      "To use this TabularDataset in another session:\n",
      "ds = aiplatform.TabularDataset('projects/401714874268/locations/us-central1/datasets/8210830129568415744')\n",
      "Dataset: fraud_finder_dataset_lh9ca\n",
      "Name: \t projects/401714874268/locations/us-central1/datasets/8210830129568415744\n"
     ]
    }
   ],
   "source": [
    "# create Vertex AI managed dataset\n",
    "dataset = vertex_ai.TabularDataset.create(\n",
    "    display_name=config.DATASET_NAME,\n",
    "    gcs_source=obj_list[0],\n",
    ")\n",
    "print(\"Dataset:\", f\"{dataset.display_name}\")\n",
    "print(\"Name: \\t\", f\"{dataset.resource_name}\")"
   ]
  },
  {
   "cell_type": "code",
   "execution_count": null,
   "metadata": {},
   "outputs": [],
   "source": [
    "# Load the created dataset, only needed when you want to reload, otherwise the previously created dataset is sufficient\n",
    "# dataset = vertex_ai.TabularDataset('projects/<project-number>/locations/us-central1/datasets/<dataset-id>')"
   ]
  },
  {
   "cell_type": "code",
   "execution_count": 12,
   "metadata": {},
   "outputs": [
    {
     "data": {
      "text/plain": [
       "['gs://ai-takeoff-terraform-fraudfinder-h7ivo/data/train.csv']"
      ]
     },
     "execution_count": 12,
     "metadata": {},
     "output_type": "execute_result"
    }
   ],
   "source": [
    "dataset.gca_resource.metadata['inputConfig']['gcsSource']['uri']"
   ]
  },
  {
   "cell_type": "markdown",
   "metadata": {},
   "source": [
    "### Train a custom model\n",
    "\n",
    "In this section, you will need to train a Pytorch model on Vertex AI custom training. Custom training on Vertex AI requires a container, which contains all of the necessary code, files, and code dependencies needed to train the model.\n",
    "\n",
    "#### Create the training job with Pytorch and Dask\n",
    "\n",
    "To perform custom training, you can use either a pre-built container or build your container. In this notebook we will being use Pytorch with the Dask framework, and so we will need to build a custom container for Pytorch and use it to train a model with the Vertex AI custom training service.\n",
    "\n",
    "You will use Dask. Dask is a parallel computing library built on Python. Dask allows easy management of distributed workers and excels at handling large distributed data science workflows. Moreover, when you read/write data from data source, Dask allows regex and multiple file loading/writing.\n",
    "\n",
    "##### Vertex AI and containers\n",
    "The first step is to write your training code. Then, you will need to write a Dockerfile and build a container image based on it. The following cell writes our code into `train_torch.py`. We will copy this code into our container to run through the Vertex AI training service.\n",
    "\n",
    "A custom container is a Docker image that you create to run your training application. By running your machine learning (ML) training job in a custom container, you can use ML frameworks, non-ML dependencies, libraries, and binaries that are not otherwise supported on Vertex AI. You can read more in our [documentation](https://cloud.google.com/vertex-ai/docs/training/containers-overview). "
   ]
  },
  {
   "cell_type": "code",
   "execution_count": 12,
   "metadata": {
    "tags": []
   },
   "outputs": [],
   "source": [
    "# create a folder for all container-related files\n",
    "!mkdir -p -m 777 build_training"
   ]
  },
  {
   "cell_type": "code",
   "execution_count": 13,
   "metadata": {
    "tags": []
   },
   "outputs": [],
   "source": [
    "from IPython.core.magic import register_line_cell_magic\n",
    "\n",
    "@register_line_cell_magic\n",
    "def writetemplate(line, cell):\n",
    "    with open(line, \"a\") as f:\n",
    "        f.write(cell.format(**globals()))"
   ]
  },
  {
   "cell_type": "code",
   "execution_count": 14,
   "metadata": {
    "tags": []
   },
   "outputs": [
    {
     "name": "stdout",
     "output_type": "stream",
     "text": [
      "Writing build_training/train_torch.py\n"
     ]
    }
   ],
   "source": [
    "%%writefile build_training/train_torch.py\n",
    "\n",
    "\"\"\"\n",
    "train_xgb.py is the module for training a XGBClassifier pipeline\n",
    "\"\"\"\n",
    "\n",
    "# Libraries --------------------------------------------------------------------------------------------------------------------------\n",
    "\n",
    "import argparse\n",
    "from typing import List, Union\n",
    "import numpy as np\n",
    "import pandas as pd\n",
    "import os\n",
    "import json\n",
    "import logging\n",
    "from pathlib import Path\n",
    "import dask.dataframe as dask_df\n",
    "import tqdm\n",
    "import torch\n",
    "import torch.nn as nn\n",
    "import torch.nn.functional as F\n",
    "from torch.autograd import Variable\n",
    "from sklearn.metrics import (roc_curve, confusion_matrix, average_precision_score, f1_score, \n",
    "                            log_loss, precision_score, recall_score)\n",
    "\n",
    "# Variables --------------------------------------------------------------------------------------------------------------------------\n",
    "\n",
    "## Read environmental variables\n",
    "def gcs_path_to_local_path(old_path: str) -> str:\n",
    "    new_path = old_path.replace(\"gs://\", \"/gcs/\")\n",
    "    return new_path\n",
    "\n",
    "TRAINING_DATA_PATH = gcs_path_to_local_path(os.environ[\"AIP_TRAINING_DATA_URI\"])\n",
    "TEST_DATA_PATH = gcs_path_to_local_path(os.environ[\"AIP_TEST_DATA_URI\"])\n",
    "MODEL_DIR = gcs_path_to_local_path(os.environ[\"AIP_MODEL_DIR\"])\n",
    "MODEL_PATH = os.path.join(MODEL_DIR, \"model.pt\")\n",
    "\n"
   ]
  },
  {
   "cell_type": "code",
   "execution_count": 15,
   "metadata": {
    "tags": []
   },
   "outputs": [],
   "source": [
    "%%writetemplate build_training/train_torch.py\n",
    "\n",
    "TARGET_COLUMN = \"{config.TARGET_COLUMN}\"\n",
    "FEAT_COLUMNS = {config.FEAT_COLUMNS}\n",
    "DROP_COLUMNS = {config.DROP_COLUMNS}\n",
    "DATA_SCHEMA = {config.DATA_SCHEMA}"
   ]
  },
  {
   "cell_type": "code",
   "execution_count": 16,
   "metadata": {
    "tags": []
   },
   "outputs": [
    {
     "name": "stdout",
     "output_type": "stream",
     "text": [
      "Appending to build_training/train_torch.py\n"
     ]
    }
   ],
   "source": [
    "%%writefile -a build_training/train_torch.py\n",
    "\n",
    "## Training variables\n",
    "# Helpers -----------------------------------------------------------------------------------------------------------------------------\n",
    "def get_args() -> argparse.Namespace:\n",
    "    parser = argparse.ArgumentParser()\n",
    "\n",
    "    # Data files arguments\n",
    "    parser.add_argument(\"--bucket\", dest=\"bucket\", type=str,\n",
    "                        required=True, help=\"Bucket uri\")\n",
    "    \n",
    "    return parser.parse_args()\n",
    "\n",
    "def resample(df: pd.DataFrame, replace: bool, frac: float = 1, random_state: int = 8) -> pd.DataFrame:\n",
    "    shuffled_df = df.sample(frac=frac, replace=replace, random_state=random_state)\n",
    "    return shuffled_df\n",
    "\n",
    "def preprocess(df: pd.DataFrame, drop_cols: List[str] = None) -> pd.DataFrame:\n",
    "    if drop_cols:\n",
    "        df = df.drop(columns=drop_cols, errors=\"ignore\")\n",
    "\n",
    "    # Drop rows with NaN\"s\n",
    "    df = df.dropna()\n",
    "\n",
    "    # Convert integer valued (numeric) columns to floating point\n",
    "    numeric_columns = df.select_dtypes([\"float32\", \"float64\"]).columns\n",
    "    numeric_format = {col:\"float32\" for col in numeric_columns}\n",
    "    df = df.astype(numeric_format)\n",
    "\n",
    "    return df\n",
    "\n",
    "def evaluate_model(model: nn.Module, x_true: torch.Tensor, y_true: torch.Tensor, thresh: float) -> dict:\n",
    "    #calculate metrics\n",
    "    metrics={}\n",
    "    \n",
    "    y_score = model(x_true)[:, 1].detach().numpy()\n",
    "    y_true = y_true.detach().numpy()\n",
    "    fpr, tpr, thr = roc_curve(\n",
    "         y_true=y_true, y_score=y_score, pos_label=True\n",
    "    )\n",
    "    fpr_list = fpr.tolist()[::1000]\n",
    "    tpr_list = tpr.tolist()[::1000]\n",
    "    thr_list = thr.tolist()[::1000]\n",
    "\n",
    "    y_pred = np.where(y_score >= thresh, 1, 0)\n",
    "    c_matrix = confusion_matrix(y_true, y_pred)\n",
    "    \n",
    "    avg_precision_score = round(average_precision_score(y_true, y_score), 3)\n",
    "    f1 = round(f1_score(y_true, y_pred), 3)\n",
    "    lg_loss = round(log_loss(y_true, y_pred), 3)\n",
    "    prec_score = round(precision_score(y_true, y_pred), 3)\n",
    "    rec_score = round(recall_score(y_true, y_pred), 3)\n",
    "    \n",
    "    metrics[\"fpr\"] = [round(f, 3) for f in fpr_list]\n",
    "    metrics[\"tpr\"] = [round(f, 3) for f in tpr_list]\n",
    "    metrics[\"thrs\"] = [round(f, 3) for f in thr_list]\n",
    "    metrics[\"confusion_matrix\"] = c_matrix.tolist()\n",
    "    metrics[\"avg_precision_score\"] = avg_precision_score\n",
    "    metrics[\"f1_score\"] = f1\n",
    "    metrics[\"log_loss\"] = lg_loss\n",
    "    metrics[\"precision_score\"] = prec_score\n",
    "    metrics[\"recall_score\"] = rec_score\n",
    "    \n",
    "    return metrics\n",
    "\n",
    "\n",
    "class Model(nn.Module):\n",
    "    def __init__(self, input_dim):\n",
    "        super().__init__()\n",
    "        self.l1 = nn.Linear(input_dim, 100)\n",
    "        self.l2 = nn.Linear(100, 30)\n",
    "        self.l3 = nn.Linear(30, 2)\n",
    "\n",
    "    def forward(self, x):\n",
    "        x = F.relu(self.l1(x))\n",
    "        x = F.relu(self.l2(x))\n",
    "        x = F.relu(self.l3(x))\n",
    "        x = F.softmax(x, dim=1)\n",
    "        return x\n",
    "\n",
    "\n",
    "def main():\n",
    "    args = get_args()\n",
    "    THRESHOLD = 0.5\n",
    "    device = \"cuda\" if torch.cuda.is_available() else \"cpu\"\n",
    "    device = torch.device(device)\n",
    "    # variables\n",
    "    bucket = gcs_path_to_local_path(args.bucket)\n",
    "    deliverable_uri = (Path(bucket)/\"deliverables\")\n",
    "    metrics_uri = (deliverable_uri/\"metrics.json\")\n",
    "\n",
    "    # read data\n",
    "    train_df = dask_df.read_csv(TRAINING_DATA_PATH, dtype=DATA_SCHEMA)\n",
    "    train_df = train_df.compute()\n",
    "    test_df = dask_df.read_csv(TEST_DATA_PATH, dtype=DATA_SCHEMA)\n",
    "    test_df = test_df.compute()\n",
    "    \n",
    "    # preprocessing\n",
    "    preprocessed_train_df = preprocess(train_df, DROP_COLUMNS)\n",
    "    preprocessed_test_df = preprocess(test_df, DROP_COLUMNS)\n",
    "    \n",
    "    # downsampling\n",
    "    train_nfraud_df = preprocessed_train_df[preprocessed_train_df[TARGET_COLUMN]==0]\n",
    "    train_fraud_df = preprocessed_train_df[preprocessed_train_df[TARGET_COLUMN]==1]\n",
    "    train_nfraud_downsample = resample(train_nfraud_df,\n",
    "                          replace=True,\n",
    "                          frac=len(train_fraud_df)/len(train_df))\n",
    "    ds_preprocessed_train_df = pd.concat([train_nfraud_downsample, train_fraud_df])\n",
    "    \n",
    "    # target, features split\n",
    "    x_train = ds_preprocessed_train_df[FEAT_COLUMNS].astype(np.float32).values\n",
    "    x_train = Variable(torch.from_numpy(x_train)).float().to(device)\n",
    "    y_train = ds_preprocessed_train_df.loc[:, TARGET_COLUMN].astype(int).values\n",
    "    y_train = Variable(torch.from_numpy(y_train)).long().to(device)\n",
    "    x_true = preprocessed_test_df[FEAT_COLUMNS].astype(np.float32).values\n",
    "    x_true = Variable(torch.from_numpy(x_true)).float().to(device)\n",
    "    y_true = preprocessed_test_df.loc[:, TARGET_COLUMN].astype(int).values\n",
    "    y_true = Variable(torch.from_numpy(y_true)).long().to(device)\n",
    "    \n",
    "    # train model; for demo purpose, no validation/early stopping is implemented\n",
    "    EPOCHS = 5\n",
    "    model = Model(x_train.shape[1]).to(device)\n",
    "    optimizer = torch.optim.Adam(model.parameters(), lr=0.001)\n",
    "    loss_fn = nn.CrossEntropyLoss()\n",
    "    for _ in tqdm.trange(EPOCHS):\n",
    "        y_pred = model(x_train)\n",
    "        loss = loss_fn(y_pred, y_train)\n",
    "        optimizer.zero_grad()\n",
    "        loss.backward()\n",
    "        optimizer.step()\n",
    "\n",
    "    if not Path(MODEL_DIR).exists():\n",
    "        Path(MODEL_DIR).mkdir(parents=True, exist_ok=True)\n",
    "    model_jit = torch.jit.trace(model, example_kwarg_inputs={\"x\": torch.from_numpy(np.random.random((10, x_train.shape[1]))).float()})\n",
    "    torch.jit.save(model_jit, MODEL_PATH)\n",
    "    \n",
    "    #generate metrics\n",
    "    metrics = evaluate_model(model, x_true, y_true, THRESHOLD)\n",
    "    if not Path(deliverable_uri).exists():\n",
    "        Path(deliverable_uri).mkdir(parents=True, exist_ok=True)\n",
    "    with open(metrics_uri, \"w\") as file:\n",
    "        json.dump(metrics, file, sort_keys = True, indent = 4)\n",
    "\n",
    "\n",
    "if __name__ == \"__main__\":\n",
    "    main()"
   ]
  },
  {
   "cell_type": "markdown",
   "metadata": {},
   "source": [
    "#### Define a custom image for model training\n",
    "\n",
    "Now you will build a custom container. By running your training job in a custom container, you can use any ML framework, non-ML dependencies, libraries, and binaries. Next you will package your training code into a Docker container image, push the container image to Artifact Registry, and create a custom job on Vertex AI, which will use the container image on Artifact Registry. As the evolution of Container Registry, Artifact Registry is a single place for your organization to manage container images and language packages. It's fullly intergrated with the Vertex AI platform. You can read more in our [documentation](https://cloud.google.com/artifact-registry). "
   ]
  },
  {
   "cell_type": "code",
   "execution_count": 19,
   "metadata": {
    "tags": []
   },
   "outputs": [
    {
     "name": "stdout",
     "output_type": "stream",
     "text": [
      "Create request issued for: [fraudfinder-lh9ca]\n",
      "Waiting for operation [projects/ai-takeoff-2025/locations/us-central1/operation\n",
      "s/c3a57317-ed9d-4e10-9a95-eb6ba236f991] to complete...done.                    \n",
      "Created repository [fraudfinder-lh9ca].\n",
      "Listing items under project ai-takeoff-2025, across all locations.\n",
      "\n",
      "                                                                                ARTIFACT_REGISTRY\n",
      "REPOSITORY         FORMAT  MODE                 DESCRIPTION                          LOCATION     LABELS  ENCRYPTION          CREATE_TIME          UPDATE_TIME          SIZE (MB)\n",
      "fraudfinder-lh9ca  DOCKER  STANDARD_REPOSITORY  FraudFinder Docker Image repository  us-central1          Google-managed key  2025-04-14T09:21:00  2025-04-14T09:21:00  0\n",
      "Encryption: Google-managed key\n",
      "Repository Size: 0.000MB\n",
      "createTime: '2025-04-14T09:21:00.863397Z'\n",
      "description: FraudFinder Docker Image repository\n",
      "format: DOCKER\n",
      "mode: STANDARD_REPOSITORY\n",
      "name: projects/ai-takeoff-2025/locations/us-central1/repositories/fraudfinder-lh9ca\n",
      "registryUri: us-central1-docker.pkg.dev/ai-takeoff-2025/fraudfinder-lh9ca\n",
      "satisfiesPzi: true\n",
      "updateTime: '2025-04-14T09:21:00.863397Z'\n",
      "vulnerabilityScanningConfig:\n",
      "  enablementState: SCANNING_DISABLED\n",
      "  enablementStateReason: API containerscanning.googleapis.com is not enabled.\n",
      "  lastEnableTime: '2025-04-14T09:20:52.103370069Z'\n"
     ]
    }
   ],
   "source": [
    "# Create image repository\n",
    "!gcloud artifacts repositories create $config.IMAGE_REPOSITORY      --repository-format=docker      --location=$config.REGION     --description=\"FraudFinder Docker Image repository\"\n",
    "\n",
    "# List repositories under the project\n",
    "!gcloud artifacts repositories list\n",
    "\n",
    "# Get info on the repository\n",
    "!gcloud artifacts repositories describe $config.IMAGE_REPOSITORY --location=$config.REGION"
   ]
  },
  {
   "cell_type": "markdown",
   "metadata": {},
   "source": [
    "Run the follow cell to allow this notebook to push to Artifact Registry"
   ]
  },
  {
   "cell_type": "code",
   "execution_count": 17,
   "metadata": {
    "tags": []
   },
   "outputs": [
    {
     "name": "stdout",
     "output_type": "stream",
     "text": [
      "\u001b[1;33mWARNING:\u001b[0m Your config file at [/usr/local/google/home/zhengzhiyang/.docker/config.json] contains these credential helper entries:\n",
      "\n",
      "{\n",
      "  \"credHelpers\": {\n",
      "    \"us-central1-docker.pkg.dev\": \"gcloud\"\n",
      "  }\n",
      "}\n",
      "Adding credentials for: us-central1-docker.pkg.dev\n",
      "gcloud credential helpers already registered correctly.\n"
     ]
    }
   ],
   "source": [
    "!gcloud auth configure-docker $config.REGION-docker.pkg.dev -q"
   ]
  },
  {
   "cell_type": "markdown",
   "metadata": {},
   "source": [
    "Next you need to write your Dockerfile in order to create your container. "
   ]
  },
  {
   "cell_type": "code",
   "execution_count": null,
   "metadata": {
    "tags": []
   },
   "outputs": [
    {
     "name": "stdout",
     "output_type": "stream",
     "text": [
      "Overwriting build_training/Dockerfile\n"
     ]
    }
   ],
   "source": [
    "%%writefile build_training/Dockerfile\n",
    "# Specifies base image and tag\n",
    "FROM python:3.12\n",
    "WORKDIR /root\n",
    "\n",
    "\n",
    "# Copies the trainer code to the docker image.\n",
    "COPY ./train_torch.py /root/\n",
    "\n",
    "# Installs additional packages\n",
    "RUN pip install dask[dataframe]==2025.3.0 numpy==2.2.4 pandas==2.2.3 tqdm==4.67.1 torch==2.6.0 scikit-learn==1.6.1\n",
    "# Sets up the entry point to invoke the trainer.\n",
    "ENTRYPOINT [\"python3\", \"train_torch.py\"]"
   ]
  },
  {
   "cell_type": "markdown",
   "metadata": {},
   "source": [
    "Next, build and push the Docker container. "
   ]
  },
  {
   "cell_type": "code",
   "execution_count": null,
   "metadata": {
    "tags": []
   },
   "outputs": [],
   "source": [
    "# Build and push Docker container\n",
    "!docker build -t $config.IMAGE_URI ./build_training/\n",
    "!docker push $config.IMAGE_URI\n",
    "\n",
    "print(\"Done\")"
   ]
  },
  {
   "cell_type": "markdown",
   "metadata": {},
   "source": [
    "### Custom serving with FastAPI\n",
    "We will also include XAI capability in our pytorch model deployment. In order to do so, we also need to build a custom model serving image."
   ]
  },
  {
   "cell_type": "code",
   "execution_count": 25,
   "metadata": {},
   "outputs": [],
   "source": [
    "# create a folder for all container-related files\n",
    "!mkdir -p -m 777 build_serving"
   ]
  },
  {
   "cell_type": "code",
   "execution_count": 26,
   "metadata": {},
   "outputs": [
    {
     "name": "stdout",
     "output_type": "stream",
     "text": [
      "Overwriting build_serving/__init__.py\n"
     ]
    }
   ],
   "source": [
    "%%writefile build_serving/__init__.py\n",
    "# package init"
   ]
  },
  {
   "cell_type": "code",
   "execution_count": 86,
   "metadata": {},
   "outputs": [
    {
     "name": "stdout",
     "output_type": "stream",
     "text": [
      "Overwriting build_serving/classifier.py\n"
     ]
    }
   ],
   "source": [
    "%%writefile build_serving/classifier.py\n",
    "import torch\n",
    "import torch.nn as nn\n",
    "\n"
   ]
  },
  {
   "cell_type": "code",
   "execution_count": 87,
   "metadata": {},
   "outputs": [],
   "source": [
    "%%writetemplate build_serving/classifier.py\n",
    "\n",
    "FEAT_COLUMNS = {config.FEAT_COLUMNS}\n",
    "\n"
   ]
  },
  {
   "cell_type": "code",
   "execution_count": 88,
   "metadata": {},
   "outputs": [
    {
     "name": "stdout",
     "output_type": "stream",
     "text": [
      "Appending to build_serving/classifier.py\n"
     ]
    }
   ],
   "source": [
    "%%writefile -a build_serving/classifier.py\n",
    "\n",
    "class Classifier:\n",
    "    def __init__(self, model: nn.Module):\n",
    "        self.net = model\n",
    "        self.classes = {\n",
    "            0: \"no_fraud\",\n",
    "            1: \"is_fraud\",\n",
    "        }\n",
    "        \n",
    "    def predict(self, features: dict):\n",
    "        self.net.eval()\n",
    "        X = [features[feat_col] for feat_col in FEAT_COLUMNS]\n",
    "        X = torch.tensor(X, dtype=torch.float32)\n",
    "        X = torch.unsqueeze(X, 0)\n",
    "        with torch.no_grad():\n",
    "            output = self.net(X)\n",
    "            prob, clas = output.max(1)\n",
    "\n",
    "        return {'class': self.classes[int(clas.cpu().detach().numpy()[0])],\n",
    "                'probability': float(prob.cpu().detach().numpy()[0])}"
   ]
  },
  {
   "cell_type": "code",
   "execution_count": 89,
   "metadata": {},
   "outputs": [
    {
     "name": "stdout",
     "output_type": "stream",
     "text": [
      "Overwriting build_serving/main.py\n"
     ]
    }
   ],
   "source": [
    "%%writefile build_serving/main.py\n",
    "from fastapi import FastAPI, Request\n",
    "from starlette.responses import JSONResponse\n",
    "import uvicorn\n",
    "\n",
    "import os\n",
    "from contextlib import asynccontextmanager\n",
    "import torch\n",
    "\n",
    "from google.cloud import storage\n",
    "from classifier import Classifier\n",
    "\n",
    "\n",
    "@asynccontextmanager\n",
    "async def lifespan(app: FastAPI):\n",
    "    global my_model\n",
    "    global my_classifier\n",
    "    gcs_client = storage.Client()\n",
    "    local_model_path = \"model.pt\"\n",
    "    with open(local_model_path, \"wb\") as model_f:\n",
    "        gcs_client.download_blob_to_file(\n",
    "            f\"{os.environ['AIP_STORAGE_URI']}/{local_model_path}\", model_f\n",
    "        )\n",
    "    my_model = torch.jit.load(local_model_path)\n",
    "    my_classifier = Classifier(my_model)\n",
    "    yield\n",
    "\n",
    "\n",
    "app = FastAPI(lifespan=lifespan)\n",
    "\n",
    "\n",
    "@app.get(os.environ['AIP_HEALTH_ROUTE'], status_code=200)\n",
    "def health():\n",
    "    return {}\n",
    "\n",
    "\n",
    "@app.post(os.environ['AIP_PREDICT_ROUTE'])\n",
    "async def predict(request: Request):\n",
    "    body = await request.json()\n",
    "    \n",
    "    instances = body[\"instances\"]\n",
    "    output = []\n",
    "    for i in instances:\n",
    "        output.append(my_classifier.predict(i))\n",
    "    #return 'class' and 'probability'\n",
    "    return JSONResponse({\"predictions\": output})\n",
    "\n",
    "\n",
    "if __name__ == \"__main__\":\n",
    "    uvicorn.run(app, host=\"0.0.0.0\", port=8080)"
   ]
  },
  {
   "cell_type": "code",
   "execution_count": null,
   "metadata": {},
   "outputs": [
    {
     "name": "stdout",
     "output_type": "stream",
     "text": [
      "Overwriting build_serving/Dockerfile\n"
     ]
    }
   ],
   "source": [
    "%%writefile build_serving/Dockerfile\n",
    "# Specifies base image and tag\n",
    "FROM python:3.12\n",
    "WORKDIR /root\n",
    "\n",
    "\n",
    "# Copies the trainer code to the docker image.\n",
    "COPY ./* /root/\n",
    "\n",
    "# Installs additional packages\n",
    "RUN pip install numpy==2.2.4 torch==2.6.0 \"fastapi[standard]==0.115.7\" uvicorn==0.34.0 google-cloud-storage==2.18.2\n",
    "# Sets up the entry point to invoke the trainer.\n",
    "CMD [\"uvicorn\", \"main:app\", \"--host\", \"0.0.0.0\", \"--port\", \"8080\"]"
   ]
  },
  {
   "cell_type": "code",
   "execution_count": null,
   "metadata": {},
   "outputs": [],
   "source": [
    "# Build and push serving Docker container\n",
    "!docker build -t $config.MODEL_SERVING_IMAGE_URI ./build_serving/\n",
    "!docker push $config.MODEL_SERVING_IMAGE_URI\n",
    "\n",
    "print(\"Done\")"
   ]
  },
  {
   "cell_type": "markdown",
   "metadata": {},
   "source": [
    "#### Start a custom training job on Vertex AI\n",
    "Now that you have created your custom container, you will create a training job on Vertex AI. This will create a custom training job, load our dataset and register the model to Vertex AI Model Registry  after the training job is successfully completed. Learn more about the creaton of custom jobs [here](https://cloud.google.com/vertex-ai/docs/training/create-custom-job)."
   ]
  },
  {
   "cell_type": "code",
   "execution_count": 13,
   "metadata": {
    "tags": []
   },
   "outputs": [
    {
     "name": "stdout",
     "output_type": "stream",
     "text": [
      "Service Account is NOT ENABLED on Persistent Resource\n",
      "----------------------------------------------------------------\n",
      "\n",
      "Please open the Terminal in a new tab and run the command -> gcloud auth login\n",
      "Once done, continue on to start the training job\n"
     ]
    }
   ],
   "source": [
    "# Check if Service Account is enabled on Persistent Resource\n",
    "SA_ENABLED = \"\"\n",
    "\n",
    "DESCRIBE_PR_OUTPUT = !gcloud ai persistent-resources describe $config.PERSISTENT_RESOURCE_ID --project=$config.PROJECT_ID --region=$PERSISTENT_RESOURCE_REGION\n",
    "PR_DETAILS = \" \".join(DESCRIBE_PR_OUTPUT)\n",
    "\n",
    "if \"enableCustomServiceAccount: true\" in PR_DETAILS:\n",
    "    SA_ENABLED = True\n",
    "    print(f\"Service Account is ENABLED on Persistent Resource\")\n",
    "    print(\"----------------------------------------------------------------\\n\")\n",
    "    print(\"Please proceed to next step to start the training job!\")\n",
    "else:\n",
    "    SA_ENABLED = False\n",
    "    print(f\"Service Account is NOT ENABLED on Persistent Resource\")\n",
    "    print(\"----------------------------------------------------------------\\n\")\n",
    "    print(\"Please open the Terminal in a new tab and run the command -> gcloud auth login\")\n",
    "    print(\"Once done, continue on to start the training job\")"
   ]
  },
  {
   "cell_type": "code",
   "execution_count": null,
   "metadata": {
    "tags": []
   },
   "outputs": [],
   "source": [
    "MODEL_NAME = f\"{config.MODEL_NAME}_torch_{config.ID}\"\n",
    "\n",
    "job = vertex_ai.CustomContainerTrainingJob(\n",
    "    display_name=config.JOB_NAME,\n",
    "    container_uri=config.IMAGE_URI,\n",
    "    model_serving_container_image_uri=config.MODEL_SERVING_IMAGE_URI,\n",
    ")\n",
    "\n",
    "CMDARGS = [\n",
    "    f\"--bucket={config.BUCKET_NAME}\",\n",
    "]\n",
    "\n",
    "if SA_ENABLED:\n",
    "    model = job.run(\n",
    "    dataset=dataset,\n",
    "    model_display_name=MODEL_NAME,\n",
    "    args=CMDARGS,\n",
    "    replica_count=1,\n",
    "    machine_type=MACHINE_TYPE,\n",
    "    accelerator_type=ACCELERATOR_TYPE,\n",
    "    accelerator_count=ACCELERATOR_COUNT,    \n",
    "    # persistent_resource_id=config.PERSISTENT_RESOURCE_ID,\n",
    "    service_account=config.SERVICE_ACCOUNT,\n",
    ")\n",
    "\n",
    "else:\n",
    "    model = job.run(\n",
    "    dataset=dataset,\n",
    "    model_display_name=MODEL_NAME,\n",
    "    args=CMDARGS,\n",
    "    replica_count=1,\n",
    "    machine_type=MACHINE_TYPE,\n",
    "    accelerator_type=ACCELERATOR_TYPE,\n",
    "    accelerator_count=ACCELERATOR_COUNT,\n",
    "    # persistent_resource_id=config.PERSISTENT_RESOURCE_ID,\n",
    ")"
   ]
  },
  {
   "cell_type": "markdown",
   "metadata": {},
   "source": [
    "While the model is training, you can visit the model URL, or go to the console page for [Vertex AI training jobs](https://console.cloud.google.com/vertex-ai/training/training-pipelines) to track its progress."
   ]
  },
  {
   "cell_type": "markdown",
   "metadata": {
    "tags": []
   },
   "source": [
    "#### Evaluate the model locally"
   ]
  },
  {
   "cell_type": "markdown",
   "metadata": {},
   "source": [
    "Before you can run the model via an endpoint, you need to transform the data so that the model can perform a prediction on that."
   ]
  },
  {
   "cell_type": "code",
   "execution_count": null,
   "metadata": {
    "tags": []
   },
   "outputs": [],
   "source": [
    "!gsutil cp -r $model.uri ."
   ]
  },
  {
   "cell_type": "code",
   "execution_count": null,
   "metadata": {
    "tags": []
   },
   "outputs": [],
   "source": [
    "# load the model and get feature names\n",
    "import torch\n",
    "\n",
    "\n",
    "model_local = torch.jit.load(\"./model/model.pt\")"
   ]
  },
  {
   "cell_type": "code",
   "execution_count": 19,
   "metadata": {
    "tags": []
   },
   "outputs": [],
   "source": [
    "import numpy as np\n",
    "\n",
    "NA_VALUES = [\"NA\", \".\"]\n",
    "\n",
    "\n",
    "def preprocess(df: pd.DataFrame) -> pd.DataFrame:\n",
    "    \"\"\"Converts categorical features to numeric. Removes unused columns.\n",
    "\n",
    "    Args:\n",
    "      df: Pandas df with raw data\n",
    "\n",
    "    Returns:\n",
    "      df with preprocessed data\n",
    "    \"\"\"\n",
    "    df = df.drop(columns=config.DROP_COLUMNS)\n",
    "\n",
    "    # Drop rows with NaN's\n",
    "    df = df.dropna()\n",
    "\n",
    "    # Convert integer valued (numeric) columns to floating point\n",
    "    numeric_columns = df.select_dtypes([\"int32\", \"float32\", \"float64\"]).columns\n",
    "    df[numeric_columns] = df[numeric_columns].astype(\"float32\")\n",
    "\n",
    "    dummy_columns = list(df.dtypes[df.dtypes == \"category\"].index)\n",
    "    df = pd.get_dummies(df, columns=dummy_columns)\n",
    "\n",
    "    return df\n",
    "\n",
    "\n",
    "# test set\n",
    "train_sample_path = os.path.join(TRAIN_DATA_DIR, \"train.csv\")\n",
    "df_test = pd.read_csv(train_sample_path)\n",
    "preprocessed_test_Data = preprocess(df_test)\n",
    "\n",
    "x_test = preprocessed_test_Data[config.FEAT_COLUMNS].astype(np.float32).values\n",
    "x_test = torch.from_numpy(x_test)\n",
    "y_test = preprocessed_test_Data.loc[:, config.TARGET_COLUMN].astype(int)"
   ]
  },
  {
   "cell_type": "markdown",
   "metadata": {},
   "source": [
    "Next you will copy the model artifact to the local directory to evaluate the model localy before deploying the model:"
   ]
  },
  {
   "cell_type": "markdown",
   "metadata": {},
   "source": [
    "Now it's time to test the model."
   ]
  },
  {
   "cell_type": "code",
   "execution_count": null,
   "metadata": {
    "tags": []
   },
   "outputs": [
    {
     "data": {
      "text/plain": [
       "(0.9864392960493612, 0.987903903785099, 0.9861961150759684, None)"
      ]
     },
     "execution_count": 64,
     "metadata": {},
     "output_type": "execute_result"
    }
   ],
   "source": [
    "y_pred_prob = model_local(x_test)\n",
    "y_pred = torch.argmax(y_pred_prob, dim=1)\n",
    "precision_recall_fscore_support(y_test.values, y_pred, average=\"weighted\")"
   ]
  },
  {
   "cell_type": "markdown",
   "metadata": {},
   "source": [
    "#### Deploy the model\n",
    "Before you use your model to make predictions, you need to deploy it to an Endpoint. You can do this by calling the deploy function on the Model resource. While our model training does not include XAI config, this will do two things:\n",
    "\n",
    "- Upload the model with XAI configuration\n",
    "- create an Endpoint resource\n",
    "- deploy the Model resource to the Endpoint resource\n"
   ]
  },
  {
   "cell_type": "code",
   "execution_count": null,
   "metadata": {},
   "outputs": [],
   "source": [
    "from google.cloud.aiplatform import explain\n",
    "\n",
    "\n",
    "explanation_params = explain.ExplanationParameters(\n",
    "    sampled_shapley_attribution=explain.SampledShapleyAttribution(\n",
    "        path_count=10,\n",
    "    ),\n",
    ")\n",
    "explanation_metadata = explain.ExplanationMetadata(\n",
    "    inputs={\n",
    "        feat: {} for feat in config.FEAT_COLUMNS\n",
    "    },\n",
    "    outputs={\n",
    "        \"probability\": {}\n",
    "    }\n",
    ")\n",
    "\n",
    "model = vertex_ai.Model.upload(\n",
    "    serving_container_image_uri=config.MODEL_SERVING_IMAGE_URI,\n",
    "    artifact_uri=model.uri,\n",
    "    display_name=MODEL_NAME,\n",
    "    description=\"Vertex AI Pipeline Custom Model\",\n",
    "    explanation_metadata=explanation_metadata,\n",
    "    explanation_parameters=explanation_params,\n",
    "    upload_request_timeout=1800,\n",
    ")"
   ]
  },
  {
   "cell_type": "code",
   "execution_count": 16,
   "metadata": {
    "tags": []
   },
   "outputs": [
    {
     "name": "stdout",
     "output_type": "stream",
     "text": [
      "Creating Endpoint\n",
      "Create Endpoint backing LRO: projects/401714874268/locations/us-central1/endpoints/2449136862103601152/operations/6138081489499193344\n",
      "Endpoint created. Resource name: projects/401714874268/locations/us-central1/endpoints/2449136862103601152\n",
      "To use this Endpoint in another session:\n",
      "endpoint = aiplatform.Endpoint('projects/401714874268/locations/us-central1/endpoints/2449136862103601152')\n",
      "Deploying model to Endpoint : projects/401714874268/locations/us-central1/endpoints/2449136862103601152\n",
      "Deploy Endpoint model backing LRO: projects/401714874268/locations/us-central1/endpoints/2449136862103601152/operations/8892032661636251648\n",
      "Endpoint model deployed. Resource name: projects/401714874268/locations/us-central1/endpoints/2449136862103601152\n"
     ]
    }
   ],
   "source": [
    "# Percentage of traffic that the model will receive in the endpoint\n",
    "TRAFFIC_SPLIT = {\"0\": 100}\n",
    "\n",
    "# Parameters to configure the minimum and maximum nodes during autoscaling\n",
    "MIN_NODES = 1\n",
    "MAX_NODES = 1\n",
    "\n",
    "endpoint = model.deploy(\n",
    "    deployed_model_display_name=MODEL_NAME,\n",
    "    traffic_split=TRAFFIC_SPLIT,\n",
    "    machine_type=config.DEPLOY_COMPUTE,\n",
    "    accelerator_count=0,\n",
    "    min_replica_count=MIN_NODES,\n",
    "    max_replica_count=MAX_NODES,\n",
    ")"
   ]
  },
  {
   "cell_type": "markdown",
   "metadata": {},
   "source": [
    "#### Test the deployed model (Make an online prediction request)\n",
    "Send an online prediction request to your deployed model. To make sure your deployed model is working, test it out by sending a request to the endpoint.\n",
    "\n",
    "Let's first get a test data."
   ]
  },
  {
   "cell_type": "code",
   "execution_count": 22,
   "metadata": {},
   "outputs": [
    {
     "name": "stdout",
     "output_type": "stream",
     "text": [
      "tensor([  8.4062,   0.0000,   9.3820,   0.0000,   0.0000,   8.3183,  47.0000,\n",
      "          0.0000,   5.0000,   0.0000,   0.0000,  24.0000,   0.0000,   0.0000,\n",
      "          0.0000, 217.0000,   0.0000,  25.0000,   0.0000,   0.0000, 170.0000,\n",
      "          0.0000,   0.0000,   0.0000,   9.8100])\n",
      "tensor([4.0091e+01, 0.0000e+00, 4.5390e+01, 0.0000e+00, 0.0000e+00, 3.9517e+01,\n",
      "        5.3000e+01, 0.0000e+00, 3.0000e+00, 0.0000e+00, 0.0000e+00, 2.8000e+01,\n",
      "        0.0000e+00, 0.0000e+00, 0.0000e+00, 1.5000e+02, 0.0000e+00, 1.3000e+01,\n",
      "        0.0000e+00, 0.0000e+00, 1.1500e+02, 6.6667e-03, 0.0000e+00, 0.0000e+00,\n",
      "        4.9430e+01])\n"
     ]
    }
   ],
   "source": [
    "for item in x_test[:2]:\n",
    "    print(item)"
   ]
  },
  {
   "cell_type": "code",
   "execution_count": 35,
   "metadata": {
    "tags": []
   },
   "outputs": [],
   "source": [
    "payload = {\n",
    "    \"instances\": [{feat: val for feat, val in zip(config.FEAT_COLUMNS, vals)} for vals in x_test.detach().numpy()[:2].tolist()]\n",
    "}"
   ]
  },
  {
   "cell_type": "code",
   "execution_count": 43,
   "metadata": {
    "tags": []
   },
   "outputs": [
    {
     "name": "stdout",
     "output_type": "stream",
     "text": [
      "[{'class': 'no_fraud', 'probability': 0.9968664050102234}, {'class': 'no_fraud', 'probability': 0.9397484064102173}]\n"
     ]
    }
   ],
   "source": [
    "resp = endpoint.predict(payload['instances'])\n",
    "print(resp.predictions)"
   ]
  },
  {
   "cell_type": "code",
   "execution_count": 44,
   "metadata": {},
   "outputs": [
    {
     "name": "stdout",
     "output_type": "stream",
     "text": [
      "[attributions {\n",
      "  baseline_output_value: 0.5\n",
      "  instance_output_value: 0.99686640501022339\n",
      "  feature_attributions {\n",
      "    struct_value {\n",
      "      fields {\n",
      "        key: \"tx_amount\"\n",
      "        value {\n",
      "          number_value: 0.0025898218154907231\n",
      "        }\n",
      "      }\n",
      "      fields {\n",
      "        key: \"terminal_id_risk_7day_window\"\n",
      "        value {\n",
      "          number_value: 0\n",
      "        }\n",
      "      }\n",
      "      fields {\n",
      "        key: \"terminal_id_risk_1day_window\"\n",
      "        value {\n",
      "          number_value: 0\n",
      "        }\n",
      "      }\n",
      "      fields {\n",
      "        key: \"terminal_id_risk_14day_window\"\n",
      "        value {\n",
      "          number_value: 0\n",
      "        }\n",
      "      }\n",
      "      fields {\n",
      "        key: \"terminal_id_nb_tx_7day_window\"\n",
      "        value {\n",
      "          number_value: 0.3711762487888336\n",
      "        }\n",
      "      }\n",
      "      fields {\n",
      "        key: \"terminal_id_nb_tx_60min_window\"\n",
      "        value {\n",
      "          number_value: 0\n",
      "        }\n",
      "      }\n",
      "      fields {\n",
      "        key: \"terminal_id_nb_tx_30min_window\"\n",
      "        value {\n",
      "          number_value: 0\n",
      "        }\n",
      "      }\n",
      "      fields {\n",
      "        key: \"terminal_id_nb_tx_1day_window\"\n",
      "        value {\n",
      "          number_value: 0.025770646333694459\n",
      "        }\n",
      "      }\n",
      "      fields {\n",
      "        key: \"terminal_id_nb_tx_15min_window\"\n",
      "        value {\n",
      "          number_value: 0\n",
      "        }\n",
      "      }\n",
      "      fields {\n",
      "        key: \"terminal_id_nb_tx_14day_window\"\n",
      "        value {\n",
      "          number_value: 0.08822140097618103\n",
      "        }\n",
      "      }\n",
      "      fields {\n",
      "        key: \"terminal_id_avg_amount_60min_window\"\n",
      "        value {\n",
      "          number_value: 0\n",
      "        }\n",
      "      }\n",
      "      fields {\n",
      "        key: \"terminal_id_avg_amount_30min_window\"\n",
      "        value {\n",
      "          number_value: 0\n",
      "        }\n",
      "      }\n",
      "      fields {\n",
      "        key: \"terminal_id_avg_amount_15min_window\"\n",
      "        value {\n",
      "          number_value: 0\n",
      "        }\n",
      "      }\n",
      "      fields {\n",
      "        key: \"customer_id_nb_tx_7day_window\"\n",
      "        value {\n",
      "          number_value: -0.0145710289478302\n",
      "        }\n",
      "      }\n",
      "      fields {\n",
      "        key: \"customer_id_nb_tx_60min_window\"\n",
      "        value {\n",
      "          number_value: 0\n",
      "        }\n",
      "      }\n",
      "      fields {\n",
      "        key: \"customer_id_nb_tx_30min_window\"\n",
      "        value {\n",
      "          number_value: 0\n",
      "        }\n",
      "      }\n",
      "      fields {\n",
      "        key: \"customer_id_nb_tx_1day_window\"\n",
      "        value {\n",
      "          number_value: -0.001212877035140991\n",
      "        }\n",
      "      }\n",
      "      fields {\n",
      "        key: \"customer_id_nb_tx_15min_window\"\n",
      "        value {\n",
      "          number_value: 0\n",
      "        }\n",
      "      }\n",
      "      fields {\n",
      "        key: \"customer_id_nb_tx_14day_window\"\n",
      "        value {\n",
      "          number_value: 0.0220746636390686\n",
      "        }\n",
      "      }\n",
      "      fields {\n",
      "        key: \"customer_id_avg_amount_7day_window\"\n",
      "        value {\n",
      "          number_value: 0.00069075226783752439\n",
      "        }\n",
      "      }\n",
      "      fields {\n",
      "        key: \"customer_id_avg_amount_60min_window\"\n",
      "        value {\n",
      "          number_value: 0\n",
      "        }\n",
      "      }\n",
      "      fields {\n",
      "        key: \"customer_id_avg_amount_30min_window\"\n",
      "        value {\n",
      "          number_value: 0\n",
      "        }\n",
      "      }\n",
      "      fields {\n",
      "        key: \"customer_id_avg_amount_1day_window\"\n",
      "        value {\n",
      "          number_value: 0.001181894540786743\n",
      "        }\n",
      "      }\n",
      "      fields {\n",
      "        key: \"customer_id_avg_amount_15min_window\"\n",
      "        value {\n",
      "          number_value: 0\n",
      "        }\n",
      "      }\n",
      "      fields {\n",
      "        key: \"customer_id_avg_amount_14day_window\"\n",
      "        value {\n",
      "          number_value: 0.00094488263130187988\n",
      "        }\n",
      "      }\n",
      "    }\n",
      "  }\n",
      "  output_index: -1\n",
      "  approximation_error: 0.0082290534622710271\n",
      "  output_name: \"probability\"\n",
      "}\n",
      ", attributions {\n",
      "  baseline_output_value: 0.5\n",
      "  instance_output_value: 0.93974840641021729\n",
      "  feature_attributions {\n",
      "    struct_value {\n",
      "      fields {\n",
      "        key: \"tx_amount\"\n",
      "        value {\n",
      "          number_value: 0.0036995410919189449\n",
      "        }\n",
      "      }\n",
      "      fields {\n",
      "        key: \"terminal_id_risk_7day_window\"\n",
      "        value {\n",
      "          number_value: 0\n",
      "        }\n",
      "      }\n",
      "      fields {\n",
      "        key: \"terminal_id_risk_1day_window\"\n",
      "        value {\n",
      "          number_value: 0\n",
      "        }\n",
      "      }\n",
      "      fields {\n",
      "        key: \"terminal_id_risk_14day_window\"\n",
      "        value {\n",
      "          number_value: -5.3584575653076184e-06\n",
      "        }\n",
      "      }\n",
      "      fields {\n",
      "        key: \"terminal_id_nb_tx_7day_window\"\n",
      "        value {\n",
      "          number_value: 0.31507244110107419\n",
      "        }\n",
      "      }\n",
      "      fields {\n",
      "        key: \"terminal_id_nb_tx_60min_window\"\n",
      "        value {\n",
      "          number_value: 0\n",
      "        }\n",
      "      }\n",
      "      fields {\n",
      "        key: \"terminal_id_nb_tx_30min_window\"\n",
      "        value {\n",
      "          number_value: 0\n",
      "        }\n",
      "      }\n",
      "      fields {\n",
      "        key: \"terminal_id_nb_tx_1day_window\"\n",
      "        value {\n",
      "          number_value: 0.00410657525062561\n",
      "        }\n",
      "      }\n",
      "      fields {\n",
      "        key: \"terminal_id_nb_tx_15min_window\"\n",
      "        value {\n",
      "          number_value: 0\n",
      "        }\n",
      "      }\n",
      "      fields {\n",
      "        key: \"terminal_id_nb_tx_14day_window\"\n",
      "        value {\n",
      "          number_value: 0.19640640616416929\n",
      "        }\n",
      "      }\n",
      "      fields {\n",
      "        key: \"terminal_id_avg_amount_60min_window\"\n",
      "        value {\n",
      "          number_value: 0\n",
      "        }\n",
      "      }\n",
      "      fields {\n",
      "        key: \"terminal_id_avg_amount_30min_window\"\n",
      "        value {\n",
      "          number_value: 0\n",
      "        }\n",
      "      }\n",
      "      fields {\n",
      "        key: \"terminal_id_avg_amount_15min_window\"\n",
      "        value {\n",
      "          number_value: 0\n",
      "        }\n",
      "      }\n",
      "      fields {\n",
      "        key: \"customer_id_nb_tx_7day_window\"\n",
      "        value {\n",
      "          number_value: -0.02547515034675598\n",
      "        }\n",
      "      }\n",
      "      fields {\n",
      "        key: \"customer_id_nb_tx_60min_window\"\n",
      "        value {\n",
      "          number_value: 0\n",
      "        }\n",
      "      }\n",
      "      fields {\n",
      "        key: \"customer_id_nb_tx_30min_window\"\n",
      "        value {\n",
      "          number_value: 0\n",
      "        }\n",
      "      }\n",
      "      fields {\n",
      "        key: \"customer_id_nb_tx_1day_window\"\n",
      "        value {\n",
      "          number_value: -0.00085319280624389653\n",
      "        }\n",
      "      }\n",
      "      fields {\n",
      "        key: \"customer_id_nb_tx_15min_window\"\n",
      "        value {\n",
      "          number_value: 0\n",
      "        }\n",
      "      }\n",
      "      fields {\n",
      "        key: \"customer_id_nb_tx_14day_window\"\n",
      "        value {\n",
      "          number_value: 0.038541013002395631\n",
      "        }\n",
      "      }\n",
      "      fields {\n",
      "        key: \"customer_id_avg_amount_7day_window\"\n",
      "        value {\n",
      "          number_value: 0.025462323427200319\n",
      "        }\n",
      "      }\n",
      "      fields {\n",
      "        key: \"customer_id_avg_amount_60min_window\"\n",
      "        value {\n",
      "          number_value: 0\n",
      "        }\n",
      "      }\n",
      "      fields {\n",
      "        key: \"customer_id_avg_amount_30min_window\"\n",
      "        value {\n",
      "          number_value: 0\n",
      "        }\n",
      "      }\n",
      "      fields {\n",
      "        key: \"customer_id_avg_amount_1day_window\"\n",
      "        value {\n",
      "          number_value: -0.059933245182037347\n",
      "        }\n",
      "      }\n",
      "      fields {\n",
      "        key: \"customer_id_avg_amount_15min_window\"\n",
      "        value {\n",
      "          number_value: 0\n",
      "        }\n",
      "      }\n",
      "      fields {\n",
      "        key: \"customer_id_avg_amount_14day_window\"\n",
      "        value {\n",
      "          number_value: -0.057272946834564208\n",
      "        }\n",
      "      }\n",
      "    }\n",
      "  }\n",
      "  output_index: -1\n",
      "  approximation_error: 0.0090538580957800745\n",
      "  output_name: \"probability\"\n",
      "}\n",
      "]\n"
     ]
    }
   ],
   "source": [
    "resp = endpoint.explain(payload['instances'])\n",
    "print(resp.explanations)"
   ]
  },
  {
   "cell_type": "markdown",
   "metadata": {
    "tags": []
   },
   "source": [
    "Now that we understand we packaged our pytorch model and started a custom training job on Vertex AI we can take the ML workflow and formalize it into a Vertex AI Pipeline.\n",
    "\n",
    "You can continue with the next Notebook: `06_formalization.ipynb`."
   ]
  },
  {
   "cell_type": "markdown",
   "metadata": {},
   "source": []
  }
 ],
 "metadata": {
  "colab": {
   "collapsed_sections": [],
   "name": "notebook_template.ipynb",
   "toc_visible": true
  },
  "environment": {
   "kernel": "conda-base-py",
   "name": "workbench-notebooks.m125",
   "type": "gcloud",
   "uri": "us-docker.pkg.dev/deeplearning-platform-release/gcr.io/workbench-notebooks:m125"
  },
  "kernelspec": {
   "display_name": ".venv",
   "language": "python",
   "name": "python3"
  },
  "language_info": {
   "codemirror_mode": {
    "name": "ipython",
    "version": 3
   },
   "file_extension": ".py",
   "mimetype": "text/x-python",
   "name": "python",
   "nbconvert_exporter": "python",
   "pygments_lexer": "ipython3",
   "version": "3.12.10"
  }
 },
 "nbformat": 4,
 "nbformat_minor": 4
}
