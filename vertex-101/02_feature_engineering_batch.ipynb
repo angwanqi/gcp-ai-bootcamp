{
 "cells": [
  {
   "cell_type": "code",
   "execution_count": null,
   "metadata": {
    "id": "ur8xi4C7S06n"
   },
   "outputs": [],
   "source": [
    "# Copyright 2023 Google LLC\n",
    "#\n",
    "# Licensed under the Apache License, Version 2.0 (the \"License\");\n",
    "# you may not use this file except in compliance with the License.\n",
    "# You may obtain a copy of the License at\n",
    "#\n",
    "#     https://www.apache.org/licenses/LICENSE-2.0\n",
    "#\n",
    "# Unless required by applicable law or agreed to in writing, software\n",
    "# distributed under the License is distributed on an \"AS IS\" BASIS,\n",
    "# WITHOUT WARRANTIES OR CONDITIONS OF ANY KIND, either express or implied.\n",
    "# See the License for the specific language governing permissions and\n",
    "# limitations under the License."
   ]
  },
  {
   "cell_type": "markdown",
   "metadata": {
    "id": "JAPoU8Sm5E6e"
   },
   "source": [
    "# FraudFinder - Feature Engineering (batch)\n",
    "\n",
    "<table align=\"left\">\n",
    "  <td>\n",
    "    <a href=\"https://console.cloud.google.com/ai-platform/notebooks/deploy-notebook?&download_url=https://github.com/GoogleCloudPlatform/fraudfinder/raw/main/02_feature_engineering_batch.ipynb\">\n",
    "       <img src=\"https://www.gstatic.com/cloud/images/navigation/vertex-ai.svg\" alt=\"Google Cloud Notebooks\">Open in Cloud Notebook\n",
    "    </a>\n",
    "  </td> \n",
    "  <td>\n",
    "    <a href=\"https://colab.research.google.com/github/GoogleCloudPlatform/fraudfinder/blob/main/02_feature_engineering_batch.ipynb\">\n",
    "      <img src=\"https://cloud.google.com/ml-engine/images/colab-logo-32px.png\" alt=\"Colab logo\"> Open in Colab\n",
    "    </a>\n",
    "  </td>\n",
    "  <td>\n",
    "    <a href=\"https://github.com/GoogleCloudPlatform/fraudfinder/blob/main/02_feature_engineering_batch.ipynb\">\n",
    "        <img src=\"https://cloud.google.com/ml-engine/images/github-logo-32px.png\" alt=\"GitHub logo\">\n",
    "      View on GitHub\n",
    "    </a>\n",
    "  </td>\n",
    "</table>"
   ]
  },
  {
   "cell_type": "markdown",
   "metadata": {
    "id": "tvgnzT1CKxrO"
   },
   "source": [
    "## Overview\n",
    "\n",
    "[FraudFinder](https://github.com/googlecloudplatform/fraudfinder) is a series of labs on how to build a real-time fraud detection system on Google Cloud. Throughout the FraudFinder labs, you will learn how to read historical bank transaction data stored in data warehouse, read from a live stream of new transactions, perform exploratory data analysis (EDA), do feature engineering, ingest features into a feature store, train a model using feature store, register your model in a model registry, evaluate your model, deploy your model to an endpoint, do real-time inference on your model with feature store, and monitor your model."
   ]
  },
  {
   "cell_type": "markdown",
   "metadata": {
    "id": "25113176ad6a"
   },
   "source": [
    "### Objective\n",
    "\n",
    "As you engineer features for model training, it's important to consider how the features are computed when making predictions with new data. For online predictions, you may have features that can be pre-computed via _batch feature engineering_. You may also features that need to be computed on-the-fly via _streaming-based feature engineering_. For these Fraudfinder labs, for computing features based on the last n _days_, you will use _batch_ feature engineering in BigQuery; for computing features based on the last n _minutes_, you will use _streaming-based_ feature engineering using Dataflow.\n",
    "\n",
    "This notebook shows how to generate new features on bank transactions by customer and terminal over the last n days, by doing batch feature engineering in SQL with BigQuery. Then, you will create a feature store using Vertex AI Feature Store, and ingest your newly-created features from BigQuery into Vertex AI Feature Store, so that a feature store can become the single source of data for both training and model inference. \n",
    "\n",
    "\n",
    "This lab uses the following Google Cloud services and resources:\n",
    "\n",
    "- [Vertex AI](https://cloud.google.com/vertex-ai/)\n",
    "- [BigQuery](https://cloud.google.com/bigquery/)\n",
    "\n",
    "\n",
    "Steps performed in this notebook:\n",
    "\n",
    "- Build customer and terminal-related features\n",
    "- Create Feature store, feature groups and features\n",
    "- Create the Feature View and ingest feature values in Feature store from BigQuery table\n",
    "- Read features from the feature store"
   ]
  },
  {
   "cell_type": "markdown",
   "metadata": {
    "id": "811f5d41ab7f",
    "tags": []
   },
   "source": [
    "### Load configuration settings from the setup notebook\n",
    "\n",
    "Set the constants used in this notebook and load the config settings from the `00_environment_setup.ipynb` notebook."
   ]
  },
  {
   "cell_type": "code",
   "execution_count": 1,
   "metadata": {
    "tags": []
   },
   "outputs": [],
   "source": [
    "import json\n",
    "\n",
    "try:\n",
    "    with open(\"config_path.json\", \"r\") as f:\n",
    "        config_path = json.load(f)\n",
    "except FileNotFoundError:\n",
    "    print(\"config_path.json not found. Please make sure the file exists.\")\n",
    "    ID = None"
   ]
  },
  {
   "cell_type": "code",
   "execution_count": 2,
   "metadata": {
    "tags": []
   },
   "outputs": [],
   "source": [
    "from vertex_ai_lab.utils import read_from_bucket, VertexConfig\n",
    "\n",
    "\n",
    "config = read_from_bucket(config_path[\"bucket\"], config_path[\"conf_uri\"])\n",
    "config = VertexConfig(**config)\n",
    "\n",
    "PROJECT_NUM = !gcloud projects list --filter=\"$config.PROJECT_ID\" --format=\"value(PROJECT_NUMBER)\"\n",
    "PROJECT_NUM = PROJECT_NUM[0]"
   ]
  },
  {
   "cell_type": "markdown",
   "metadata": {
    "id": "XoEqT2Y4DJmf"
   },
   "source": [
    "### Import libraries"
   ]
  },
  {
   "cell_type": "code",
   "execution_count": 3,
   "metadata": {
    "id": "pRUOFELefqf1",
    "tags": []
   },
   "outputs": [],
   "source": [
    "from datetime import datetime, timedelta\n",
    "from typing import Union\n",
    "\n",
    "import pandas as pd\n",
    "pd.set_option('display.max_columns', 500)\n",
    "\n",
    "# Vertex AI and Vertex AI Feature Store\n",
    "from google.cloud import aiplatform as vertex_ai\n",
    "from google.cloud import bigquery"
   ]
  },
  {
   "cell_type": "markdown",
   "metadata": {
    "id": "Moq4QZKjY4fv"
   },
   "source": [
    "### Define constants"
   ]
  },
  {
   "cell_type": "code",
   "execution_count": 4,
   "metadata": {
    "id": "G-4MU7kF3t4x",
    "tags": []
   },
   "outputs": [],
   "source": [
    "# Define the date range of transactions for feature engineering (last 10 days up until yesterday)\n",
    "YESTERDAY = datetime.today() - timedelta(days=1)\n",
    "YEAR_MONTH_PREFIX = YESTERDAY.strftime(\"%Y-%m\")\n",
    "DATAPROCESSING_START_DATE = (YESTERDAY - timedelta(days=10)).strftime(\"%Y-%m-%d\")\n",
    "DATAPROCESSING_END_DATE = YESTERDAY.strftime(\"%Y-%m-%d\")\n",
    "\n",
    "# Define Vertex AI Feature store settings.\n",
    "CUSTOMERS_TABLE_NAME = f\"customers_{DATAPROCESSING_END_DATE.replace('-', '')}\"\n",
    "CUSTOMERS_BQ_TABLE_URI = f\"{config.PROJECT_ID}.tx.{CUSTOMERS_TABLE_NAME}\"\n",
    "TERMINALS_TABLE_NAME = f\"terminals_{DATAPROCESSING_END_DATE.replace('-', '')}\"                    \n",
    "TERMINALS_BQ_TABLE_URI = f\"{config.PROJECT_ID}.tx.{TERMINALS_TABLE_NAME}\""
   ]
  },
  {
   "cell_type": "markdown",
   "metadata": {
    "id": "bedfb5ba7f57"
   },
   "source": [
    "### Helpers\n",
    "\n",
    "Define a set of helper functions to run BigQuery query and create features. "
   ]
  },
  {
   "cell_type": "code",
   "execution_count": 5,
   "metadata": {
    "id": "6b81dbbaa636",
    "tags": []
   },
   "outputs": [],
   "source": [
    "def run_bq_query(sql: str, show=False) -> Union[str, pd.DataFrame]:\n",
    "    \"\"\"\n",
    "    Run a BigQuery query and return the job ID or result as a DataFrame\n",
    "    Args:\n",
    "        sql: SQL query, as a string, to execute in BigQuery\n",
    "        show: A flag to show query result in a Pandas Dataframe\n",
    "    Returns:\n",
    "        df: DataFrame of results from query,  or error, if any\n",
    "    \"\"\"\n",
    "\n",
    "    bq_client = bigquery.Client()\n",
    "\n",
    "    # Try dry run before executing query to catch any errors\n",
    "    job_config = bigquery.QueryJobConfig(dry_run=True, use_query_cache=False)\n",
    "    bq_client.query(sql, job_config=job_config)\n",
    "\n",
    "    # If dry run succeeds without errors, proceed to run query\n",
    "    job_config = bigquery.QueryJobConfig()\n",
    "    client_result = bq_client.query(sql, job_config=job_config)\n",
    "\n",
    "    job_id = client_result.job_id\n",
    "\n",
    "    # Wait for query/job to finish running. then get & return data frame\n",
    "    result = client_result.result()\n",
    "    print(f\"Finished job_id: {job_id}\")\n",
    "    \n",
    "    if show:\n",
    "        df = result.to_arrow().to_pandas()\n",
    "        return df"
   ]
  },
  {
   "cell_type": "markdown",
   "metadata": {
    "id": "jKaROgJZ3t4y"
   },
   "source": [
    "## Feature Engineering"
   ]
  },
  {
   "cell_type": "markdown",
   "metadata": {
    "id": "0NDaDFyj3t4z"
   },
   "source": [
    "### Define customer and terminal-related features for batch feature engineering\n",
    "\n",
    "In this section, you will create features, based on historical customer behaviour and historical terminal activities. This features will be batch-generated using SQL in BigQuery, where the historical data is stored.\n",
    "\n",
    "The query below will calculate 2 sets of features: \n",
    "\n",
    "1. **Customer-related features**: which describes the spending behaviour of customer within 1, 7 and 15 days time windows using number of transactions and average amount spent in dollars ($)\n",
    "\n",
    "2. **Terminal-related features** which describes the risk of a given terminal to be exposed to fraudulent transactions within 1, 7 and 15 days using average number of fraudulent transactions in dollars ($), the number of transactions and risk index. One thing to note is that you will add some delay to take into account time that would pass between the time of transaction and the result of fraud investigation or customer claim.\n",
    "\n",
    "You will use one month of transaction data starting from the end of January and going back to compute the features.\n",
    "\n",
    "Below is the schema you should expect to see, after doing the batch feature engineering in BigQuery:\n",
    "\n",
    "|feature_time           |customer_id| customer batch features   |\n",
    "|-----------------------|-----------|---------------------------|\n",
    "|2022-01-01 17:20:15 UTC|1          |(e.g., nb_tx,  avg_tx)     |\n",
    "|2022-01-02 12:08:40 UTC|2          |(e.g., nb_tx,  avg_tx)     |\n",
    "|2022-01-03 17:30:48 UTC|3          |(e.g., nb_tx,  avg_tx)     |\n",
    "\n",
    "\n",
    "|feature_time           |terminal_id| terminal batch features|\n",
    "|-----------------------|-----------|------------------------|\n",
    "|2022-01-01 17:20:15 UTC|12345      |(e.g., risk_x_days)     |\n",
    "|2022-01-02 12:08:40 UTC|26789      |(e.g., risk_x_days)     |\n",
    "|2022-01-03 17:30:48 UTC|101112     |(e.g., risk_x_days)     |\n"
   ]
  },
  {
   "cell_type": "markdown",
   "metadata": {
    "id": "43265bd3002f"
   },
   "source": [
    "#### Create the query to create batch features"
   ]
  },
  {
   "cell_type": "markdown",
   "metadata": {},
   "source": [
    "Date settings to be used:"
   ]
  },
  {
   "cell_type": "code",
   "execution_count": 6,
   "metadata": {
    "tags": []
   },
   "outputs": [
    {
     "name": "stdout",
     "output_type": "stream",
     "text": [
      "\n",
      "DATAPROCESSING_START_DATE: 2025-05-05\n",
      "DATAPROCESSING_END_DATE: 2025-05-15\n",
      "\n"
     ]
    }
   ],
   "source": [
    "print(f\"\"\"\n",
    "DATAPROCESSING_START_DATE: {DATAPROCESSING_START_DATE}\n",
    "DATAPROCESSING_END_DATE: {DATAPROCESSING_END_DATE}\n",
    "\"\"\")"
   ]
  },
  {
   "cell_type": "markdown",
   "metadata": {},
   "source": [
    "##### Customer feature table\n",
    "\n",
    "Customer table SQL query string:"
   ]
  },
  {
   "cell_type": "code",
   "execution_count": 7,
   "metadata": {
    "id": "43Ck_vAc3t4z",
    "tags": []
   },
   "outputs": [],
   "source": [
    "create_customer_batch_features_query = f\"\"\"\n",
    "CREATE OR REPLACE TABLE `{CUSTOMERS_BQ_TABLE_URI}` AS\n",
    "WITH\n",
    "  -- query to join labels with features -------------------------------------------------------------------------------------------\n",
    "  get_raw_table AS (\n",
    "  SELECT\n",
    "    raw_tx.TX_TS,\n",
    "    raw_tx.TX_ID,\n",
    "    raw_tx.CUSTOMER_ID,\n",
    "    raw_tx.TERMINAL_ID,\n",
    "    raw_tx.TX_AMOUNT,\n",
    "    raw_lb.TX_FRAUD\n",
    "  FROM (\n",
    "    SELECT\n",
    "      *\n",
    "    FROM\n",
    "      `{config.RAW_BQ_TRANSACTION_TABLE_URI}`\n",
    "    WHERE\n",
    "      DATE(TX_TS) BETWEEN DATE_SUB(\"{DATAPROCESSING_END_DATE}\", INTERVAL 15 DAY) AND \"{DATAPROCESSING_END_DATE}\"\n",
    "    ) raw_tx\n",
    "  LEFT JOIN \n",
    "    `{config.RAW_BQ_LABELS_TABLE_URI}` as raw_lb\n",
    "  ON raw_tx.TX_ID = raw_lb.TX_ID),\n",
    "\n",
    "  -- query to calculate CUSTOMER spending behaviour --------------------------------------------------------------------------------\n",
    "  get_customer_spending_behaviour AS (\n",
    "  SELECT\n",
    "    TX_TS,\n",
    "    TX_ID,\n",
    "    CUSTOMER_ID,\n",
    "    TERMINAL_ID,\n",
    "    TX_AMOUNT,\n",
    "    TX_FRAUD,\n",
    "    \n",
    "    # calc the number of customer tx over daily windows per customer (1, 7 and 15 days, expressed in seconds)\n",
    "    COUNT(TX_FRAUD) OVER (PARTITION BY CUSTOMER_ID ORDER BY UNIX_SECONDS(TX_TS) ASC RANGE BETWEEN 86400 PRECEDING\n",
    "      AND CURRENT ROW ) AS CUSTOMER_ID_NB_TX_1DAY_WINDOW,\n",
    "    COUNT(TX_FRAUD) OVER (PARTITION BY CUSTOMER_ID ORDER BY UNIX_SECONDS(TX_TS) ASC RANGE BETWEEN 604800 PRECEDING\n",
    "      AND CURRENT ROW ) AS CUSTOMER_ID_NB_TX_7DAY_WINDOW,\n",
    "    COUNT(TX_FRAUD) OVER (PARTITION BY CUSTOMER_ID ORDER BY UNIX_SECONDS(TX_TS) ASC RANGE BETWEEN 1209600 PRECEDING\n",
    "      AND CURRENT ROW ) AS CUSTOMER_ID_NB_TX_14DAY_WINDOW,\n",
    "      \n",
    "    # calc the customer average tx amount over daily windows per customer (1, 7 and 15 days, expressed in seconds, in dollars ($))\n",
    "    AVG(TX_AMOUNT) OVER (PARTITION BY CUSTOMER_ID ORDER BY UNIX_SECONDS(TX_TS) ASC RANGE BETWEEN 86400 PRECEDING\n",
    "      AND CURRENT ROW ) AS CUSTOMER_ID_AVG_AMOUNT_1DAY_WINDOW,\n",
    "    AVG(TX_AMOUNT) OVER (PARTITION BY CUSTOMER_ID ORDER BY UNIX_SECONDS(TX_TS) ASC RANGE BETWEEN 604800 PRECEDING\n",
    "      AND CURRENT ROW ) AS CUSTOMER_ID_AVG_AMOUNT_7DAY_WINDOW,\n",
    "    AVG(TX_AMOUNT) OVER (PARTITION BY CUSTOMER_ID ORDER BY UNIX_SECONDS(TX_TS) ASC RANGE BETWEEN 1209600 PRECEDING\n",
    "      AND CURRENT ROW ) AS CUSTOMER_ID_AVG_AMOUNT_14DAY_WINDOW,\n",
    "  FROM get_raw_table)\n",
    "\n",
    "# Create the table with CUSTOMER and TERMINAL features ----------------------------------------------------------------------------\n",
    "SELECT\n",
    "  PARSE_TIMESTAMP(\"%Y-%m-%d %H:%M:%S\", FORMAT_TIMESTAMP(\"%Y-%m-%d %H:%M:%S\", TX_TS, \"UTC\")) AS feature_timestamp,\n",
    "  CUSTOMER_ID AS customer_id,\n",
    "  CAST(CUSTOMER_ID_NB_TX_1DAY_WINDOW AS INT64) AS customer_id_nb_tx_1day_window,\n",
    "  CAST(CUSTOMER_ID_NB_TX_7DAY_WINDOW AS INT64) AS customer_id_nb_tx_7day_window,\n",
    "  CAST(CUSTOMER_ID_NB_TX_14DAY_WINDOW AS INT64) AS customer_id_nb_tx_14day_window,\n",
    "  CAST(CUSTOMER_ID_AVG_AMOUNT_1DAY_WINDOW AS FLOAT64) AS customer_id_avg_amount_1day_window,\n",
    "  CAST(CUSTOMER_ID_AVG_AMOUNT_7DAY_WINDOW AS FLOAT64) AS customer_id_avg_amount_7day_window,\n",
    "  CAST(CUSTOMER_ID_AVG_AMOUNT_14DAY_WINDOW AS FLOAT64) AS customer_id_avg_amount_14day_window,\n",
    "FROM\n",
    "  get_customer_spending_behaviour\n",
    "\"\"\""
   ]
  },
  {
   "cell_type": "markdown",
   "metadata": {},
   "source": [
    "##### Run the query \n",
    "\n",
    "You create the customer features table"
   ]
  },
  {
   "cell_type": "code",
   "execution_count": 8,
   "metadata": {
    "tags": []
   },
   "outputs": [
    {
     "name": "stdout",
     "output_type": "stream",
     "text": [
      "Finished job_id: 9d0fb020-d58b-4691-b9da-c2fac7d6accc\n"
     ]
    }
   ],
   "source": [
    "run_bq_query(create_customer_batch_features_query)"
   ]
  },
  {
   "cell_type": "markdown",
   "metadata": {},
   "source": [
    "##### Inspect the result \n",
    "\n",
    "You can query some data rows to validate the result of the query"
   ]
  },
  {
   "cell_type": "code",
   "execution_count": 9,
   "metadata": {
    "tags": []
   },
   "outputs": [
    {
     "name": "stdout",
     "output_type": "stream",
     "text": [
      "Finished job_id: 55b097e8-3f99-419a-848b-f7a915e9785c\n"
     ]
    },
    {
     "data": {
      "text/html": [
       "<div>\n",
       "<style scoped>\n",
       "    .dataframe tbody tr th:only-of-type {\n",
       "        vertical-align: middle;\n",
       "    }\n",
       "\n",
       "    .dataframe tbody tr th {\n",
       "        vertical-align: top;\n",
       "    }\n",
       "\n",
       "    .dataframe thead th {\n",
       "        text-align: right;\n",
       "    }\n",
       "</style>\n",
       "<table border=\"1\" class=\"dataframe\">\n",
       "  <thead>\n",
       "    <tr style=\"text-align: right;\">\n",
       "      <th></th>\n",
       "      <th>feature_timestamp</th>\n",
       "      <th>customer_id</th>\n",
       "      <th>customer_id_nb_tx_1day_window</th>\n",
       "      <th>customer_id_nb_tx_7day_window</th>\n",
       "      <th>customer_id_nb_tx_14day_window</th>\n",
       "      <th>customer_id_avg_amount_1day_window</th>\n",
       "      <th>customer_id_avg_amount_7day_window</th>\n",
       "      <th>customer_id_avg_amount_14day_window</th>\n",
       "    </tr>\n",
       "  </thead>\n",
       "  <tbody>\n",
       "    <tr>\n",
       "      <th>0</th>\n",
       "      <td>2025-05-06 01:52:13+00:00</td>\n",
       "      <td>0207598195419865</td>\n",
       "      <td>3</td>\n",
       "      <td>16</td>\n",
       "      <td>16</td>\n",
       "      <td>31.386667</td>\n",
       "      <td>27.606875</td>\n",
       "      <td>27.606875</td>\n",
       "    </tr>\n",
       "    <tr>\n",
       "      <th>1</th>\n",
       "      <td>2025-05-15 05:38:47+00:00</td>\n",
       "      <td>2853431768962442</td>\n",
       "      <td>6</td>\n",
       "      <td>22</td>\n",
       "      <td>40</td>\n",
       "      <td>23.731667</td>\n",
       "      <td>23.089545</td>\n",
       "      <td>23.249250</td>\n",
       "    </tr>\n",
       "    <tr>\n",
       "      <th>2</th>\n",
       "      <td>2025-05-04 06:17:32+00:00</td>\n",
       "      <td>5000139664464007</td>\n",
       "      <td>1</td>\n",
       "      <td>4</td>\n",
       "      <td>4</td>\n",
       "      <td>21.630000</td>\n",
       "      <td>21.360000</td>\n",
       "      <td>21.360000</td>\n",
       "    </tr>\n",
       "    <tr>\n",
       "      <th>3</th>\n",
       "      <td>2025-05-03 03:52:39+00:00</td>\n",
       "      <td>5420454035885127</td>\n",
       "      <td>3</td>\n",
       "      <td>12</td>\n",
       "      <td>12</td>\n",
       "      <td>96.800000</td>\n",
       "      <td>97.240000</td>\n",
       "      <td>97.240000</td>\n",
       "    </tr>\n",
       "    <tr>\n",
       "      <th>4</th>\n",
       "      <td>2025-05-10 21:29:00+00:00</td>\n",
       "      <td>8679143165351887</td>\n",
       "      <td>6</td>\n",
       "      <td>23</td>\n",
       "      <td>34</td>\n",
       "      <td>84.521667</td>\n",
       "      <td>81.083913</td>\n",
       "      <td>81.790882</td>\n",
       "    </tr>\n",
       "    <tr>\n",
       "      <th>5</th>\n",
       "      <td>2025-05-10 00:41:27+00:00</td>\n",
       "      <td>0125596948516114</td>\n",
       "      <td>4</td>\n",
       "      <td>18</td>\n",
       "      <td>28</td>\n",
       "      <td>14.212500</td>\n",
       "      <td>13.357778</td>\n",
       "      <td>13.209643</td>\n",
       "    </tr>\n",
       "    <tr>\n",
       "      <th>6</th>\n",
       "      <td>2025-04-30 10:21:11+00:00</td>\n",
       "      <td>2785425185695032</td>\n",
       "      <td>1</td>\n",
       "      <td>1</td>\n",
       "      <td>1</td>\n",
       "      <td>50.760000</td>\n",
       "      <td>50.760000</td>\n",
       "      <td>50.760000</td>\n",
       "    </tr>\n",
       "    <tr>\n",
       "      <th>7</th>\n",
       "      <td>2025-05-07 04:10:31+00:00</td>\n",
       "      <td>2785425185695032</td>\n",
       "      <td>3</td>\n",
       "      <td>13</td>\n",
       "      <td>13</td>\n",
       "      <td>57.476667</td>\n",
       "      <td>59.216154</td>\n",
       "      <td>59.216154</td>\n",
       "    </tr>\n",
       "    <tr>\n",
       "      <th>8</th>\n",
       "      <td>2025-04-30 12:26:57+00:00</td>\n",
       "      <td>2976230031485025</td>\n",
       "      <td>2</td>\n",
       "      <td>2</td>\n",
       "      <td>2</td>\n",
       "      <td>56.910000</td>\n",
       "      <td>56.910000</td>\n",
       "      <td>56.910000</td>\n",
       "    </tr>\n",
       "    <tr>\n",
       "      <th>9</th>\n",
       "      <td>2025-05-07 12:36:23+00:00</td>\n",
       "      <td>5336610502816183</td>\n",
       "      <td>2</td>\n",
       "      <td>10</td>\n",
       "      <td>13</td>\n",
       "      <td>91.525000</td>\n",
       "      <td>91.341000</td>\n",
       "      <td>91.284615</td>\n",
       "    </tr>\n",
       "  </tbody>\n",
       "</table>\n",
       "</div>"
      ],
      "text/plain": [
       "          feature_timestamp       customer_id  customer_id_nb_tx_1day_window  \\\n",
       "0 2025-05-06 01:52:13+00:00  0207598195419865                              3   \n",
       "1 2025-05-15 05:38:47+00:00  2853431768962442                              6   \n",
       "2 2025-05-04 06:17:32+00:00  5000139664464007                              1   \n",
       "3 2025-05-03 03:52:39+00:00  5420454035885127                              3   \n",
       "4 2025-05-10 21:29:00+00:00  8679143165351887                              6   \n",
       "5 2025-05-10 00:41:27+00:00  0125596948516114                              4   \n",
       "6 2025-04-30 10:21:11+00:00  2785425185695032                              1   \n",
       "7 2025-05-07 04:10:31+00:00  2785425185695032                              3   \n",
       "8 2025-04-30 12:26:57+00:00  2976230031485025                              2   \n",
       "9 2025-05-07 12:36:23+00:00  5336610502816183                              2   \n",
       "\n",
       "   customer_id_nb_tx_7day_window  customer_id_nb_tx_14day_window  \\\n",
       "0                             16                              16   \n",
       "1                             22                              40   \n",
       "2                              4                               4   \n",
       "3                             12                              12   \n",
       "4                             23                              34   \n",
       "5                             18                              28   \n",
       "6                              1                               1   \n",
       "7                             13                              13   \n",
       "8                              2                               2   \n",
       "9                             10                              13   \n",
       "\n",
       "   customer_id_avg_amount_1day_window  customer_id_avg_amount_7day_window  \\\n",
       "0                           31.386667                           27.606875   \n",
       "1                           23.731667                           23.089545   \n",
       "2                           21.630000                           21.360000   \n",
       "3                           96.800000                           97.240000   \n",
       "4                           84.521667                           81.083913   \n",
       "5                           14.212500                           13.357778   \n",
       "6                           50.760000                           50.760000   \n",
       "7                           57.476667                           59.216154   \n",
       "8                           56.910000                           56.910000   \n",
       "9                           91.525000                           91.341000   \n",
       "\n",
       "   customer_id_avg_amount_14day_window  \n",
       "0                            27.606875  \n",
       "1                            23.249250  \n",
       "2                            21.360000  \n",
       "3                            97.240000  \n",
       "4                            81.790882  \n",
       "5                            13.209643  \n",
       "6                            50.760000  \n",
       "7                            59.216154  \n",
       "8                            56.910000  \n",
       "9                            91.284615  "
      ]
     },
     "execution_count": 9,
     "metadata": {},
     "output_type": "execute_result"
    }
   ],
   "source": [
    "run_bq_query(\n",
    "    f\"SELECT * FROM `{CUSTOMERS_BQ_TABLE_URI}` LIMIT 10\",\n",
    "    show=True\n",
    ")"
   ]
  },
  {
   "cell_type": "markdown",
   "metadata": {},
   "source": [
    "##### Terminal feature table\n",
    "\n",
    "Terminal table SQL query string:"
   ]
  },
  {
   "cell_type": "code",
   "execution_count": 10,
   "metadata": {
    "id": "43Ck_vAc3t4z",
    "tags": []
   },
   "outputs": [],
   "source": [
    "create_terminal_batch_features_query = f\"\"\"\n",
    "CREATE OR REPLACE TABLE `{TERMINALS_BQ_TABLE_URI}` AS\n",
    "WITH\n",
    "  -- query to join labels with features -------------------------------------------------------------------------------------------\n",
    "  get_raw_table AS (\n",
    "  SELECT\n",
    "    raw_tx.TX_TS,\n",
    "    raw_tx.TX_ID,\n",
    "    raw_tx.CUSTOMER_ID,\n",
    "    raw_tx.TERMINAL_ID,\n",
    "    raw_tx.TX_AMOUNT,\n",
    "    raw_lb.TX_FRAUD\n",
    "  FROM (\n",
    "    SELECT\n",
    "      *\n",
    "    FROM\n",
    "      `{config.RAW_BQ_TRANSACTION_TABLE_URI}`\n",
    "    WHERE\n",
    "      DATE(TX_TS) BETWEEN DATE_SUB(\"{DATAPROCESSING_END_DATE}\", INTERVAL 15 DAY) AND \"{DATAPROCESSING_END_DATE}\"\n",
    "    ) raw_tx\n",
    "  LEFT JOIN \n",
    "    `{config.RAW_BQ_LABELS_TABLE_URI}` as raw_lb\n",
    "  ON raw_tx.TX_ID = raw_lb.TX_ID),\n",
    "\n",
    "  # query to calculate TERMINAL spending behaviour --------------------------------------------------------------------------------\n",
    "  get_variables_delay_window AS (\n",
    "  SELECT\n",
    "    TX_TS,\n",
    "    TX_ID,\n",
    "    CUSTOMER_ID,\n",
    "    TERMINAL_ID,\n",
    "    \n",
    "    # calc total amount of fraudulent tx and the total number of tx over the delay period per terminal (7 days - delay, expressed in seconds)\n",
    "    SUM(TX_FRAUD) OVER (PARTITION BY TERMINAL_ID ORDER BY UNIX_SECONDS(TX_TS) ASC RANGE BETWEEN 604800 PRECEDING\n",
    "      AND CURRENT ROW ) AS NB_FRAUD_DELAY,\n",
    "    COUNT(TX_FRAUD) OVER (PARTITION BY TERMINAL_ID ORDER BY UNIX_SECONDS(TX_TS) ASC RANGE BETWEEN 604800 PRECEDING\n",
    "      AND CURRENT ROW ) AS NB_TX_DELAY,\n",
    "      \n",
    "    # calc total amount of fraudulent tx and the total number of tx over the delayed window per terminal (window + 7 days - delay, expressed in seconds)\n",
    "    SUM(TX_FRAUD) OVER (PARTITION BY TERMINAL_ID ORDER BY UNIX_SECONDS(TX_TS) ASC RANGE BETWEEN 691200 PRECEDING\n",
    "      AND CURRENT ROW ) AS NB_FRAUD_1_DELAY_WINDOW,\n",
    "    SUM(TX_FRAUD) OVER (PARTITION BY TERMINAL_ID ORDER BY UNIX_SECONDS(TX_TS) ASC RANGE BETWEEN 1209600 PRECEDING\n",
    "      AND CURRENT ROW ) AS NB_FRAUD_7_DELAY_WINDOW,\n",
    "    SUM(TX_FRAUD) OVER (PARTITION BY TERMINAL_ID ORDER BY UNIX_SECONDS(TX_TS) ASC RANGE BETWEEN 1814400 PRECEDING\n",
    "      AND CURRENT ROW ) AS NB_FRAUD_14_DELAY_WINDOW,\n",
    "    COUNT(TX_FRAUD) OVER (PARTITION BY TERMINAL_ID ORDER BY UNIX_SECONDS(TX_TS) ASC RANGE BETWEEN 691200 PRECEDING\n",
    "      AND CURRENT ROW ) AS NB_TX_1_DELAY_WINDOW,\n",
    "    COUNT(TX_FRAUD) OVER (PARTITION BY TERMINAL_ID ORDER BY UNIX_SECONDS(TX_TS) ASC RANGE BETWEEN 1209600 PRECEDING\n",
    "      AND CURRENT ROW ) AS NB_TX_7_DELAY_WINDOW,\n",
    "    COUNT(TX_FRAUD) OVER (PARTITION BY TERMINAL_ID ORDER BY UNIX_SECONDS(TX_TS) ASC RANGE BETWEEN 1814400 PRECEDING\n",
    "      AND CURRENT ROW ) AS NB_TX_14_DELAY_WINDOW,\n",
    "  FROM get_raw_table),\n",
    "\n",
    "  # query to calculate TERMINAL risk factors ---------------------------------------------------------------------------------------\n",
    "  get_risk_factors AS (\n",
    "  SELECT\n",
    "    TX_TS,\n",
    "    TX_ID,\n",
    "    CUSTOMER_ID,\n",
    "    TERMINAL_ID,\n",
    "    # calculate numerator of risk index\n",
    "    NB_FRAUD_1_DELAY_WINDOW - NB_FRAUD_DELAY AS TERMINAL_ID_NB_FRAUD_1DAY_WINDOW,\n",
    "    NB_FRAUD_7_DELAY_WINDOW - NB_FRAUD_DELAY AS TERMINAL_ID_NB_FRAUD_7DAY_WINDOW,\n",
    "    NB_FRAUD_14_DELAY_WINDOW - NB_FRAUD_DELAY AS TERMINAL_ID_NB_FRAUD_14DAY_WINDOW,\n",
    "    # calculate denominator of risk index\n",
    "    NB_TX_1_DELAY_WINDOW - NB_TX_DELAY AS TERMINAL_ID_NB_TX_1DAY_WINDOW,\n",
    "    NB_TX_7_DELAY_WINDOW - NB_TX_DELAY AS TERMINAL_ID_NB_TX_7DAY_WINDOW,\n",
    "    NB_TX_14_DELAY_WINDOW - NB_TX_DELAY AS TERMINAL_ID_NB_TX_14DAY_WINDOW,\n",
    "      FROM\n",
    "    get_variables_delay_window),\n",
    "\n",
    "  # query to calculate the TERMINAL risk index -------------------------------------------------------------------------------------\n",
    "  get_risk_index AS (\n",
    "    SELECT\n",
    "    TX_TS,\n",
    "    TX_ID,\n",
    "    CUSTOMER_ID,\n",
    "    TERMINAL_ID,\n",
    "    TERMINAL_ID_NB_TX_1DAY_WINDOW,\n",
    "    TERMINAL_ID_NB_TX_7DAY_WINDOW,\n",
    "    TERMINAL_ID_NB_TX_14DAY_WINDOW,\n",
    "    # calculate the risk index\n",
    "    (TERMINAL_ID_NB_FRAUD_1DAY_WINDOW/(TERMINAL_ID_NB_TX_1DAY_WINDOW+0.0001)) AS TERMINAL_ID_RISK_1DAY_WINDOW,\n",
    "    (TERMINAL_ID_NB_FRAUD_7DAY_WINDOW/(TERMINAL_ID_NB_TX_7DAY_WINDOW+0.0001)) AS TERMINAL_ID_RISK_7DAY_WINDOW,\n",
    "    (TERMINAL_ID_NB_FRAUD_14DAY_WINDOW/(TERMINAL_ID_NB_TX_14DAY_WINDOW+0.0001)) AS TERMINAL_ID_RISK_14DAY_WINDOW\n",
    "    FROM get_risk_factors \n",
    "  )\n",
    "\n",
    "# Create the table with CUSTOMER and TERMINAL features ----------------------------------------------------------------------------\n",
    "SELECT\n",
    "  PARSE_TIMESTAMP(\"%Y-%m-%d %H:%M:%S\", FORMAT_TIMESTAMP(\"%Y-%m-%d %H:%M:%S\", TX_TS, \"UTC\")) AS feature_timestamp,\n",
    "  TERMINAL_ID AS terminal_id,\n",
    "  CAST(TERMINAL_ID_NB_TX_1DAY_WINDOW AS INT64) AS terminal_id_nb_tx_1day_window,\n",
    "  CAST(TERMINAL_ID_NB_TX_7DAY_WINDOW AS INT64) AS terminal_id_nb_tx_7day_window,\n",
    "  CAST(TERMINAL_ID_NB_TX_14DAY_WINDOW AS INT64) AS terminal_id_nb_tx_14day_window,\n",
    "  CAST(TERMINAL_ID_RISK_1DAY_WINDOW AS FLOAT64) AS terminal_id_risk_1day_window,\n",
    "  CAST(TERMINAL_ID_RISK_7DAY_WINDOW AS FLOAT64) AS terminal_id_risk_7day_window,\n",
    "  CAST(TERMINAL_ID_RISK_14DAY_WINDOW AS FLOAT64) AS terminal_id_risk_14day_window,\n",
    "FROM\n",
    "  get_risk_index\n",
    "\"\"\""
   ]
  },
  {
   "cell_type": "markdown",
   "metadata": {},
   "source": [
    "##### Run the query \n",
    "\n",
    "You create the customer features table"
   ]
  },
  {
   "cell_type": "code",
   "execution_count": 11,
   "metadata": {
    "tags": []
   },
   "outputs": [
    {
     "name": "stdout",
     "output_type": "stream",
     "text": [
      "Finished job_id: 1d82bd6c-9185-4c8d-9de9-fbc45a1a6575\n"
     ]
    }
   ],
   "source": [
    "run_bq_query(create_terminal_batch_features_query)"
   ]
  },
  {
   "cell_type": "markdown",
   "metadata": {},
   "source": [
    "##### Inspect the result \n",
    "\n",
    "You can query some data rows to validate the result of the query"
   ]
  },
  {
   "cell_type": "code",
   "execution_count": 12,
   "metadata": {
    "tags": []
   },
   "outputs": [
    {
     "name": "stdout",
     "output_type": "stream",
     "text": [
      "Finished job_id: c0cacf6a-4525-4e18-a2d1-52403a2c13ea\n"
     ]
    },
    {
     "data": {
      "text/html": [
       "<div>\n",
       "<style scoped>\n",
       "    .dataframe tbody tr th:only-of-type {\n",
       "        vertical-align: middle;\n",
       "    }\n",
       "\n",
       "    .dataframe tbody tr th {\n",
       "        vertical-align: top;\n",
       "    }\n",
       "\n",
       "    .dataframe thead th {\n",
       "        text-align: right;\n",
       "    }\n",
       "</style>\n",
       "<table border=\"1\" class=\"dataframe\">\n",
       "  <thead>\n",
       "    <tr style=\"text-align: right;\">\n",
       "      <th></th>\n",
       "      <th>feature_timestamp</th>\n",
       "      <th>terminal_id</th>\n",
       "      <th>terminal_id_nb_tx_1day_window</th>\n",
       "      <th>terminal_id_nb_tx_7day_window</th>\n",
       "      <th>terminal_id_nb_tx_14day_window</th>\n",
       "      <th>terminal_id_risk_1day_window</th>\n",
       "      <th>terminal_id_risk_7day_window</th>\n",
       "      <th>terminal_id_risk_14day_window</th>\n",
       "    </tr>\n",
       "  </thead>\n",
       "  <tbody>\n",
       "    <tr>\n",
       "      <th>0</th>\n",
       "      <td>2025-05-09 17:02:26+00:00</td>\n",
       "      <td>06436927</td>\n",
       "      <td>21</td>\n",
       "      <td>55</td>\n",
       "      <td>55</td>\n",
       "      <td>0.000000</td>\n",
       "      <td>0.018182</td>\n",
       "      <td>0.018182</td>\n",
       "    </tr>\n",
       "    <tr>\n",
       "      <th>1</th>\n",
       "      <td>2025-05-03 15:22:33+00:00</td>\n",
       "      <td>57494533</td>\n",
       "      <td>0</td>\n",
       "      <td>0</td>\n",
       "      <td>0</td>\n",
       "      <td>0.000000</td>\n",
       "      <td>0.000000</td>\n",
       "      <td>0.000000</td>\n",
       "    </tr>\n",
       "    <tr>\n",
       "      <th>2</th>\n",
       "      <td>2025-05-04 11:13:27+00:00</td>\n",
       "      <td>42000435</td>\n",
       "      <td>0</td>\n",
       "      <td>0</td>\n",
       "      <td>0</td>\n",
       "      <td>0.000000</td>\n",
       "      <td>0.000000</td>\n",
       "      <td>0.000000</td>\n",
       "    </tr>\n",
       "    <tr>\n",
       "      <th>3</th>\n",
       "      <td>2025-04-30 19:56:56+00:00</td>\n",
       "      <td>75187224</td>\n",
       "      <td>0</td>\n",
       "      <td>0</td>\n",
       "      <td>0</td>\n",
       "      <td>0.000000</td>\n",
       "      <td>0.000000</td>\n",
       "      <td>0.000000</td>\n",
       "    </tr>\n",
       "    <tr>\n",
       "      <th>4</th>\n",
       "      <td>2025-05-10 15:31:00+00:00</td>\n",
       "      <td>81361404</td>\n",
       "      <td>20</td>\n",
       "      <td>60</td>\n",
       "      <td>60</td>\n",
       "      <td>0.000000</td>\n",
       "      <td>0.000000</td>\n",
       "      <td>0.000000</td>\n",
       "    </tr>\n",
       "    <tr>\n",
       "      <th>5</th>\n",
       "      <td>2025-05-03 19:50:09+00:00</td>\n",
       "      <td>82173530</td>\n",
       "      <td>0</td>\n",
       "      <td>0</td>\n",
       "      <td>0</td>\n",
       "      <td>0.000000</td>\n",
       "      <td>0.000000</td>\n",
       "      <td>0.000000</td>\n",
       "    </tr>\n",
       "    <tr>\n",
       "      <th>6</th>\n",
       "      <td>2025-05-15 17:37:21+00:00</td>\n",
       "      <td>82173530</td>\n",
       "      <td>12</td>\n",
       "      <td>114</td>\n",
       "      <td>140</td>\n",
       "      <td>0.000000</td>\n",
       "      <td>0.000000</td>\n",
       "      <td>0.000000</td>\n",
       "    </tr>\n",
       "    <tr>\n",
       "      <th>7</th>\n",
       "      <td>2025-05-11 08:09:48+00:00</td>\n",
       "      <td>90416428</td>\n",
       "      <td>24</td>\n",
       "      <td>89</td>\n",
       "      <td>89</td>\n",
       "      <td>0.000000</td>\n",
       "      <td>0.011236</td>\n",
       "      <td>0.011236</td>\n",
       "    </tr>\n",
       "    <tr>\n",
       "      <th>8</th>\n",
       "      <td>2025-05-15 09:50:50+00:00</td>\n",
       "      <td>90914987</td>\n",
       "      <td>21</td>\n",
       "      <td>118</td>\n",
       "      <td>145</td>\n",
       "      <td>0.000000</td>\n",
       "      <td>0.016949</td>\n",
       "      <td>0.013793</td>\n",
       "    </tr>\n",
       "    <tr>\n",
       "      <th>9</th>\n",
       "      <td>2025-05-07 23:28:45+00:00</td>\n",
       "      <td>26961822</td>\n",
       "      <td>33</td>\n",
       "      <td>33</td>\n",
       "      <td>33</td>\n",
       "      <td>0.060606</td>\n",
       "      <td>0.060606</td>\n",
       "      <td>0.060606</td>\n",
       "    </tr>\n",
       "  </tbody>\n",
       "</table>\n",
       "</div>"
      ],
      "text/plain": [
       "          feature_timestamp terminal_id  terminal_id_nb_tx_1day_window  \\\n",
       "0 2025-05-09 17:02:26+00:00    06436927                             21   \n",
       "1 2025-05-03 15:22:33+00:00    57494533                              0   \n",
       "2 2025-05-04 11:13:27+00:00    42000435                              0   \n",
       "3 2025-04-30 19:56:56+00:00    75187224                              0   \n",
       "4 2025-05-10 15:31:00+00:00    81361404                             20   \n",
       "5 2025-05-03 19:50:09+00:00    82173530                              0   \n",
       "6 2025-05-15 17:37:21+00:00    82173530                             12   \n",
       "7 2025-05-11 08:09:48+00:00    90416428                             24   \n",
       "8 2025-05-15 09:50:50+00:00    90914987                             21   \n",
       "9 2025-05-07 23:28:45+00:00    26961822                             33   \n",
       "\n",
       "   terminal_id_nb_tx_7day_window  terminal_id_nb_tx_14day_window  \\\n",
       "0                             55                              55   \n",
       "1                              0                               0   \n",
       "2                              0                               0   \n",
       "3                              0                               0   \n",
       "4                             60                              60   \n",
       "5                              0                               0   \n",
       "6                            114                             140   \n",
       "7                             89                              89   \n",
       "8                            118                             145   \n",
       "9                             33                              33   \n",
       "\n",
       "   terminal_id_risk_1day_window  terminal_id_risk_7day_window  \\\n",
       "0                      0.000000                      0.018182   \n",
       "1                      0.000000                      0.000000   \n",
       "2                      0.000000                      0.000000   \n",
       "3                      0.000000                      0.000000   \n",
       "4                      0.000000                      0.000000   \n",
       "5                      0.000000                      0.000000   \n",
       "6                      0.000000                      0.000000   \n",
       "7                      0.000000                      0.011236   \n",
       "8                      0.000000                      0.016949   \n",
       "9                      0.060606                      0.060606   \n",
       "\n",
       "   terminal_id_risk_14day_window  \n",
       "0                       0.018182  \n",
       "1                       0.000000  \n",
       "2                       0.000000  \n",
       "3                       0.000000  \n",
       "4                       0.000000  \n",
       "5                       0.000000  \n",
       "6                       0.000000  \n",
       "7                       0.011236  \n",
       "8                       0.013793  \n",
       "9                       0.060606  "
      ]
     },
     "execution_count": 12,
     "metadata": {},
     "output_type": "execute_result"
    }
   ],
   "source": [
    "run_bq_query(\n",
    "    f\"SELECT * FROM `{TERMINALS_BQ_TABLE_URI}` LIMIT 10\",\n",
    "    show=True\n",
    ")"
   ]
  },
  {
   "cell_type": "markdown",
   "metadata": {
    "id": "4d22f76fcd85"
   },
   "source": [
    "### Define customer and terminal-related features for _real-time_ feature engineering\n",
    "\n",
    "To make more accurate predictions, you can also create real-time features to inspect, for example, the most recent minutes of activity for both customers and terminals.\n",
    "\n",
    "In order to have these features available for training and inference, we first need to make sure they are defined in a BigQuery table as placeholders to be ingested into Vertex AI Feature Store.\n",
    "\n",
    "In the query below, you initialize two sets of features for real-time feature engineering: \n",
    "\n",
    "1. Customer features which describes the spending behaviour of customer within 15, 30 and 60 minutes time windows using number of transactions and average amount spent in dollars ($)\n",
    "\n",
    "2. Terminal features which describes the risk of a given terminal to be exposed to fraudulent transactions within 15, 30 and 60 minutes using average number of fraudulent transactions in dollars ($) and the number of transactions. \n",
    "\n",
    "To do so, you will:\n",
    "\n",
    "- Add one column for each real time feature\n",
    "- Set 0 as default values for each of them\n",
    "- Update all real-time columns with default values\n",
    "\n",
    "Then you will create the actual values for real-time feature engineering in the next `03_feature_engineering_streaming.ipynb` notebook. "
   ]
  },
  {
   "cell_type": "markdown",
   "metadata": {
    "id": "612e2fa65748"
   },
   "source": [
    "#### Define the query to initialize the real-time features."
   ]
  },
  {
   "cell_type": "markdown",
   "metadata": {},
   "source": [
    "##### Customer feature table\n",
    "\n",
    "Customer table SQL query string:"
   ]
  },
  {
   "cell_type": "code",
   "execution_count": 13,
   "metadata": {
    "id": "c1aed0001232",
    "tags": []
   },
   "outputs": [],
   "source": [
    "initiate_real_time_customer_features_query = f\"\"\"\n",
    "ALTER TABLE `{CUSTOMERS_BQ_TABLE_URI}`\n",
    "ADD COLUMN customer_id_nb_tx_15min_window INT64,\n",
    "ADD COLUMN customer_id_nb_tx_30min_window INT64,\n",
    "ADD COLUMN customer_id_nb_tx_60min_window INT64,\n",
    "ADD COLUMN customer_id_avg_amount_15min_window FLOAT64,\n",
    "ADD COLUMN customer_id_avg_amount_30min_window FLOAT64,\n",
    "ADD COLUMN customer_id_avg_amount_60min_window FLOAT64;\n",
    "\n",
    "ALTER TABLE `{CUSTOMERS_BQ_TABLE_URI}`\n",
    "ALTER COLUMN customer_id_nb_tx_15min_window SET DEFAULT 0,\n",
    "ALTER COLUMN customer_id_nb_tx_30min_window SET DEFAULT 0,\n",
    "ALTER COLUMN customer_id_nb_tx_60min_window SET DEFAULT 0,\n",
    "ALTER COLUMN customer_id_avg_amount_15min_window SET DEFAULT 0,\n",
    "ALTER COLUMN customer_id_avg_amount_30min_window SET DEFAULT 0,\n",
    "ALTER COLUMN customer_id_avg_amount_60min_window SET DEFAULT 0;\n",
    "\n",
    "UPDATE `{CUSTOMERS_BQ_TABLE_URI}`\n",
    "SET customer_id_nb_tx_15min_window = 0,\n",
    "    customer_id_nb_tx_30min_window  = 0,\n",
    "    customer_id_nb_tx_60min_window  = 0, \n",
    "    customer_id_avg_amount_15min_window = 0,\n",
    "    customer_id_avg_amount_30min_window  = 0,\n",
    "    customer_id_avg_amount_60min_window  = 0\n",
    "WHERE TRUE; \n",
    "\"\"\""
   ]
  },
  {
   "cell_type": "code",
   "execution_count": 14,
   "metadata": {
    "tags": []
   },
   "outputs": [],
   "source": [
    "initiate_real_time_terminal_features_query = f\"\"\"\n",
    "ALTER TABLE `{TERMINALS_BQ_TABLE_URI}`\n",
    "ADD COLUMN terminal_id_nb_tx_15min_window INT64,\n",
    "ADD COLUMN terminal_id_nb_tx_30min_window INT64,\n",
    "ADD COLUMN terminal_id_nb_tx_60min_window INT64,\n",
    "ADD COLUMN terminal_id_avg_amount_15min_window FLOAT64,\n",
    "ADD COLUMN terminal_id_avg_amount_30min_window FLOAT64,\n",
    "ADD COLUMN terminal_id_avg_amount_60min_window FLOAT64;\n",
    "\n",
    "ALTER TABLE `{TERMINALS_BQ_TABLE_URI}`\n",
    "ALTER COLUMN terminal_id_nb_tx_15min_window SET DEFAULT 0,\n",
    "ALTER COLUMN terminal_id_nb_tx_30min_window SET DEFAULT 0,\n",
    "ALTER COLUMN terminal_id_nb_tx_60min_window SET DEFAULT 0,\n",
    "ALTER COLUMN terminal_id_avg_amount_15min_window SET DEFAULT 0,\n",
    "ALTER COLUMN terminal_id_avg_amount_30min_window SET DEFAULT 0,\n",
    "ALTER COLUMN terminal_id_avg_amount_60min_window SET DEFAULT 0;\n",
    "\n",
    "UPDATE `{TERMINALS_BQ_TABLE_URI}`\n",
    "SET terminal_id_nb_tx_15min_window = 0,\n",
    "    terminal_id_nb_tx_30min_window  = 0,\n",
    "    terminal_id_nb_tx_60min_window  = 0,\n",
    "    terminal_id_avg_amount_15min_window = 0,\n",
    "    terminal_id_avg_amount_30min_window = 0,\n",
    "    terminal_id_avg_amount_60min_window  = 0\n",
    "WHERE TRUE; \n",
    "\"\"\""
   ]
  },
  {
   "cell_type": "markdown",
   "metadata": {
    "id": "1d35d1e69d72"
   },
   "source": [
    "#### Run the query above to initialize the real-time features."
   ]
  },
  {
   "cell_type": "code",
   "execution_count": 15,
   "metadata": {
    "id": "aae355c66e4a",
    "tags": []
   },
   "outputs": [
    {
     "name": "stdout",
     "output_type": "stream",
     "text": [
      "Finished job_id: 28d5edc1-cc16-45ab-8b44-2c3b8135e415\n",
      "Finished job_id: 1f3b8c87-a0b5-4646-a4fb-7fe6ccea02b2\n"
     ]
    }
   ],
   "source": [
    "for query in [initiate_real_time_customer_features_query, initiate_real_time_terminal_features_query]:\n",
    "    run_bq_query(query)"
   ]
  },
  {
   "cell_type": "markdown",
   "metadata": {
    "id": "76733185d022"
   },
   "source": [
    "#### Inspect BigQuery features tables"
   ]
  },
  {
   "cell_type": "code",
   "execution_count": 16,
   "metadata": {
    "id": "774a90225747",
    "tags": []
   },
   "outputs": [
    {
     "name": "stdout",
     "output_type": "stream",
     "text": [
      "Finished job_id: 7a1a0987-d278-4d67-88f7-d5d849f90d23\n"
     ]
    },
    {
     "data": {
      "text/html": [
       "<div>\n",
       "<style scoped>\n",
       "    .dataframe tbody tr th:only-of-type {\n",
       "        vertical-align: middle;\n",
       "    }\n",
       "\n",
       "    .dataframe tbody tr th {\n",
       "        vertical-align: top;\n",
       "    }\n",
       "\n",
       "    .dataframe thead th {\n",
       "        text-align: right;\n",
       "    }\n",
       "</style>\n",
       "<table border=\"1\" class=\"dataframe\">\n",
       "  <thead>\n",
       "    <tr style=\"text-align: right;\">\n",
       "      <th></th>\n",
       "      <th>feature_timestamp</th>\n",
       "      <th>customer_id</th>\n",
       "      <th>customer_id_nb_tx_1day_window</th>\n",
       "      <th>customer_id_nb_tx_7day_window</th>\n",
       "      <th>customer_id_nb_tx_14day_window</th>\n",
       "      <th>customer_id_avg_amount_1day_window</th>\n",
       "      <th>customer_id_avg_amount_7day_window</th>\n",
       "      <th>customer_id_avg_amount_14day_window</th>\n",
       "      <th>customer_id_nb_tx_15min_window</th>\n",
       "      <th>customer_id_nb_tx_30min_window</th>\n",
       "      <th>customer_id_nb_tx_60min_window</th>\n",
       "      <th>customer_id_avg_amount_15min_window</th>\n",
       "      <th>customer_id_avg_amount_30min_window</th>\n",
       "      <th>customer_id_avg_amount_60min_window</th>\n",
       "    </tr>\n",
       "  </thead>\n",
       "  <tbody>\n",
       "    <tr>\n",
       "      <th>0</th>\n",
       "      <td>2025-04-30 06:57:52+00:00</td>\n",
       "      <td>5272441786908869</td>\n",
       "      <td>1</td>\n",
       "      <td>1</td>\n",
       "      <td>1</td>\n",
       "      <td>65.43</td>\n",
       "      <td>65.43</td>\n",
       "      <td>65.43</td>\n",
       "      <td>0</td>\n",
       "      <td>0</td>\n",
       "      <td>0</td>\n",
       "      <td>0.0</td>\n",
       "      <td>0.0</td>\n",
       "      <td>0.0</td>\n",
       "    </tr>\n",
       "    <tr>\n",
       "      <th>1</th>\n",
       "      <td>2025-04-30 04:12:12+00:00</td>\n",
       "      <td>2436458327544140</td>\n",
       "      <td>1</td>\n",
       "      <td>1</td>\n",
       "      <td>1</td>\n",
       "      <td>67.94</td>\n",
       "      <td>67.94</td>\n",
       "      <td>67.94</td>\n",
       "      <td>0</td>\n",
       "      <td>0</td>\n",
       "      <td>0</td>\n",
       "      <td>0.0</td>\n",
       "      <td>0.0</td>\n",
       "      <td>0.0</td>\n",
       "    </tr>\n",
       "    <tr>\n",
       "      <th>2</th>\n",
       "      <td>2025-04-30 01:29:51+00:00</td>\n",
       "      <td>3223286095043809</td>\n",
       "      <td>1</td>\n",
       "      <td>1</td>\n",
       "      <td>1</td>\n",
       "      <td>87.25</td>\n",
       "      <td>87.25</td>\n",
       "      <td>87.25</td>\n",
       "      <td>0</td>\n",
       "      <td>0</td>\n",
       "      <td>0</td>\n",
       "      <td>0.0</td>\n",
       "      <td>0.0</td>\n",
       "      <td>0.0</td>\n",
       "    </tr>\n",
       "    <tr>\n",
       "      <th>3</th>\n",
       "      <td>2025-05-01 08:03:46+00:00</td>\n",
       "      <td>8262782715761268</td>\n",
       "      <td>1</td>\n",
       "      <td>1</td>\n",
       "      <td>1</td>\n",
       "      <td>88.84</td>\n",
       "      <td>88.84</td>\n",
       "      <td>88.84</td>\n",
       "      <td>0</td>\n",
       "      <td>0</td>\n",
       "      <td>0</td>\n",
       "      <td>0.0</td>\n",
       "      <td>0.0</td>\n",
       "      <td>0.0</td>\n",
       "    </tr>\n",
       "    <tr>\n",
       "      <th>4</th>\n",
       "      <td>2025-05-01 06:03:29+00:00</td>\n",
       "      <td>8478017930253156</td>\n",
       "      <td>1</td>\n",
       "      <td>1</td>\n",
       "      <td>1</td>\n",
       "      <td>49.10</td>\n",
       "      <td>49.10</td>\n",
       "      <td>49.10</td>\n",
       "      <td>0</td>\n",
       "      <td>0</td>\n",
       "      <td>0</td>\n",
       "      <td>0.0</td>\n",
       "      <td>0.0</td>\n",
       "      <td>0.0</td>\n",
       "    </tr>\n",
       "  </tbody>\n",
       "</table>\n",
       "</div>"
      ],
      "text/plain": [
       "          feature_timestamp       customer_id  customer_id_nb_tx_1day_window  \\\n",
       "0 2025-04-30 06:57:52+00:00  5272441786908869                              1   \n",
       "1 2025-04-30 04:12:12+00:00  2436458327544140                              1   \n",
       "2 2025-04-30 01:29:51+00:00  3223286095043809                              1   \n",
       "3 2025-05-01 08:03:46+00:00  8262782715761268                              1   \n",
       "4 2025-05-01 06:03:29+00:00  8478017930253156                              1   \n",
       "\n",
       "   customer_id_nb_tx_7day_window  customer_id_nb_tx_14day_window  \\\n",
       "0                              1                               1   \n",
       "1                              1                               1   \n",
       "2                              1                               1   \n",
       "3                              1                               1   \n",
       "4                              1                               1   \n",
       "\n",
       "   customer_id_avg_amount_1day_window  customer_id_avg_amount_7day_window  \\\n",
       "0                               65.43                               65.43   \n",
       "1                               67.94                               67.94   \n",
       "2                               87.25                               87.25   \n",
       "3                               88.84                               88.84   \n",
       "4                               49.10                               49.10   \n",
       "\n",
       "   customer_id_avg_amount_14day_window  customer_id_nb_tx_15min_window  \\\n",
       "0                                65.43                               0   \n",
       "1                                67.94                               0   \n",
       "2                                87.25                               0   \n",
       "3                                88.84                               0   \n",
       "4                                49.10                               0   \n",
       "\n",
       "   customer_id_nb_tx_30min_window  customer_id_nb_tx_60min_window  \\\n",
       "0                               0                               0   \n",
       "1                               0                               0   \n",
       "2                               0                               0   \n",
       "3                               0                               0   \n",
       "4                               0                               0   \n",
       "\n",
       "   customer_id_avg_amount_15min_window  customer_id_avg_amount_30min_window  \\\n",
       "0                                  0.0                                  0.0   \n",
       "1                                  0.0                                  0.0   \n",
       "2                                  0.0                                  0.0   \n",
       "3                                  0.0                                  0.0   \n",
       "4                                  0.0                                  0.0   \n",
       "\n",
       "   customer_id_avg_amount_60min_window  \n",
       "0                                  0.0  \n",
       "1                                  0.0  \n",
       "2                                  0.0  \n",
       "3                                  0.0  \n",
       "4                                  0.0  "
      ]
     },
     "execution_count": 16,
     "metadata": {},
     "output_type": "execute_result"
    }
   ],
   "source": [
    "run_bq_query(\n",
    "    f\"SELECT * FROM `{CUSTOMERS_BQ_TABLE_URI}` LIMIT 5\", show=True\n",
    ")"
   ]
  },
  {
   "cell_type": "code",
   "execution_count": 17,
   "metadata": {
    "tags": []
   },
   "outputs": [
    {
     "name": "stdout",
     "output_type": "stream",
     "text": [
      "Finished job_id: 058cb763-ef9b-4fe8-a5ae-74d9e9f3c5ff\n"
     ]
    },
    {
     "data": {
      "text/html": [
       "<div>\n",
       "<style scoped>\n",
       "    .dataframe tbody tr th:only-of-type {\n",
       "        vertical-align: middle;\n",
       "    }\n",
       "\n",
       "    .dataframe tbody tr th {\n",
       "        vertical-align: top;\n",
       "    }\n",
       "\n",
       "    .dataframe thead th {\n",
       "        text-align: right;\n",
       "    }\n",
       "</style>\n",
       "<table border=\"1\" class=\"dataframe\">\n",
       "  <thead>\n",
       "    <tr style=\"text-align: right;\">\n",
       "      <th></th>\n",
       "      <th>feature_timestamp</th>\n",
       "      <th>terminal_id</th>\n",
       "      <th>terminal_id_nb_tx_1day_window</th>\n",
       "      <th>terminal_id_nb_tx_7day_window</th>\n",
       "      <th>terminal_id_nb_tx_14day_window</th>\n",
       "      <th>terminal_id_risk_1day_window</th>\n",
       "      <th>terminal_id_risk_7day_window</th>\n",
       "      <th>terminal_id_risk_14day_window</th>\n",
       "      <th>terminal_id_nb_tx_15min_window</th>\n",
       "      <th>terminal_id_nb_tx_30min_window</th>\n",
       "      <th>terminal_id_nb_tx_60min_window</th>\n",
       "      <th>terminal_id_avg_amount_15min_window</th>\n",
       "      <th>terminal_id_avg_amount_30min_window</th>\n",
       "      <th>terminal_id_avg_amount_60min_window</th>\n",
       "    </tr>\n",
       "  </thead>\n",
       "  <tbody>\n",
       "    <tr>\n",
       "      <th>0</th>\n",
       "      <td>2025-05-04 20:17:55+00:00</td>\n",
       "      <td>30430351</td>\n",
       "      <td>0</td>\n",
       "      <td>0</td>\n",
       "      <td>0</td>\n",
       "      <td>0.0</td>\n",
       "      <td>0.0</td>\n",
       "      <td>0.0</td>\n",
       "      <td>0</td>\n",
       "      <td>0</td>\n",
       "      <td>0</td>\n",
       "      <td>0.0</td>\n",
       "      <td>0.0</td>\n",
       "      <td>0.0</td>\n",
       "    </tr>\n",
       "    <tr>\n",
       "      <th>1</th>\n",
       "      <td>2025-05-05 14:18:30+00:00</td>\n",
       "      <td>17803600</td>\n",
       "      <td>0</td>\n",
       "      <td>0</td>\n",
       "      <td>0</td>\n",
       "      <td>0.0</td>\n",
       "      <td>0.0</td>\n",
       "      <td>0.0</td>\n",
       "      <td>0</td>\n",
       "      <td>0</td>\n",
       "      <td>0</td>\n",
       "      <td>0.0</td>\n",
       "      <td>0.0</td>\n",
       "      <td>0.0</td>\n",
       "    </tr>\n",
       "    <tr>\n",
       "      <th>2</th>\n",
       "      <td>2025-05-02 01:55:12+00:00</td>\n",
       "      <td>75607852</td>\n",
       "      <td>0</td>\n",
       "      <td>0</td>\n",
       "      <td>0</td>\n",
       "      <td>0.0</td>\n",
       "      <td>0.0</td>\n",
       "      <td>0.0</td>\n",
       "      <td>0</td>\n",
       "      <td>0</td>\n",
       "      <td>0</td>\n",
       "      <td>0.0</td>\n",
       "      <td>0.0</td>\n",
       "      <td>0.0</td>\n",
       "    </tr>\n",
       "    <tr>\n",
       "      <th>3</th>\n",
       "      <td>2025-05-04 07:10:31+00:00</td>\n",
       "      <td>95331498</td>\n",
       "      <td>0</td>\n",
       "      <td>0</td>\n",
       "      <td>0</td>\n",
       "      <td>0.0</td>\n",
       "      <td>0.0</td>\n",
       "      <td>0.0</td>\n",
       "      <td>0</td>\n",
       "      <td>0</td>\n",
       "      <td>0</td>\n",
       "      <td>0.0</td>\n",
       "      <td>0.0</td>\n",
       "      <td>0.0</td>\n",
       "    </tr>\n",
       "    <tr>\n",
       "      <th>4</th>\n",
       "      <td>2025-05-03 15:18:00+00:00</td>\n",
       "      <td>49399432</td>\n",
       "      <td>0</td>\n",
       "      <td>0</td>\n",
       "      <td>0</td>\n",
       "      <td>0.0</td>\n",
       "      <td>0.0</td>\n",
       "      <td>0.0</td>\n",
       "      <td>0</td>\n",
       "      <td>0</td>\n",
       "      <td>0</td>\n",
       "      <td>0.0</td>\n",
       "      <td>0.0</td>\n",
       "      <td>0.0</td>\n",
       "    </tr>\n",
       "  </tbody>\n",
       "</table>\n",
       "</div>"
      ],
      "text/plain": [
       "          feature_timestamp terminal_id  terminal_id_nb_tx_1day_window  \\\n",
       "0 2025-05-04 20:17:55+00:00    30430351                              0   \n",
       "1 2025-05-05 14:18:30+00:00    17803600                              0   \n",
       "2 2025-05-02 01:55:12+00:00    75607852                              0   \n",
       "3 2025-05-04 07:10:31+00:00    95331498                              0   \n",
       "4 2025-05-03 15:18:00+00:00    49399432                              0   \n",
       "\n",
       "   terminal_id_nb_tx_7day_window  terminal_id_nb_tx_14day_window  \\\n",
       "0                              0                               0   \n",
       "1                              0                               0   \n",
       "2                              0                               0   \n",
       "3                              0                               0   \n",
       "4                              0                               0   \n",
       "\n",
       "   terminal_id_risk_1day_window  terminal_id_risk_7day_window  \\\n",
       "0                           0.0                           0.0   \n",
       "1                           0.0                           0.0   \n",
       "2                           0.0                           0.0   \n",
       "3                           0.0                           0.0   \n",
       "4                           0.0                           0.0   \n",
       "\n",
       "   terminal_id_risk_14day_window  terminal_id_nb_tx_15min_window  \\\n",
       "0                            0.0                               0   \n",
       "1                            0.0                               0   \n",
       "2                            0.0                               0   \n",
       "3                            0.0                               0   \n",
       "4                            0.0                               0   \n",
       "\n",
       "   terminal_id_nb_tx_30min_window  terminal_id_nb_tx_60min_window  \\\n",
       "0                               0                               0   \n",
       "1                               0                               0   \n",
       "2                               0                               0   \n",
       "3                               0                               0   \n",
       "4                               0                               0   \n",
       "\n",
       "   terminal_id_avg_amount_15min_window  terminal_id_avg_amount_30min_window  \\\n",
       "0                                  0.0                                  0.0   \n",
       "1                                  0.0                                  0.0   \n",
       "2                                  0.0                                  0.0   \n",
       "3                                  0.0                                  0.0   \n",
       "4                                  0.0                                  0.0   \n",
       "\n",
       "   terminal_id_avg_amount_60min_window  \n",
       "0                                  0.0  \n",
       "1                                  0.0  \n",
       "2                                  0.0  \n",
       "3                                  0.0  \n",
       "4                                  0.0  "
      ]
     },
     "execution_count": 17,
     "metadata": {},
     "output_type": "execute_result"
    }
   ],
   "source": [
    "run_bq_query(\n",
    "    f\"SELECT * FROM `{TERMINALS_BQ_TABLE_URI}` LIMIT 5\", show=True\n",
    ")"
   ]
  },
  {
   "cell_type": "markdown",
   "metadata": {},
   "source": [
    "Let's look at the final schema of the features table:"
   ]
  },
  {
   "cell_type": "code",
   "execution_count": 18,
   "metadata": {
    "tags": []
   },
   "outputs": [
    {
     "name": "stdout",
     "output_type": "stream",
     "text": [
      "Finished job_id: a584092a-af3f-4647-a8f1-37ae3bfd8584\n"
     ]
    },
    {
     "data": {
      "text/html": [
       "<div>\n",
       "<style scoped>\n",
       "    .dataframe tbody tr th:only-of-type {\n",
       "        vertical-align: middle;\n",
       "    }\n",
       "\n",
       "    .dataframe tbody tr th {\n",
       "        vertical-align: top;\n",
       "    }\n",
       "\n",
       "    .dataframe thead th {\n",
       "        text-align: right;\n",
       "    }\n",
       "</style>\n",
       "<table border=\"1\" class=\"dataframe\">\n",
       "  <thead>\n",
       "    <tr style=\"text-align: right;\">\n",
       "      <th></th>\n",
       "      <th>column_name</th>\n",
       "      <th>data_type</th>\n",
       "    </tr>\n",
       "  </thead>\n",
       "  <tbody>\n",
       "    <tr>\n",
       "      <th>0</th>\n",
       "      <td>feature_timestamp</td>\n",
       "      <td>TIMESTAMP</td>\n",
       "    </tr>\n",
       "    <tr>\n",
       "      <th>1</th>\n",
       "      <td>customer_id</td>\n",
       "      <td>STRING</td>\n",
       "    </tr>\n",
       "    <tr>\n",
       "      <th>2</th>\n",
       "      <td>customer_id_nb_tx_1day_window</td>\n",
       "      <td>INT64</td>\n",
       "    </tr>\n",
       "    <tr>\n",
       "      <th>3</th>\n",
       "      <td>customer_id_nb_tx_7day_window</td>\n",
       "      <td>INT64</td>\n",
       "    </tr>\n",
       "    <tr>\n",
       "      <th>4</th>\n",
       "      <td>customer_id_nb_tx_14day_window</td>\n",
       "      <td>INT64</td>\n",
       "    </tr>\n",
       "    <tr>\n",
       "      <th>5</th>\n",
       "      <td>customer_id_avg_amount_1day_window</td>\n",
       "      <td>FLOAT64</td>\n",
       "    </tr>\n",
       "    <tr>\n",
       "      <th>6</th>\n",
       "      <td>customer_id_avg_amount_7day_window</td>\n",
       "      <td>FLOAT64</td>\n",
       "    </tr>\n",
       "    <tr>\n",
       "      <th>7</th>\n",
       "      <td>customer_id_avg_amount_14day_window</td>\n",
       "      <td>FLOAT64</td>\n",
       "    </tr>\n",
       "    <tr>\n",
       "      <th>8</th>\n",
       "      <td>customer_id_nb_tx_15min_window</td>\n",
       "      <td>INT64</td>\n",
       "    </tr>\n",
       "    <tr>\n",
       "      <th>9</th>\n",
       "      <td>customer_id_nb_tx_30min_window</td>\n",
       "      <td>INT64</td>\n",
       "    </tr>\n",
       "    <tr>\n",
       "      <th>10</th>\n",
       "      <td>customer_id_nb_tx_60min_window</td>\n",
       "      <td>INT64</td>\n",
       "    </tr>\n",
       "    <tr>\n",
       "      <th>11</th>\n",
       "      <td>customer_id_avg_amount_15min_window</td>\n",
       "      <td>FLOAT64</td>\n",
       "    </tr>\n",
       "    <tr>\n",
       "      <th>12</th>\n",
       "      <td>customer_id_avg_amount_30min_window</td>\n",
       "      <td>FLOAT64</td>\n",
       "    </tr>\n",
       "    <tr>\n",
       "      <th>13</th>\n",
       "      <td>customer_id_avg_amount_60min_window</td>\n",
       "      <td>FLOAT64</td>\n",
       "    </tr>\n",
       "  </tbody>\n",
       "</table>\n",
       "</div>"
      ],
      "text/plain": [
       "                            column_name  data_type\n",
       "0                     feature_timestamp  TIMESTAMP\n",
       "1                           customer_id     STRING\n",
       "2         customer_id_nb_tx_1day_window      INT64\n",
       "3         customer_id_nb_tx_7day_window      INT64\n",
       "4        customer_id_nb_tx_14day_window      INT64\n",
       "5    customer_id_avg_amount_1day_window    FLOAT64\n",
       "6    customer_id_avg_amount_7day_window    FLOAT64\n",
       "7   customer_id_avg_amount_14day_window    FLOAT64\n",
       "8        customer_id_nb_tx_15min_window      INT64\n",
       "9        customer_id_nb_tx_30min_window      INT64\n",
       "10       customer_id_nb_tx_60min_window      INT64\n",
       "11  customer_id_avg_amount_15min_window    FLOAT64\n",
       "12  customer_id_avg_amount_30min_window    FLOAT64\n",
       "13  customer_id_avg_amount_60min_window    FLOAT64"
      ]
     },
     "execution_count": 18,
     "metadata": {},
     "output_type": "execute_result"
    }
   ],
   "source": [
    "run_bq_query(f\"\"\"\n",
    "SELECT column_name, data_type\n",
    "FROM tx.INFORMATION_SCHEMA.COLUMNS\n",
    "WHERE table_name = '{CUSTOMERS_TABLE_NAME}'\n",
    "\"\"\", show=True)"
   ]
  },
  {
   "cell_type": "code",
   "execution_count": 19,
   "metadata": {
    "tags": []
   },
   "outputs": [
    {
     "name": "stdout",
     "output_type": "stream",
     "text": [
      "Finished job_id: d894d1c7-1e0a-47bd-b504-bb7334240c26\n"
     ]
    },
    {
     "data": {
      "text/html": [
       "<div>\n",
       "<style scoped>\n",
       "    .dataframe tbody tr th:only-of-type {\n",
       "        vertical-align: middle;\n",
       "    }\n",
       "\n",
       "    .dataframe tbody tr th {\n",
       "        vertical-align: top;\n",
       "    }\n",
       "\n",
       "    .dataframe thead th {\n",
       "        text-align: right;\n",
       "    }\n",
       "</style>\n",
       "<table border=\"1\" class=\"dataframe\">\n",
       "  <thead>\n",
       "    <tr style=\"text-align: right;\">\n",
       "      <th></th>\n",
       "      <th>column_name</th>\n",
       "      <th>data_type</th>\n",
       "    </tr>\n",
       "  </thead>\n",
       "  <tbody>\n",
       "    <tr>\n",
       "      <th>0</th>\n",
       "      <td>feature_timestamp</td>\n",
       "      <td>TIMESTAMP</td>\n",
       "    </tr>\n",
       "    <tr>\n",
       "      <th>1</th>\n",
       "      <td>terminal_id</td>\n",
       "      <td>STRING</td>\n",
       "    </tr>\n",
       "    <tr>\n",
       "      <th>2</th>\n",
       "      <td>terminal_id_nb_tx_1day_window</td>\n",
       "      <td>INT64</td>\n",
       "    </tr>\n",
       "    <tr>\n",
       "      <th>3</th>\n",
       "      <td>terminal_id_nb_tx_7day_window</td>\n",
       "      <td>INT64</td>\n",
       "    </tr>\n",
       "    <tr>\n",
       "      <th>4</th>\n",
       "      <td>terminal_id_nb_tx_14day_window</td>\n",
       "      <td>INT64</td>\n",
       "    </tr>\n",
       "    <tr>\n",
       "      <th>5</th>\n",
       "      <td>terminal_id_risk_1day_window</td>\n",
       "      <td>FLOAT64</td>\n",
       "    </tr>\n",
       "    <tr>\n",
       "      <th>6</th>\n",
       "      <td>terminal_id_risk_7day_window</td>\n",
       "      <td>FLOAT64</td>\n",
       "    </tr>\n",
       "    <tr>\n",
       "      <th>7</th>\n",
       "      <td>terminal_id_risk_14day_window</td>\n",
       "      <td>FLOAT64</td>\n",
       "    </tr>\n",
       "    <tr>\n",
       "      <th>8</th>\n",
       "      <td>terminal_id_nb_tx_15min_window</td>\n",
       "      <td>INT64</td>\n",
       "    </tr>\n",
       "    <tr>\n",
       "      <th>9</th>\n",
       "      <td>terminal_id_nb_tx_30min_window</td>\n",
       "      <td>INT64</td>\n",
       "    </tr>\n",
       "    <tr>\n",
       "      <th>10</th>\n",
       "      <td>terminal_id_nb_tx_60min_window</td>\n",
       "      <td>INT64</td>\n",
       "    </tr>\n",
       "    <tr>\n",
       "      <th>11</th>\n",
       "      <td>terminal_id_avg_amount_15min_window</td>\n",
       "      <td>FLOAT64</td>\n",
       "    </tr>\n",
       "    <tr>\n",
       "      <th>12</th>\n",
       "      <td>terminal_id_avg_amount_30min_window</td>\n",
       "      <td>FLOAT64</td>\n",
       "    </tr>\n",
       "    <tr>\n",
       "      <th>13</th>\n",
       "      <td>terminal_id_avg_amount_60min_window</td>\n",
       "      <td>FLOAT64</td>\n",
       "    </tr>\n",
       "  </tbody>\n",
       "</table>\n",
       "</div>"
      ],
      "text/plain": [
       "                            column_name  data_type\n",
       "0                     feature_timestamp  TIMESTAMP\n",
       "1                           terminal_id     STRING\n",
       "2         terminal_id_nb_tx_1day_window      INT64\n",
       "3         terminal_id_nb_tx_7day_window      INT64\n",
       "4        terminal_id_nb_tx_14day_window      INT64\n",
       "5          terminal_id_risk_1day_window    FLOAT64\n",
       "6          terminal_id_risk_7day_window    FLOAT64\n",
       "7         terminal_id_risk_14day_window    FLOAT64\n",
       "8        terminal_id_nb_tx_15min_window      INT64\n",
       "9        terminal_id_nb_tx_30min_window      INT64\n",
       "10       terminal_id_nb_tx_60min_window      INT64\n",
       "11  terminal_id_avg_amount_15min_window    FLOAT64\n",
       "12  terminal_id_avg_amount_30min_window    FLOAT64\n",
       "13  terminal_id_avg_amount_60min_window    FLOAT64"
      ]
     },
     "execution_count": 19,
     "metadata": {},
     "output_type": "execute_result"
    }
   ],
   "source": [
    "run_bq_query(f\"\"\"\n",
    "SELECT column_name, data_type\n",
    "FROM tx.INFORMATION_SCHEMA.COLUMNS\n",
    "WHERE table_name = '{TERMINALS_TABLE_NAME}'\n",
    "\"\"\", show=True)"
   ]
  },
  {
   "cell_type": "markdown",
   "metadata": {
    "id": "T9xB8hVU3t40"
   },
   "source": [
    "## Feature store for feature management\n",
    "\n",
    "### What is a feature store?\n",
    "\n",
    "The features generated are great examples of features that we can store the [Vertex AI Feature Store](https://cloud.google.com/vertex-ai/docs/featurestore). This is because:\n",
    "\n",
    "- The features are needed for real-time prediction\n",
    "- feature values in a feature store can be used for both training and serving\n",
    "- if needed, features can be shared with other use cases beyond fraud detection\n",
    "\n",
    "Vertex AI Feature Store provides a centralized repository for organizing, storing, and serving ML features. Using a central featurestore enables an organization to efficiently share, discover, and re-use ML features at scale, which can increase the velocity of developing and deploying new ML applications.\n",
    "\n",
    "### Why would you like to set up it?\n",
    "\n",
    "So far you've built and stored features in BigQuery. \n",
    "\n",
    "Now, in order to predict fraud, you want to serve those features in real-time with millisecond scale latency. In particular, when the ML gateway receives a prediction request for a specific transaction (including customer, terminal, and transaction ids), the system needs to fetch the features related to that transaction and pass them as inputs to the model for online prediction. As you can imagine, an analytical data warehouse such as BigQuery is not able to provide low-latency near real-time read operations. \n",
    "\n",
    "Vertex AI Feature Store provides a managed service for low latency scalable feature serving. It also provides a centralized feature repository with easy APIs to search and discover features, as well as feature monitoring capabilities to track drift and other quality issues. \n",
    "\n",
    "Vertex AI Feature Store uses a time series data model to store a series of values for features, which enables Vertex AI Feature Store to maintain feature values as they change over time and to support point-in-time queries of feature values. Feature Store organizes resources hierarchically (`Featurestore -> Feature View -> Feature Group -> Feature`) in the following order: \n",
    "\n",
    "- **Featurestore**: the resource to contains entities and features.\n",
    "    - **FeatureView**: the serving of features.\n",
    "    - **Featuregroup**: a feature group is feature registry to present a set of features.\n",
    "        - **Feature**: under a feature group, a feature is an attribute.\n",
    "\n",
    "\n",
    "You must create these resources before you can ingest data into a Feature View. \n",
    "\n",
    "In the follow section, you will use create a feature store using Vertex AI Feature Store, and ingest data into it to be used later for training and model inference."
   ]
  },
  {
   "cell_type": "markdown",
   "metadata": {
    "id": "XoEqT2Y4DJmf"
   },
   "source": [
    "### Initialize Vertex AI SDK\n",
    "\n",
    "Initialize the Vertex AI SDK to get access to Vertex AI services programmatically. "
   ]
  },
  {
   "cell_type": "code",
   "execution_count": 4,
   "metadata": {
    "id": "c85ab891607c",
    "tags": []
   },
   "outputs": [],
   "source": [
    "vertex_ai.init(project=config.PROJECT_ID, location=config.REGION, staging_bucket=config.BUCKET_NAME)"
   ]
  },
  {
   "cell_type": "code",
   "execution_count": 5,
   "metadata": {
    "tags": []
   },
   "outputs": [],
   "source": [
    "# Create the feature group for customers\n",
    "# Use google-cloud-aiplatform instead of vertexai as it has more features available\n",
    "from google.api_core import operation as gac_operation\n",
    "from google.cloud import aiplatform_v1\n",
    "from google.cloud.aiplatform_v1 import types as vertexai_types\n",
    "\n",
    "\n",
    "def create_feature_group(\n",
    "    project_id: str,\n",
    "    location: str,\n",
    "    feature_group_id: str,\n",
    "    bq_table_uri: str,\n",
    "    entity_id_columns: list[str],\n",
    "    ts_col: str = \"feature_timestamp\",\n",
    "    desc: str | None = None,\n",
    ") -> gac_operation.Operation:\n",
    "    client = aiplatform_v1.FeatureRegistryServiceClient(\n",
    "        client_options={\"api_endpoint\": f\"{location}-aiplatform.googleapis.com\"}\n",
    "    )\n",
    "    fg_pb = vertexai_types.FeatureGroup(\n",
    "        big_query=vertexai_types.FeatureGroup.BigQuery(\n",
    "            big_query_source=vertexai_types.BigQuerySource(input_uri=bq_table_uri),\n",
    "            entity_id_columns=entity_id_columns,\n",
    "            time_series=vertexai_types.FeatureGroup.BigQuery.TimeSeries(timestamp_column=ts_col),\n",
    "        ),\n",
    "        name=f\"projects/{project_id}/locations/{location}/featureGroups/{feature_group_id}\",\n",
    "        description=desc,\n",
    "    )\n",
    "    req_pb = vertexai_types.feature_registry_service.CreateFeatureGroupRequest(\n",
    "        parent=f\"projects/{project_id}/locations/{location}\",\n",
    "        feature_group=fg_pb,\n",
    "        feature_group_id=feature_group_id,\n",
    "        \n",
    "    )\n",
    "    ops = client.create_feature_group(\n",
    "        request=req_pb,\n",
    "    )\n",
    "\n",
    "    return ops\n"
   ]
  },
  {
   "cell_type": "markdown",
   "metadata": {},
   "source": [
    "### Create the feature group for customer\n",
    "The feature group maps to the customer feature bigquery table. Name it as `customer`."
   ]
  },
  {
   "cell_type": "markdown",
   "metadata": {
    "id": "c0gimd2Y3t44"
   },
   "source": [
    "#### Create the ```customer``` feature group"
   ]
  },
  {
   "cell_type": "code",
   "execution_count": 7,
   "metadata": {
    "tags": []
   },
   "outputs": [
    {
     "data": {
      "text/plain": [
       "name: \"projects/401714874268/locations/us-central1/featureGroups/customer\""
      ]
     },
     "execution_count": 7,
     "metadata": {},
     "output_type": "execute_result"
    }
   ],
   "source": [
    "cfg_ops = create_feature_group(\n",
    "    config.PROJECT_ID,\n",
    "    config.REGION,\n",
    "    config.CUSTOMER_ENTITY_ID,\n",
    "    f\"bq://{CUSTOMERS_BQ_TABLE_URI}\",\n",
    "    [config.CUSTOMER_ENTITY_ID_FIELD],\n",
    "    desc=\"This is the customer feature group\",\n",
    ")\n",
    "cfg_ops.result()"
   ]
  },
  {
   "cell_type": "markdown",
   "metadata": {},
   "source": [
    "### Create features in `customer` feature group"
   ]
  },
  {
   "cell_type": "code",
   "execution_count": 8,
   "metadata": {
    "tags": []
   },
   "outputs": [],
   "source": [
    "def create_feature(\n",
    "    project_id: str,\n",
    "    location: str,\n",
    "    existing_feature_group_id: str,\n",
    "    feature_info_ls: list[dict],\n",
    "    version_column_name_ls: list[str],\n",
    "):\n",
    "    client = aiplatform_v1.FeatureRegistryServiceClient(\n",
    "        client_options={\"api_endpoint\": f\"{location}-aiplatform.googleapis.com\"}\n",
    "    )\n",
    "    parent_fg_id = f\"projects/{project_id}/locations/{location}/featureGroups/{existing_feature_group_id}\"\n",
    "\n",
    "    for feature_info, version_column_name in zip(feature_info_ls, version_column_name_ls):\n",
    "        for feature_id, feature_id_info in feature_info.items():\n",
    "            req_pb = vertexai_types.featurestore_service.CreateFeatureRequest(\n",
    "                parent=parent_fg_id,\n",
    "                feature=vertexai_types.Feature(\n",
    "                    name=f\"{parent_fg_id}/features/{feature_id}\",\n",
    "                    description=feature_id_info[\"description\"],\n",
    "                    labels=feature_id_info[\"labels\"],\n",
    "                    version_column_name=version_column_name,\n",
    "                ),\n",
    "                feature_id=feature_id,\n",
    "            )\n",
    "            _ = client.create_feature(\n",
    "                request=req_pb,\n",
    "            )\n",
    "            print(f\"{feature_id} - Done\")"
   ]
  },
  {
   "cell_type": "code",
   "execution_count": 9,
   "metadata": {
    "tags": []
   },
   "outputs": [],
   "source": [
    "customer_features = [\n",
    "    {\n",
    "        \"customer_id_nb_tx_1day_window\": {\n",
    "            \"description\": \"Number of transactions by the customer in the last day\",\n",
    "            \"labels\": {\"status\": \"passed\"},\n",
    "        }\n",
    "    },\n",
    "    {\n",
    "        \"customer_id_nb_tx_7day_window\": {\n",
    "            \"description\": \"Number of transactions by the customer in the last 7 days\",\n",
    "            \"labels\": {\"status\": \"passed\"},\n",
    "        }\n",
    "    },\n",
    "    {\n",
    "        \"customer_id_nb_tx_14day_window\": {\n",
    "            \"description\": \"Number of transactions by the customer in the last 14 days\",\n",
    "            \"labels\": {\"status\": \"passed\"},\n",
    "        }\n",
    "    },\n",
    "    {\n",
    "        \"customer_id_avg_amount_1day_window\": {\n",
    "            \"description\": \"Average spending amount in the last day\",\n",
    "            \"labels\": {\"status\": \"passed\"},\n",
    "        }\n",
    "    },\n",
    "    {\n",
    "        \"customer_id_avg_amount_7day_window\": {\n",
    "            \"description\": \"Average spending amount in the last 7 days\",\n",
    "            \"labels\": {\"status\": \"passed\"},\n",
    "        }\n",
    "    },\n",
    "    {\n",
    "        \"customer_id_avg_amount_14day_window\": {\n",
    "            \"description\": \"Average spending amount in the last 14 days\",\n",
    "            \"labels\": {\"status\": \"passed\"},\n",
    "        }\n",
    "    },\n",
    "    {\n",
    "        \"customer_id_nb_tx_15min_window\": {\n",
    "            \"description\": \"Number of transactions by the customer in the last 15 minutes\",\n",
    "            \"labels\": {\"status\": \"passed\"},\n",
    "        }\n",
    "    },\n",
    "    {\n",
    "        \"customer_id_nb_tx_30min_window\": {\n",
    "            \"description\": \"Number of transactions by the customer in the last 30 minutes\",\n",
    "            \"labels\": {\"status\": \"passed\"},\n",
    "        }\n",
    "    },\n",
    "    {\n",
    "        \"customer_id_nb_tx_60min_window\": {\n",
    "            \"description\": \"Number of transactions by the customer in the last 60 minutes\",\n",
    "            \"labels\": {\"status\": \"passed\"},\n",
    "        }\n",
    "    },\n",
    "    {\n",
    "        \"customer_id_avg_amount_15min_window\": {\n",
    "            \"description\": \"Average spending amount in the last 15 minutes\",\n",
    "            \"labels\": {\"status\": \"passed\"},\n",
    "        }\n",
    "    },\n",
    "    {\n",
    "        \"customer_id_avg_amount_30min_window\": {\n",
    "            \"description\": \"Average spending amount in the last 30 minutes\",\n",
    "            \"labels\": {\"status\": \"passed\"},\n",
    "        }\n",
    "    },\n",
    "    {\n",
    "        \"customer_id_avg_amount_60min_window\": {\n",
    "            \"description\": \"Average spending amount in the last 60 minutes\",\n",
    "            \"labels\": {\"status\": \"passed\"},\n",
    "        }\n",
    "    },\n",
    "]\n",
    "customer_version_col_names = [list(feature)[0] for feature in customer_features]"
   ]
  },
  {
   "cell_type": "code",
   "execution_count": 10,
   "metadata": {
    "tags": []
   },
   "outputs": [
    {
     "name": "stdout",
     "output_type": "stream",
     "text": [
      "customer_id_nb_tx_1day_window - Done\n",
      "customer_id_nb_tx_7day_window - Done\n",
      "customer_id_nb_tx_14day_window - Done\n",
      "customer_id_avg_amount_1day_window - Done\n",
      "customer_id_avg_amount_7day_window - Done\n",
      "customer_id_avg_amount_14day_window - Done\n",
      "customer_id_nb_tx_15min_window - Done\n",
      "customer_id_nb_tx_30min_window - Done\n",
      "customer_id_nb_tx_60min_window - Done\n",
      "customer_id_avg_amount_15min_window - Done\n",
      "customer_id_avg_amount_30min_window - Done\n",
      "customer_id_avg_amount_60min_window - Done\n"
     ]
    }
   ],
   "source": [
    "create_feature(\n",
    "    config.PROJECT_ID,\n",
    "    config.REGION,\n",
    "    config.CUSTOMER_ENTITY_ID,\n",
    "    customer_features,\n",
    "    customer_version_col_names,\n",
    ")"
   ]
  },
  {
   "cell_type": "markdown",
   "metadata": {
    "id": "H7Qb-5aI3t46"
   },
   "source": [
    "### Create features in `terminal` feature group"
   ]
  },
  {
   "cell_type": "code",
   "execution_count": 12,
   "metadata": {
    "id": "Pje6CLgj3t46",
    "tags": []
   },
   "outputs": [
    {
     "data": {
      "text/plain": [
       "name: \"projects/401714874268/locations/us-central1/featureGroups/terminal\""
      ]
     },
     "execution_count": 12,
     "metadata": {},
     "output_type": "execute_result"
    }
   ],
   "source": [
    "cfg_ops = create_feature_group(\n",
    "    config.PROJECT_ID,\n",
    "    config.REGION,\n",
    "    config.TERMINAL_ENTITY_ID,\n",
    "    f\"bq://{TERMINALS_BQ_TABLE_URI}\",\n",
    "    [config.TERMINALS_ENTITY_ID_FIELD],\n",
    "    desc=\"This is the terminal feature group\",\n",
    ")\n",
    "cfg_ops.result()"
   ]
  },
  {
   "cell_type": "markdown",
   "metadata": {
    "id": "7tUvpIfR3t47"
   },
   "source": [
    "#### Create features of the ```terminal``` entity type"
   ]
  },
  {
   "cell_type": "code",
   "execution_count": 13,
   "metadata": {
    "id": "Hwkz6FSeXAUN",
    "tags": []
   },
   "outputs": [],
   "source": [
    "terminal_features = [\n",
    "    {\n",
    "        \"terminal_id_nb_tx_1day_window\": {\n",
    "            \"description\": \"Number of transactions by the terminal in the last day\",\n",
    "            \"labels\": {\"status\": \"passed\"},\n",
    "        }\n",
    "    },\n",
    "    {\n",
    "        \"terminal_id_nb_tx_7day_window\": {\n",
    "            \"description\": \"Number of transactions by the terminal in the 7 days\",\n",
    "            \"labels\": {\"status\": \"passed\"},\n",
    "        }\n",
    "    },\n",
    "    {\n",
    "        \"terminal_id_nb_tx_14day_window\": {\n",
    "            \"description\": \"Number of transactions by the terminal in the 14 days\",\n",
    "            \"labels\": {\"status\": \"passed\"},\n",
    "        }\n",
    "    },\n",
    "    {\n",
    "        \"terminal_id_risk_1day_window\": {\n",
    "            \"description\": \"Risk score calculated average number of frauds on the terminal in the last day\",\n",
    "            \"labels\": {\"status\": \"passed\"},\n",
    "        }\n",
    "    },\n",
    "    {\n",
    "        \"terminal_id_risk_7day_window\": {\n",
    "            \"description\": \"Risk score calculated average number of frauds on the terminal in the last 7 days\",\n",
    "            \"labels\": {\"status\": \"passed\"},\n",
    "        }\n",
    "    },\n",
    "    {\n",
    "        \"terminal_id_risk_14day_window\": {\n",
    "            \"description\": \"Risk score calculated average number of frauds on the terminal in the last 14 day\",\n",
    "            \"labels\": {\"status\": \"passed\"},\n",
    "        }\n",
    "    },\n",
    "    {\n",
    "        \"terminal_id_nb_tx_15min_window\": {\n",
    "            \"description\": \"Number of transactions by the terminal in the last 15 minutes\",\n",
    "            \"labels\": {\"status\": \"passed\"},\n",
    "        }\n",
    "    },\n",
    "    {\n",
    "        \"terminal_id_nb_tx_30min_window\": {\n",
    "            \"description\": \"Number of transactions by the terminal in the last 30 minutes\",\n",
    "            \"labels\": {\"status\": \"passed\"},\n",
    "        }\n",
    "    },\n",
    "    {\n",
    "        \"terminal_id_nb_tx_60min_window\": {\n",
    "            \"description\": \"Number of transactions by the terminal in the last 60 minutes\",\n",
    "            \"labels\": {\"status\": \"passed\"},\n",
    "        }\n",
    "    },\n",
    "    {\n",
    "        \"terminal_id_avg_amount_15min_window\": {\n",
    "            \"description\": \"Average spending amount in the last 15 minutes\",\n",
    "            \"labels\": {\"status\": \"passed\"},\n",
    "        }\n",
    "    },\n",
    "    {\n",
    "        \"terminal_id_avg_amount_30min_window\": {\n",
    "            \"description\": \"Average spending amount in the last 30 minutes\",\n",
    "            \"labels\": {\"status\": \"passed\"},\n",
    "        }\n",
    "    },\n",
    "    {\n",
    "        \"terminal_id_avg_amount_60min_window\": {\n",
    "            \"description\": \"Average spending amount in the last 60 minutes\",\n",
    "            \"labels\": {\"status\": \"passed\"},\n",
    "        }\n",
    "    },\n",
    "]\n",
    "terminal_version_col_names = [list(feature)[0] for feature in terminal_features]"
   ]
  },
  {
   "cell_type": "code",
   "execution_count": 14,
   "metadata": {
    "tags": []
   },
   "outputs": [
    {
     "name": "stdout",
     "output_type": "stream",
     "text": [
      "terminal_id_nb_tx_1day_window - Done\n",
      "terminal_id_nb_tx_7day_window - Done\n",
      "terminal_id_nb_tx_14day_window - Done\n",
      "terminal_id_risk_1day_window - Done\n",
      "terminal_id_risk_7day_window - Done\n",
      "terminal_id_risk_14day_window - Done\n",
      "terminal_id_nb_tx_15min_window - Done\n",
      "terminal_id_nb_tx_30min_window - Done\n",
      "terminal_id_nb_tx_60min_window - Done\n",
      "terminal_id_avg_amount_15min_window - Done\n",
      "terminal_id_avg_amount_30min_window - Done\n",
      "terminal_id_avg_amount_60min_window - Done\n"
     ]
    }
   ],
   "source": [
    "create_feature(\n",
    "    config.PROJECT_ID,\n",
    "    config.REGION,\n",
    "    config.TERMINAL_ENTITY_ID,\n",
    "    terminal_features,\n",
    "    terminal_version_col_names\n",
    ")"
   ]
  },
  {
   "cell_type": "markdown",
   "metadata": {
    "id": "a1335c1b0761"
   },
   "source": [
    "### Inspect your feature store in the Vertex AI console\n",
    "\n",
    "You can also inspect your feature store in the [Vertex AI Feature Store console](https://console.cloud.google.com/vertex-ai/features)"
   ]
  },
  {
   "cell_type": "markdown",
   "metadata": {
    "id": "WwVoJ42m3t48"
   },
   "source": [
    "### Ingest feature values in Vertex AI Online Feature Store\n",
    "\n",
    "Now we need to ingest the actual feature values you created in BigQuery into the Vertex AI Feature Store.\n",
    "\n",
    "To ingest features values in Vertex AI Feature Store, you need to create an online feature store instance, either for Bigtable serving or optimized serving.\n",
    "\n",
    "In the following queries, you create a bigtable online store."
   ]
  },
  {
   "cell_type": "code",
   "execution_count": 15,
   "metadata": {
    "tags": []
   },
   "outputs": [],
   "source": [
    "def create_bigtable_feature_online_store(\n",
    "    project_id: str,\n",
    "    location: str,\n",
    "    feature_online_store_id: str,\n",
    "    min_node_count: int,\n",
    "    max_node_count: int,\n",
    "\n",
    ") -> gac_operation.Operation:\n",
    "    client = aiplatform_v1.FeatureOnlineStoreAdminServiceClient(\n",
    "        client_options={\"api_endpoint\": f\"{location}-aiplatform.googleapis.com\"}\n",
    "    )\n",
    "    req_pb = vertexai_types.feature_online_store_admin_service.CreateFeatureOnlineStoreRequest(\n",
    "        parent=f\"projects/{project_id}/locations/{location}\",\n",
    "        feature_online_store=vertexai_types.FeatureOnlineStore(\n",
    "            bigtable=vertexai_types.FeatureOnlineStore.Bigtable(\n",
    "                auto_scaling=vertexai_types.FeatureOnlineStore.Bigtable.AutoScaling(\n",
    "                    min_node_count=min_node_count,\n",
    "                    max_node_count=max_node_count,\n",
    "                )\n",
    "            ),\n",
    "            name=feature_online_store_id,\n",
    "        ),\n",
    "        feature_online_store_id=feature_online_store_id,\n",
    "    )\n",
    "\n",
    "    ops = client.create_feature_online_store(request=req_pb)\n",
    "\n",
    "    return ops\n"
   ]
  },
  {
   "cell_type": "code",
   "execution_count": null,
   "metadata": {
    "tags": []
   },
   "outputs": [],
   "source": [
    "cbfos_ops = create_bigtable_feature_online_store(\n",
    "    config.PROJECT_ID,\n",
    "    config.REGION,\n",
    "    config.FEATURESTORE_ID,\n",
    "    config.ONLINE_STORAGE_NODES,\n",
    "    config.ONLINE_STORAGE_NODES\n",
    ")\n",
    "cbfos_ops.result()"
   ]
  },
  {
   "cell_type": "markdown",
   "metadata": {},
   "source": [
    "### Create feature view\n",
    "A feature view is required to bind to the online store in order to serve features. During the feature view creation, you can associate features either from the feature group, or from bigquery data source.\n",
    "\n",
    "Below we create the view with direct feature group association."
   ]
  },
  {
   "cell_type": "code",
   "execution_count": 17,
   "metadata": {
    "tags": []
   },
   "outputs": [],
   "source": [
    "def create_feature_view_from_feature_registry(\n",
    "    project_id: str,\n",
    "    location: str,\n",
    "    feature_online_store_id: str,\n",
    "    feature_view_id: str,\n",
    "    feature_groups: dict[str, list[str]],\n",
    "    \n",
    ") -> gac_operation.Operation:\n",
    "    client = aiplatform_v1.FeatureOnlineStoreAdminServiceClient(\n",
    "        client_options={\"api_endpoint\": f\"{location}-aiplatform.googleapis.com\"}\n",
    "    )\n",
    "    req_pb = vertexai_types.feature_online_store_admin_service.CreateFeatureViewRequest(\n",
    "        parent=f\"projects/{project_id}/locations/{location}/featureOnlineStores/{feature_online_store_id}\",\n",
    "        feature_view = vertexai_types.FeatureView(\n",
    "            feature_registry_source=vertexai_types.FeatureView.FeatureRegistrySource(\n",
    "                feature_groups=[\n",
    "                    vertexai_types.FeatureView.FeatureRegistrySource.FeatureGroup(\n",
    "                        feature_group_id=feature_group_id,\n",
    "                        feature_ids=feature_ids,\n",
    "                    ) for feature_group_id, feature_ids in feature_groups.items()\n",
    "                ]\n",
    "            ),\n",
    "            sync_config=vertexai_types.FeatureView.SyncConfig(\n",
    "                cron=\"0 0 * * 6\",\n",
    "            )\n",
    "        ),\n",
    "        feature_view_id=feature_view_id,\n",
    "        run_sync_immediately=True,\n",
    "    )\n",
    "\n",
    "    ops = client.create_feature_view(\n",
    "        request=req_pb\n",
    "    )\n",
    "\n",
    "    return ops\n"
   ]
  },
  {
   "cell_type": "code",
   "execution_count": null,
   "metadata": {
    "tags": []
   },
   "outputs": [],
   "source": [
    "feature_groups = {\n",
    "    config.CUSTOMER_ENTITY_ID: customer_version_col_names,\n",
    "    config.TERMINAL_ENTITY_ID: terminal_version_col_names,\n",
    "}\n",
    "cfvffr_ops = create_feature_view_from_feature_registry(\n",
    "    config.PROJECT_ID,\n",
    "    config.REGION,\n",
    "    config.FEATURESTORE_ID,\n",
    "    config.FEATUREVIEW_ID,\n",
    "    feature_groups,\n",
    ")\n",
    "cfvffr_ops.result()"
   ]
  },
  {
   "cell_type": "markdown",
   "metadata": {},
   "source": [
    "This section takes awhile"
   ]
  },
  {
   "cell_type": "markdown",
   "metadata": {},
   "source": [
    "### Check feature store values from the view"
   ]
  },
  {
   "cell_type": "code",
   "execution_count": 38,
   "metadata": {
    "tags": []
   },
   "outputs": [],
   "source": [
    "from google.protobuf.json_format import MessageToDict\n",
    "\n",
    "\n",
    "client = aiplatform_v1.FeatureOnlineStoreServiceClient(client_options={\"api_endpoint\": f\"{config.REGION}-aiplatform.googleapis.com\"})\n",
    "fv_req_pb = vertexai_types.feature_online_store_service.FetchFeatureValuesRequest(\n",
    "    feature_view=f\"projects/{PROJECT_NUM}/locations/{config.REGION}/featureOnlineStores/{config.FEATURESTORE_ID}/featureViews/{config.FEATUREVIEW_ID}\",\n",
    "    data_key=vertexai_types.feature_online_store_service.FeatureViewDataKey(\n",
    "        key=\"5830444124423549\",\n",
    "    ),\n",
    "    data_format=vertexai_types.feature_online_store_service.FeatureViewDataFormat.PROTO_STRUCT,\n",
    ")\n",
    "fv_resp = client.fetch_feature_values(request=fv_req_pb)"
   ]
  },
  {
   "cell_type": "code",
   "execution_count": 39,
   "metadata": {
    "tags": []
   },
   "outputs": [
    {
     "data": {
      "text/plain": [
       "{'protoStruct': {'customer_id_nb_tx_7day_window': 10.0,\n",
       "  'customer_id_avg_amount_1day_window': 56.11,\n",
       "  'terminal_id_nb_tx_15min_window': None,\n",
       "  'customer_id_nb_tx_1day_window': 1.0,\n",
       "  'terminal_id_nb_tx_1day_window': None,\n",
       "  'customer_id_nb_tx_60min_window': 0.0,\n",
       "  'terminal_id_nb_tx_30min_window': None,\n",
       "  'customer_id_avg_amount_7day_window': 53.859,\n",
       "  'terminal_id_nb_tx_14day_window': None,\n",
       "  'customer_id_nb_tx_30min_window': 0.0,\n",
       "  'terminal_id_risk_7day_window': None,\n",
       "  'customer_id_avg_amount_15min_window': 0.0,\n",
       "  'customer_id_avg_amount_60min_window': 0.0,\n",
       "  'terminal_id_avg_amount_15min_window': None,\n",
       "  'terminal_id_risk_14day_window': None,\n",
       "  'customer_id_avg_amount_30min_window': 0.0,\n",
       "  'terminal_id_avg_amount_30min_window': None,\n",
       "  'customer_id_nb_tx_15min_window': 0.0,\n",
       "  'terminal_id_avg_amount_60min_window': None,\n",
       "  'feature_timestamp': 1747362100769273.0,\n",
       "  'customer_id_avg_amount_14day_window': 54.514444444,\n",
       "  'terminal_id_nb_tx_7day_window': None,\n",
       "  'terminal_id_nb_tx_60min_window': None,\n",
       "  'customer_id_nb_tx_14day_window': 27.0,\n",
       "  'terminal_id_risk_1day_window': None}}"
      ]
     },
     "execution_count": 39,
     "metadata": {},
     "output_type": "execute_result"
    }
   ],
   "source": [
    "MessageToDict(fv_resp._pb)"
   ]
  },
  {
   "cell_type": "markdown",
   "metadata": {},
   "source": [
    "### END\n",
    "\n",
    "Now you can go to the next notebook `03_feature_engineering_streaming.ipynb` within vertex_ai directory"
   ]
  },
  {
   "cell_type": "markdown",
   "metadata": {
    "id": "4c5b719f3dcd"
   },
   "source": [
    "## Clean up"
   ]
  },
  {
   "cell_type": "code",
   "execution_count": null,
   "metadata": {
    "id": "a2068db4e5f5",
    "tags": []
   },
   "outputs": [],
   "source": [
    "# ff_feature_store.delete(sync=True, force=True)"
   ]
  }
 ],
 "metadata": {
  "colab": {
   "collapsed_sections": [],
   "name": "02_feature_engineering_batch.ipynb",
   "toc_visible": true
  },
  "environment": {
   "kernel": "conda-base-py",
   "name": "workbench-notebooks.m129",
   "type": "gcloud",
   "uri": "us-docker.pkg.dev/deeplearning-platform-release/gcr.io/workbench-notebooks:m129"
  },
  "kernelspec": {
   "display_name": ".venv",
   "language": "python",
   "name": "python3"
  },
  "language_info": {
   "codemirror_mode": {
    "name": "ipython",
    "version": 3
   },
   "file_extension": ".py",
   "mimetype": "text/x-python",
   "name": "python",
   "nbconvert_exporter": "python",
   "pygments_lexer": "ipython3",
   "version": "3.12.10"
  }
 },
 "nbformat": 4,
 "nbformat_minor": 4
}
