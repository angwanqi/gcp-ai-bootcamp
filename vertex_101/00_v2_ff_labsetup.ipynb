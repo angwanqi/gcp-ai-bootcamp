{
 "cells": [
  {
   "cell_type": "code",
   "execution_count": 2,
   "metadata": {
    "cellView": "form",
    "id": "ur8xi4C7S06n"
   },
   "outputs": [],
   "source": [
    "# Copyright 2023 Google LLC\n",
    "#\n",
    "# Licensed under the Apache License, Version 2.0 (the \"License\");\n",
    "# you may not use this file except in compliance with the License.\n",
    "# You may obtain a copy of the License at\n",
    "#\n",
    "#     https://www.apache.org/licenses/LICENSE-2.0\n",
    "#\n",
    "# Unless required by applicable law or agreed to in writing, software\n",
    "# distributed under the License is distributed on an \"AS IS\" BASIS,\n",
    "# WITHOUT WARRANTIES OR CONDITIONS OF ANY KIND, either express or implied.\n",
    "# See the License for the specific language governing permissions and\n",
    "# limitations under the License."
   ]
  },
  {
   "cell_type": "markdown",
   "metadata": {
    "id": "fsv4jGuU89rX"
   },
   "source": [
    "# Master - Environment Setup\n",
    "\n",
    "<table align=\"left\">\n",
    "  <td>\n",
    "    <a href=\"https://console.cloud.google.com/ai-platform/notebooks/deploy-notebook?download_url=https://github.com/GoogleCloudPlatform/fraudfinder/raw/main/00_environment_setup.ipynb\">\n",
    "       <img src=\"https://www.gstatic.com/cloud/images/navigation/vertex-ai.svg\" alt=\"Google Cloud Notebooks\">Open in Cloud Notebook\n",
    "    </a>\n",
    "  </td> \n",
    "  <td>\n",
    "    <a href=\"https://colab.research.google.com/github/GoogleCloudPlatform/fraudfinder/blob/main/00_environment_setup.ipynb\">\n",
    "      <img src=\"https://cloud.google.com/ml-engine/images/colab-logo-32px.png\" alt=\"Colab logo\"> Open in Colab\n",
    "    </a>\n",
    "  </td>\n",
    "  <td>\n",
    "    <a href=\"https://github.com/GoogleCloudPlatform/fraudfinder/blob/main/00_environment_setup.ipynb\">\n",
    "        <img src=\"https://cloud.google.com/ml-engine/images/github-logo-32px.png\" alt=\"GitHub logo\">\n",
    "      View on GitHub\n",
    "    </a>\n",
    "  </td>\n",
    "</table>"
   ]
  },
  {
   "cell_type": "markdown",
   "metadata": {
    "id": "827c41ab1a12"
   },
   "source": [
    "## Overview\n",
    "\n",
    "[FraudFinder](https://github.com/googlecloudplatform/fraudfinder) is a series of labs on how to build a real-time fraud detection system on Google Cloud. Throughout the FraudFinder labs, you will learn how to read historical bank transaction data stored in data warehouse, read from a live stream of new transactions, perform exploratory data analysis (EDA), do feature engineering, ingest features into a feature store, train a model using feature store, register your model in a model registry, evaluate your model, deploy your model to an endpoint, do real-time inference on your model with feature store, and monitor your model."
   ]
  },
  {
   "cell_type": "markdown",
   "metadata": {
    "id": "45f6e923dc75"
   },
   "source": [
    "### Objective\n",
    "\n",
    "Before you run this notebook, make sure that you have completed the steps in [README](README.md).\n",
    "\n",
    "In this notebook, you will setup your environment for Fraudfinder to be used in subsequent labs.\n",
    "\n",
    "This lab uses the following Google Cloud services and resources:\n",
    "\n",
    "- [Vertex AI](https://cloud.google.com/vertex-ai/)\n",
    "- [BigQuery](https://cloud.google.com/bigquery/)\n",
    "- [Google Cloud Storage](https://cloud.google.com/storage)\n",
    "- [Pub/Sub](https://cloud.google.com/pubsub/)\n",
    "\n",
    "Steps performed in this notebook:\n",
    "\n",
    "- Setup your environment.\n",
    "- Load historical bank transactions into BigQuery.\n",
    "- Read data from BigQuery tables.\n",
    "- Read data from Pub/Sub topics, which contain a live stream of new transactions."
   ]
  },
  {
   "cell_type": "markdown",
   "metadata": {
    "id": "8b5e2e2a7bdb"
   },
   "source": [
    "### Costs"
   ]
  },
  {
   "cell_type": "markdown",
   "metadata": {
    "id": "04c1dae4ca17"
   },
   "source": [
    "This tutorial uses billable components of Google Cloud:\n",
    "\n",
    "* Vertex AI\n",
    "* Cloud Storage\n",
    "* Pub/Sub\n",
    "* BigQuery\n",
    "\n",
    "Learn about [Vertex AI\n",
    "pricing](https://cloud.google.com/vertex-ai/pricing), [Cloud Storage\n",
    "pricing](https://cloud.google.com/storage/pricing), [Pub/Sub pricing](https://cloud.google.com/pubsub/pricing), [BigQuery pricing](https://cloud.google.com/bigquery/pricing) and use the [Pricing\n",
    "Calculator](https://cloud.google.com/products/calculator/)\n",
    "to generate a cost estimate based on your projected usage."
   ]
  },
  {
   "cell_type": "markdown",
   "metadata": {
    "id": "773901ca47fd"
   },
   "source": [
    "### Install additional packages\n",
    "\n",
    "Install the following packages required to execute this notebook."
   ]
  },
  {
   "cell_type": "code",
   "execution_count": null,
   "metadata": {
    "tags": []
   },
   "outputs": [],
   "source": [
    "!~/.venv/bin/pip install -U -r 'requirements.txt'\n",
    "!~/.venv/bin/pip install -U google-cloud-aiplatform"
   ]
  },
  {
   "cell_type": "markdown",
   "metadata": {
    "id": "d07214a67580"
   },
   "source": [
    "After you install the additional packages, you need to restart the notebook kernel so it can find the packages."
   ]
  },
  {
   "cell_type": "code",
   "execution_count": null,
   "metadata": {
    "id": "18c113700b6f",
    "tags": []
   },
   "outputs": [],
   "source": [
    "# Automatically restart kernel after installs\n",
    "import os\n",
    "\n",
    "\n",
    "if not os.getenv(\"IS_TESTING\"):\n",
    "    import IPython\n",
    "\n",
    "    app = IPython.Application.instance()\n",
    "    app.kernel.do_shutdown(True)"
   ]
  },
  {
   "cell_type": "markdown",
   "metadata": {},
   "source": [
    "<div class=\"alert alert-block alert-warning\">\n",
    "<b>⚠️ The kernel is going to restart. Please wait until it is finished before continuing to the next step. ⚠️</b>\n",
    "</div>\n"
   ]
  },
  {
   "cell_type": "markdown",
   "metadata": {
    "id": "f31ae3fed8ab"
   },
   "source": [
    "### Setup your environment\n",
    "\n",
    "Run the next cells to import libraries used in this notebook and configure some options."
   ]
  },
  {
   "cell_type": "markdown",
   "metadata": {
    "id": "7d61a362443d"
   },
   "source": [
    "Run the next cell to set your project ID and some of the other constants used in the lab.  \n",
    "\n",
    "### Replace REGION Below ***"
   ]
  },
  {
   "cell_type": "markdown",
   "metadata": {
    "tags": []
   },
   "source": [
    "<div class=\"alert alert-block alert-info\">\n",
    "<b>NOTE: REGION will be detected based on the Persistence Resrouces<br>\n",
    "    You will need to run from this cell and below after Kernel restart\n",
    "   </b>\n",
    "</div>\n"
   ]
  },
  {
   "cell_type": "code",
   "execution_count": null,
   "metadata": {
    "tags": []
   },
   "outputs": [],
   "source": [
    "import json\n",
    "import random\n",
    "import string\n",
    "from typing import Union\n",
    "\n",
    "import pandas as pd\n",
    "from google.cloud import bigquery\n",
    "\n",
    "# Generate unique ID to help w/ unique naming of certain pieces\n",
    "ID = \"\".join(random.choices(string.ascii_lowercase + string.digits, k=5))\n",
    "\n",
    "# Project info and persistent Resource ID\n",
    "GCP_PROJECTS = !gcloud config get-value project\n",
    "PROJECT_ID = GCP_PROJECTS[0]\n",
    "PROJECT_NUM = !gcloud projects list --filter=\"$PROJECT_ID\" --format=\"value(PROJECT_NUMBER)\"\n",
    "PROJECT_NUM = PROJECT_NUM[0]\n",
    "\n",
    "# service account\n",
    "SERVICE_ACCOUNT = f\"{PROJECT_NUM}-compute@developer.gserviceaccount.com\"\n",
    "\n",
    "# Dynamically retrieve Persistent Resource location\n",
    "PERSISTENT_RESOURCE_REGION = \"\"\n",
    "check_regions = [\"us-central1\", \"asia-southeast1\", \"europe-west4\"]\n",
    "\n",
    "for region in check_regions:\n",
    "    shell_output = !gcloud ai persistent-resources list --project=$PROJECT_ID --region=$region\n",
    "    if \"Listed 0 items.\" not in shell_output:\n",
    "        print(f\"Persistent Resource found in {region}\")\n",
    "        PERSISTENT_RESOURCE_REGION = region\n",
    "\n",
    "# Replace Region here\n",
    "if PERSISTENT_RESOURCE_REGION:\n",
    "    REGION = PERSISTENT_RESOURCE_REGION\n",
    "else:\n",
    "    REGION = \"us-central1\"\n",
    "\n",
    "# GCS resource\n",
    "BUCKET_NAME = f\"{PROJECT_ID}-fraudfinder-{ID}\"\n",
    "STAGING_BUCKET = f\"{PROJECT_ID}-model-upload-{ID}\"\n",
    "AGENT_BUCKET = f\"{PROJECT_ID}-ai-workshops\"\n",
    "\n",
    "# network\n",
    "NETWORK = \"fraud-finder-network\"\n",
    "SUBNET = \"https://www.googleapis.com/compute/v1/projects/fraud-finder-lab/regions/us-central1/subnetworks/us-central1\"\n",
    "\n",
    "# pub/sub\n",
    "SUBSCRIPTION_NAME = \"ff-tx-for-feat-eng-sub\"\n",
    "SUBSCRIPTION_PATH = f\"projects/{PROJECT_ID}/subscriptions/ff-tx-for-feat-eng-sub\"\n",
    "\n",
    "# Model training data info\n",
    "RAW_BQ_TRANSACTION_TABLE_URI = f\"{PROJECT_ID}.tx.tx\"\n",
    "RAW_BQ_LABELS_TABLE_URI = f\"{PROJECT_ID}.tx.txlabels\"\n",
    "DATA_URI = \"data\"\n",
    "TRAIN_DATA_URI = f\"{DATA_URI}/train.csv\"\n",
    "READ_INSTANCES_TABLE = f\"ground_truth_{ID}\"\n",
    "READ_INSTANCES_URI = f\"bq://{PROJECT_ID}.tx.ground_truth_{ID}\"\n",
    "FEATURESTORE_ID = f\"fraudfinder_{ID}\"\n",
    "FEATUREVIEW_ID = f\"fraudfinder_view_{ID}\"\n",
    "DATASET_NAME = f\"fraud_finder_dataset_{ID}\"\n",
    "BQ_DATASET = \"tx\"\n",
    "\n",
    "# Model training info\n",
    "ONLINE_STORAGE_NODES = 1\n",
    "MODEL_REGISTRY = \"ff_model\"\n",
    "MODEL_NAME = \"ff_model\"\n",
    "EXPERIMENT_NAME = f\"ff-experiment-{ID}\"\n",
    "JOB_NAME = f\"fraudfinder-train-torch-{ID}\"\n",
    "TRAIN_COMPUTE = \"e2-standard-4\"\n",
    "METRICS_URI = f\"gs://{BUCKET_NAME}/deliverables/metrics.json\"\n",
    "AVG_PR_THRESHOLD = 0.2\n",
    "MODEL_THRESHOLD = 0.5\n",
    "\n",
    "# Model training data metadata\n",
    "CUSTOMER_ENTITY_ID = \"customer\"\n",
    "CUSTOMER_ENTITY_ID_FIELD = \"customer_id\"\n",
    "TERMINAL_ENTITY_ID = \"terminal\"\n",
    "TERMINALS_ENTITY_ID_FIELD = \"terminal_id\"\n",
    "FEATURES_BQ_TABLE_URI = f\"{PROJECT_ID}.tx.wide_features_table\"\n",
    "FEATURE_TIME = \"feature_timestamp\"\n",
    "DROP_COLUMNS = [\n",
    "    \"timestamp\",\n",
    "]\n",
    "FEAT_COLUMNS = [\n",
    "    \"customer_id_avg_amount_14day_window\",\n",
    "    \"customer_id_avg_amount_15min_window\",\n",
    "    \"customer_id_avg_amount_1day_window\",\n",
    "    \"customer_id_avg_amount_30min_window\",\n",
    "    \"customer_id_avg_amount_60min_window\",\n",
    "    \"customer_id_avg_amount_7day_window\",\n",
    "    \"customer_id_nb_tx_14day_window\",\n",
    "    \"customer_id_nb_tx_15min_window\",\n",
    "    \"customer_id_nb_tx_1day_window\",\n",
    "    \"customer_id_nb_tx_30min_window\",\n",
    "    \"customer_id_nb_tx_60min_window\",\n",
    "    \"customer_id_nb_tx_7day_window\",\n",
    "    \"terminal_id_avg_amount_15min_window\",\n",
    "    \"terminal_id_avg_amount_30min_window\",\n",
    "    \"terminal_id_avg_amount_60min_window\",\n",
    "    \"terminal_id_nb_tx_14day_window\",\n",
    "    \"terminal_id_nb_tx_15min_window\",\n",
    "    \"terminal_id_nb_tx_1day_window\",\n",
    "    \"terminal_id_nb_tx_30min_window\",\n",
    "    \"terminal_id_nb_tx_60min_window\",\n",
    "    \"terminal_id_nb_tx_7day_window\",\n",
    "    \"terminal_id_risk_14day_window\",\n",
    "    \"terminal_id_risk_1day_window\",\n",
    "    \"terminal_id_risk_7day_window\",\n",
    "    \"tx_amount\",\n",
    "]\n",
    "TARGET_COLUMN = \"tx_fraud\"\n",
    "DATA_SCHEMA = {\n",
    "    \"timestamp\": \"object\",\n",
    "    \"tx_amount\": \"float64\",\n",
    "    \"tx_fraud\": \"Int64\",\n",
    "    \"entity_type_customer\": \"Int64\",\n",
    "    \"customer_id_nb_tx_1day_window\": \"Int64\",\n",
    "    \"customer_id_nb_tx_7day_window\": \"Int64\",\n",
    "    \"customer_id_nb_tx_14day_window\": \"Int64\",\n",
    "    \"customer_id_avg_amount_1day_window\": \"float64\",\n",
    "    \"customer_id_avg_amount_7day_window\": \"float64\",\n",
    "    \"customer_id_avg_amount_14day_window\": \"float64\",\n",
    "    \"customer_id_nb_tx_15min_window\": \"Int64\",\n",
    "    \"customer_id_avg_amount_15min_window\": \"float64\",\n",
    "    \"customer_id_nb_tx_30min_window\": \"Int64\",\n",
    "    \"customer_id_avg_amount_30min_window\": \"float64\",\n",
    "    \"customer_id_nb_tx_60min_window\": \"Int64\",\n",
    "    \"customer_id_avg_amount_60min_window\": \"float64\",\n",
    "    \"entity_type_terminal\": \"Int64\",\n",
    "    \"terminal_id_nb_tx_1day_window\": \"Int64\",\n",
    "    \"terminal_id_nb_tx_7day_window\": \"Int64\",\n",
    "    \"terminal_id_nb_tx_14day_window\": \"Int64\",\n",
    "    \"terminal_id_risk_1day_window\": \"float64\",\n",
    "    \"terminal_id_risk_7day_window\": \"float64\",\n",
    "    \"terminal_id_risk_14day_window\": \"float64\",\n",
    "    \"terminal_id_nb_tx_15min_window\": \"Int64\",\n",
    "    \"terminal_id_avg_amount_15min_window\": \"float64\",\n",
    "    \"terminal_id_nb_tx_30min_window\": \"Int64\",\n",
    "    \"terminal_id_avg_amount_30min_window\": \"float64\",\n",
    "    \"terminal_id_nb_tx_60min_window\": \"Int64\",\n",
    "    \"terminal_id_avg_amount_60min_window\": \"float64\",\n",
    "}\n",
    "\n",
    "# Model deployment info\n",
    "ENDPOINT_NAME = \"ff_model_endpoint\"\n",
    "IMAGE_REPOSITORY = f\"fraudfinder-{ID}\"\n",
    "IMAGE_NAME = \"torch-classifier\"\n",
    "IMAGE_TAG = \"latest\"\n",
    "IMAGE_URI = f\"{REGION}-docker.pkg.dev/{PROJECT_ID}/{IMAGE_REPOSITORY}/{IMAGE_NAME}:{IMAGE_TAG}\"\n",
    "SERVING_IMAGE_NAME = \"torch-fastapi-server\"\n",
    "MODEL_SERVING_IMAGE_URI = f\"{REGION}-docker.pkg.dev/{PROJECT_ID}/{IMAGE_REPOSITORY}/{SERVING_IMAGE_NAME}:{IMAGE_TAG}\"\n",
    "DEPLOY_COMPUTE = \"n1-standard-4\"\n",
    "BASE_IMAGE = \"python:3.11\"\n",
    "PIPELINE_NAME = f\"fraud-finder-torch-pipeline-{ID}\"\n",
    "PIPELINE_ROOT = f\"gs://{BUCKET_NAME}/pipelines\"\n",
    "AVG_PR_CONDITION = \"avg_pr_condition\"\n",
    "PERSISTENT_RESOURCE_ID = \"ai-takeoff\" if PERSISTENT_RESOURCE_REGION else None\n",
    "REPLICA_COUNT = 1"
   ]
  },
  {
   "cell_type": "code",
   "execution_count": 2,
   "metadata": {
    "id": "7d3556c598a6",
    "tags": []
   },
   "outputs": [
    {
     "name": "stdout",
     "output_type": "stream",
     "text": [
      "{\n",
      "  \"PROJECT_ID\": \"ai-takeoff-2025\",\n",
      "  \"BUCKET_NAME\": \"ai-takeoff-2025-fraudfinder-lh9ca\",\n",
      "  \"STAGING_BUCKET\": \"ai-takeoff-2025-model-upload-lh9ca\",\n",
      "  \"REGION\": \"us-central1\",\n",
      "  \"ID\": \"lh9ca\",\n",
      "  \"CUSTOMER_ENTITY_ID\": \"customer\",\n",
      "  \"CUSTOMER_ENTITY_ID_FIELD\": \"customer_id\",\n",
      "  \"TERMINAL_ENTITY_ID\": \"terminal\",\n",
      "  \"TERMINALS_ENTITY_ID_FIELD\": \"terminal_id\",\n",
      "  \"FEATURESTORE_ID\": \"fraudfinder_lh9ca\",\n",
      "  \"FEATUREVIEW_ID\": \"fraudfinder_view_lh9ca\",\n",
      "  \"NETWORK\": \"fraud-finder-network\",\n",
      "  \"SUBNET\": \"https://www.googleapis.com/compute/v1/projects/fraud-finder-lab/regions/us-central1/subnetworks/us-central1\",\n",
      "  \"MODEL_REGISTRY\": \"ff_model\",\n",
      "  \"RAW_BQ_TRANSACTION_TABLE_URI\": \"ai-takeoff-2025.tx.tx\",\n",
      "  \"RAW_BQ_LABELS_TABLE_URI\": \"ai-takeoff-2025.tx.txlabels\",\n",
      "  \"FEATURES_BQ_TABLE_URI\": \"ai-takeoff-2025.tx.wide_features_table\",\n",
      "  \"FEATURE_TIME\": \"feature_timestamp\",\n",
      "  \"ONLINE_STORAGE_NODES\": 1,\n",
      "  \"SUBSCRIPTION_NAME\": \"ff-tx-for-feat-eng-sub\",\n",
      "  \"SUBSCRIPTION_PATH\": \"projects/ai-takeoff-2025/subscriptions/ff-tx-for-feat-eng-sub\",\n",
      "  \"DROP_COLUMNS\": [\n",
      "    \"timestamp\"\n",
      "  ],\n",
      "  \"FEAT_COLUMNS\": [\n",
      "    \"customer_id_avg_amount_14day_window\",\n",
      "    \"customer_id_avg_amount_15min_window\",\n",
      "    \"customer_id_avg_amount_1day_window\",\n",
      "    \"customer_id_avg_amount_30min_window\",\n",
      "    \"customer_id_avg_amount_60min_window\",\n",
      "    \"customer_id_avg_amount_7day_window\",\n",
      "    \"customer_id_nb_tx_14day_window\",\n",
      "    \"customer_id_nb_tx_15min_window\",\n",
      "    \"customer_id_nb_tx_1day_window\",\n",
      "    \"customer_id_nb_tx_30min_window\",\n",
      "    \"customer_id_nb_tx_60min_window\",\n",
      "    \"customer_id_nb_tx_7day_window\",\n",
      "    \"terminal_id_avg_amount_15min_window\",\n",
      "    \"terminal_id_avg_amount_30min_window\",\n",
      "    \"terminal_id_avg_amount_60min_window\",\n",
      "    \"terminal_id_nb_tx_14day_window\",\n",
      "    \"terminal_id_nb_tx_15min_window\",\n",
      "    \"terminal_id_nb_tx_1day_window\",\n",
      "    \"terminal_id_nb_tx_30min_window\",\n",
      "    \"terminal_id_nb_tx_60min_window\",\n",
      "    \"terminal_id_nb_tx_7day_window\",\n",
      "    \"terminal_id_risk_14day_window\",\n",
      "    \"terminal_id_risk_1day_window\",\n",
      "    \"terminal_id_risk_7day_window\",\n",
      "    \"tx_amount\"\n",
      "  ],\n",
      "  \"TARGET_COLUMN\": \"tx_fraud\",\n",
      "  \"DATA_SCHEMA\": {\n",
      "    \"timestamp\": \"object\",\n",
      "    \"tx_amount\": \"float64\",\n",
      "    \"tx_fraud\": \"Int64\",\n",
      "    \"entity_type_customer\": \"Int64\",\n",
      "    \"customer_id_nb_tx_1day_window\": \"Int64\",\n",
      "    \"customer_id_nb_tx_7day_window\": \"Int64\",\n",
      "    \"customer_id_nb_tx_14day_window\": \"Int64\",\n",
      "    \"customer_id_avg_amount_1day_window\": \"float64\",\n",
      "    \"customer_id_avg_amount_7day_window\": \"float64\",\n",
      "    \"customer_id_avg_amount_14day_window\": \"float64\",\n",
      "    \"customer_id_nb_tx_15min_window\": \"Int64\",\n",
      "    \"customer_id_avg_amount_15min_window\": \"float64\",\n",
      "    \"customer_id_nb_tx_30min_window\": \"Int64\",\n",
      "    \"customer_id_avg_amount_30min_window\": \"float64\",\n",
      "    \"customer_id_nb_tx_60min_window\": \"Int64\",\n",
      "    \"customer_id_avg_amount_60min_window\": \"float64\",\n",
      "    \"entity_type_terminal\": \"Int64\",\n",
      "    \"terminal_id_nb_tx_1day_window\": \"Int64\",\n",
      "    \"terminal_id_nb_tx_7day_window\": \"Int64\",\n",
      "    \"terminal_id_nb_tx_14day_window\": \"Int64\",\n",
      "    \"terminal_id_risk_1day_window\": \"float64\",\n",
      "    \"terminal_id_risk_7day_window\": \"float64\",\n",
      "    \"terminal_id_risk_14day_window\": \"float64\",\n",
      "    \"terminal_id_nb_tx_15min_window\": \"Int64\",\n",
      "    \"terminal_id_avg_amount_15min_window\": \"float64\",\n",
      "    \"terminal_id_nb_tx_30min_window\": \"Int64\",\n",
      "    \"terminal_id_avg_amount_30min_window\": \"float64\",\n",
      "    \"terminal_id_nb_tx_60min_window\": \"Int64\",\n",
      "    \"terminal_id_avg_amount_60min_window\": \"float64\"\n",
      "  },\n",
      "  \"MODEL_NAME\": \"ff_model\",\n",
      "  \"EXPERIMENT_NAME\": \"ff-experiment-lh9ca\",\n",
      "  \"DATA_URI\": \"data\",\n",
      "  \"TRAIN_DATA_URI\": \"data/train.csv\",\n",
      "  \"READ_INSTANCES_TABLE\": \"ground_truth_lh9ca\",\n",
      "  \"READ_INSTANCES_URI\": \"bq://ai-takeoff-2025.tx.ground_truth_lh9ca\",\n",
      "  \"DATASET_NAME\": \"fraud_finder_dataset_lh9ca\",\n",
      "  \"JOB_NAME\": \"fraudfinder-train-torch-lh9ca\",\n",
      "  \"ENDPOINT_NAME\": \"ff_model_endpoint\",\n",
      "  \"MODEL_SERVING_IMAGE_URI\": \"us-central1-docker.pkg.dev/ai-takeoff-2025/fraudfinder-lh9ca/torch-fastapi-server:latest\",\n",
      "  \"IMAGE_REPOSITORY\": \"fraudfinder-lh9ca\",\n",
      "  \"IMAGE_NAME\": \"torch-classifier\",\n",
      "  \"IMAGE_TAG\": \"latest\",\n",
      "  \"IMAGE_URI\": \"us-central1-docker.pkg.dev/ai-takeoff-2025/fraudfinder-lh9ca/torch-classifier:latest\",\n",
      "  \"TRAIN_COMPUTE\": \"e2-standard-4\",\n",
      "  \"DEPLOY_COMPUTE\": \"n1-standard-4\",\n",
      "  \"BASE_IMAGE\": \"python:3.10\",\n",
      "  \"PIPELINE_NAME\": \"fraud-finder-torch-pipeline-lh9ca\",\n",
      "  \"PIPELINE_ROOT\": \"gs://ai-takeoff-2025-fraudfinder-lh9ca/pipelines\",\n",
      "  \"BQ_DATASET\": \"tx\",\n",
      "  \"METRICS_URI\": \"gs://ai-takeoff-2025-fraudfinder-lh9ca/deliverables/metrics.json\",\n",
      "  \"AVG_PR_THRESHOLD\": 0.2,\n",
      "  \"MODEL_THRESHOLD\": 0.5,\n",
      "  \"AVG_PR_CONDITION\": \"avg_pr_condition\",\n",
      "  \"PERSISTENT_RESOURCE_ID\": null,\n",
      "  \"REPLICA_COUNT\": 1,\n",
      "  \"SERVICE_ACCOUNT\": \"401714874268-compute@developer.gserviceaccount.com\"\n",
      "}\n"
     ]
    }
   ],
   "source": [
    "\n",
    "config = {\n",
    "    \"PROJECT_ID\": PROJECT_ID,\n",
    "    \"BUCKET_NAME\": BUCKET_NAME,\n",
    "    \"STAGING_BUCKET\": STAGING_BUCKET,\n",
    "    \"REGION\": REGION,\n",
    "    \"ID\": ID,\n",
    "    \"CUSTOMER_ENTITY_ID\": CUSTOMER_ENTITY_ID,\n",
    "    \"CUSTOMER_ENTITY_ID_FIELD\": CUSTOMER_ENTITY_ID_FIELD,\n",
    "    \"TERMINAL_ENTITY_ID\": TERMINAL_ENTITY_ID,\n",
    "    \"TERMINALS_ENTITY_ID_FIELD\": TERMINALS_ENTITY_ID_FIELD,\n",
    "    \"FEATURESTORE_ID\": FEATURESTORE_ID,\n",
    "    \"FEATUREVIEW_ID\": FEATUREVIEW_ID,\n",
    "    \"NETWORK\": NETWORK,\n",
    "    \"SUBNET\": SUBNET,\n",
    "    \"MODEL_REGISTRY\": MODEL_REGISTRY,\n",
    "    \"RAW_BQ_TRANSACTION_TABLE_URI\": RAW_BQ_TRANSACTION_TABLE_URI,\n",
    "    \"RAW_BQ_LABELS_TABLE_URI\": RAW_BQ_LABELS_TABLE_URI,\n",
    "    \"FEATURES_BQ_TABLE_URI\": FEATURES_BQ_TABLE_URI,\n",
    "    \"FEATURE_TIME\": FEATURE_TIME,\n",
    "    \"ONLINE_STORAGE_NODES\": ONLINE_STORAGE_NODES,\n",
    "    \"SUBSCRIPTION_NAME\": SUBSCRIPTION_NAME,\n",
    "    \"SUBSCRIPTION_PATH\": SUBSCRIPTION_PATH,\n",
    "    \"DROP_COLUMNS\": DROP_COLUMNS,\n",
    "    \"FEAT_COLUMNS\": FEAT_COLUMNS,\n",
    "    \"TARGET_COLUMN\": TARGET_COLUMN,\n",
    "    \"DATA_SCHEMA\": DATA_SCHEMA,\n",
    "    \"MODEL_NAME\": MODEL_NAME,\n",
    "    \"EXPERIMENT_NAME\": EXPERIMENT_NAME,\n",
    "    \"DATA_URI\": DATA_URI,\n",
    "    \"TRAIN_DATA_URI\": TRAIN_DATA_URI,\n",
    "    \"READ_INSTANCES_TABLE\": READ_INSTANCES_TABLE,\n",
    "    \"READ_INSTANCES_URI\": READ_INSTANCES_URI,\n",
    "    \"DATASET_NAME\": DATASET_NAME,\n",
    "    \"JOB_NAME\": JOB_NAME,\n",
    "    \"ENDPOINT_NAME\": ENDPOINT_NAME,\n",
    "    \"MODEL_SERVING_IMAGE_URI\": MODEL_SERVING_IMAGE_URI,\n",
    "    \"IMAGE_REPOSITORY\": IMAGE_REPOSITORY,\n",
    "    \"IMAGE_NAME\": IMAGE_NAME,\n",
    "    \"IMAGE_TAG\": IMAGE_TAG,\n",
    "    \"IMAGE_URI\": IMAGE_URI,\n",
    "    \"TRAIN_COMPUTE\": TRAIN_COMPUTE,\n",
    "    \"DEPLOY_COMPUTE\": DEPLOY_COMPUTE,\n",
    "    \"BASE_IMAGE\": BASE_IMAGE,\n",
    "    \"PIPELINE_NAME\": PIPELINE_NAME,\n",
    "    \"PIPELINE_ROOT\": PIPELINE_ROOT,\n",
    "    \"BQ_DATASET\": BQ_DATASET,\n",
    "    \"METRICS_URI\": METRICS_URI,\n",
    "    \"AVG_PR_THRESHOLD\": AVG_PR_THRESHOLD,\n",
    "    \"MODEL_THRESHOLD\": MODEL_THRESHOLD,\n",
    "    \"AVG_PR_CONDITION\": AVG_PR_CONDITION,\n",
    "    \"PERSISTENT_RESOURCE_ID\": PERSISTENT_RESOURCE_ID,\n",
    "    \"REPLICA_COUNT\": REPLICA_COUNT,\n",
    "    \"SERVICE_ACCOUNT\": SERVICE_ACCOUNT,\n",
    "}\n",
    "\n",
    "print(json.dumps(config, indent=2))"
   ]
  },
  {
   "cell_type": "code",
   "execution_count": 11,
   "metadata": {},
   "outputs": [],
   "source": [
    "from google.cloud import storage\n",
    "\n",
    "\n",
    "def create_bucket(bucket_name: str, location: str) -> None:\n",
    "    client = storage.Client()\n",
    "    bucket = client.bucket(bucket_name)\n",
    "    _ = client.create_bucket(bucket, location=location)\n",
    "\n",
    "\n",
    "create_bucket(config[\"BUCKET_NAME\"], config[\"REGION\"])\n",
    "create_bucket(config[\"STAGING_BUCKET\"], config[\"REGION\"])"
   ]
  },
  {
   "cell_type": "code",
   "execution_count": 12,
   "metadata": {},
   "outputs": [],
   "source": [
    "!gsutil iam ch serviceAccount:{SERVICE_ACCOUNT}:roles/storage.admin gs://{BUCKET_NAME}\n",
    "!gsutil iam ch serviceAccount:{SERVICE_ACCOUNT}:roles/storage.admin gs://{STAGING_BUCKET}"
   ]
  },
  {
   "cell_type": "code",
   "execution_count": 5,
   "metadata": {},
   "outputs": [],
   "source": [
    "import yaml\n",
    "\n",
    "\n",
    "def write_to_bucket(bucket_name: str, uri: str, content: str | dict | list) -> None:\n",
    "    client = storage.Client()\n",
    "    bucket = client.bucket(bucket_name=bucket_name)\n",
    "    blob = bucket.blob(uri)\n",
    "    blob.upload_from_string(yaml.safe_dump(content))\n",
    "\n",
    "\n",
    "write_to_bucket(config[\"BUCKET_NAME\"], f\"config/vertex_conf_{config['ID']}.yaml\", config)\n",
    "\n",
    "with open(\"config_path.json\", \"w\") as f:\n",
    "    json.dump({\"bucket\": config[\"BUCKET_NAME\"], \"conf_uri\": f\"config/vertex_conf_{config['ID']}.yaml\"}, f, indent=2)"
   ]
  },
  {
   "cell_type": "markdown",
   "metadata": {
    "id": "dc2dff7ba2e0"
   },
   "source": [
    "### Copy the historical transaction data into BigQuery tables\n",
    "\n",
    "Now we will copy the historical transaction data and ingest it into BigQuery tables. For this, we will need to run `copy_bigquery_data.py`."
   ]
  },
  {
   "cell_type": "code",
   "execution_count": 18,
   "metadata": {
    "id": "4ac6e0bc33b1",
    "tags": []
   },
   "outputs": [
    {
     "name": "stdout",
     "output_type": "stream",
     "text": [
      "ai-takeoff-2025-fraudfinder-lh9ca us-central1 ai-takeoff-2025\n",
      "File copied from gs://cymbal-fraudfinder/datagen/hacked_customers_history.txt \n",
      "\t\t to gs://ai-takeoff-2025-fraudfinder-lh9ca/datagen/hacked_customers_history.txt\n",
      "File copied from gs://cymbal-fraudfinder/datagen/hacked_terminals_history.txt \n",
      "\t\t to gs://ai-takeoff-2025-fraudfinder-lh9ca/datagen/hacked_terminals_history.txt\n",
      "File copied from gs://cymbal-fraudfinder/datagen/demographics/customer_profiles.csv \n",
      "\t\t to gs://ai-takeoff-2025-fraudfinder-lh9ca/datagen/demographics/customer_profiles.csv\n",
      "File copied from gs://cymbal-fraudfinder/datagen/demographics/terminal_profiles.csv \n",
      "\t\t to gs://ai-takeoff-2025-fraudfinder-lh9ca/datagen/demographics/terminal_profiles.csv\n",
      "File copied from gs://cymbal-fraudfinder/datagen/demographics/customer_with_terminal_profiles.csv \n",
      "\t\t to gs://ai-takeoff-2025-fraudfinder-lh9ca/datagen/demographics/customer_with_terminal_profiles.csv\n",
      "BigQuery table created: `ai-takeoff-2025`.tx.tx\n",
      "BigQuery table created: `ai-takeoff-2025`.tx.txlabels\n",
      "BigQuery table created: `ai-takeoff-2025`.demographics.customers\n",
      "BigQuery table created: `ai-takeoff-2025`.demographics.terminals\n",
      "BigQuery table created: `ai-takeoff-2025`.demographics.customersterminals\n"
     ]
    }
   ],
   "source": [
    "!python3 scripts/copy_bigquery_data.py $BUCKET_NAME $REGION $PROJECT_ID"
   ]
  },
  {
   "cell_type": "markdown",
   "metadata": {
    "id": "29dbf432339c"
   },
   "source": [
    "### Check data in BigQuery\n",
    "\n",
    "After ingesting our data into BigQuery, it's time to run some queries against the tables to inspect the data. You can also go to the [BigQuery console](https://console.cloud.google.com/bigquery) to see the data."
   ]
  },
  {
   "cell_type": "markdown",
   "metadata": {
    "id": "e12ec3dae852"
   },
   "source": [
    "#### Initialize BigQuery SDK for Python "
   ]
  },
  {
   "cell_type": "markdown",
   "metadata": {
    "id": "ace8667cc99e"
   },
   "source": [
    "Use a helper function for sending queries to BigQuery."
   ]
  },
  {
   "cell_type": "code",
   "execution_count": 36,
   "metadata": {
    "id": "f7afa36c6090",
    "tags": []
   },
   "outputs": [],
   "source": [
    "# Wrapper to use BigQuery client to run query/job, return job ID or result as DF\n",
    "def run_bq_query(sql: str) -> Union[str, pd.DataFrame]:\n",
    "    \"\"\"\n",
    "    Run a BigQuery query and return the job ID or result as a DataFrame\n",
    "    Args:\n",
    "        sql: SQL query, as a string, to execute in BigQuery\n",
    "    Returns:\n",
    "        df: DataFrame of results from query,  or error, if any\n",
    "    \"\"\"\n",
    "\n",
    "    bq_client = bigquery.Client()\n",
    "    \n",
    "\n",
    "    # Try dry run before executing query to catch any errors\n",
    "    job_config = bigquery.QueryJobConfig(dry_run=True, use_query_cache=False)\n",
    "    bq_client.query(sql, job_config=job_config)\n",
    "\n",
    "    # If dry run succeeds without errors, proceed to run query\n",
    "    job_config = bigquery.QueryJobConfig()\n",
    "    client_result = bq_client.query(sql, job_config=job_config)\n",
    "\n",
    "    job_id = client_result.job_id\n",
    "\n",
    "    # Wait for query/job to finish running. then get & return data frame\n",
    "    df = client_result.result().to_arrow().to_pandas()\n",
    "    print(f\"Finished job_id: {job_id}\")\n",
    "    return df"
   ]
  },
  {
   "cell_type": "markdown",
   "metadata": {
    "id": "20875916c5d4"
   },
   "source": [
    "#### tx.tx\n",
    "The `tx.tx` table contains the basic information about each transaction:\n",
    "- `TX_ID` is a unique ID per transaction\n",
    "- `TX_TS` is the timestamp of the transaction, in UTC\n",
    "- `CUSTOMER_ID` is a unique 16-digit string ID per customer\n",
    "- `TERMINAL_ID` is a unique 16-digit string ID per point-of-sale terminal\n",
    "- `TX_AMOUNT` is the amount of money spent by the customer at a terminal, in dollars"
   ]
  },
  {
   "cell_type": "code",
   "execution_count": 49,
   "metadata": {
    "id": "cc0e50b158d2",
    "tags": []
   },
   "outputs": [
    {
     "name": "stdout",
     "output_type": "stream",
     "text": [
      "Finished job_id: a00a2604-f875-4bd0-8963-f196c5116bd3\n"
     ]
    },
    {
     "data": {
      "text/html": [
       "<div>\n",
       "<style scoped>\n",
       "    .dataframe tbody tr th:only-of-type {\n",
       "        vertical-align: middle;\n",
       "    }\n",
       "\n",
       "    .dataframe tbody tr th {\n",
       "        vertical-align: top;\n",
       "    }\n",
       "\n",
       "    .dataframe thead th {\n",
       "        text-align: right;\n",
       "    }\n",
       "</style>\n",
       "<table border=\"1\" class=\"dataframe\">\n",
       "  <thead>\n",
       "    <tr style=\"text-align: right;\">\n",
       "      <th></th>\n",
       "      <th>TX_ID</th>\n",
       "      <th>TX_TS</th>\n",
       "      <th>CUSTOMER_ID</th>\n",
       "      <th>TERMINAL_ID</th>\n",
       "      <th>TX_AMOUNT</th>\n",
       "    </tr>\n",
       "  </thead>\n",
       "  <tbody>\n",
       "    <tr>\n",
       "      <th>0</th>\n",
       "      <td>b837607fc4681fde61e8191ff70b45aa9cf1b6f1</td>\n",
       "      <td>2025-03-03 12:22:26+00:00</td>\n",
       "      <td>4428639496183819</td>\n",
       "      <td>00064542</td>\n",
       "      <td>76.850000000</td>\n",
       "    </tr>\n",
       "    <tr>\n",
       "      <th>1</th>\n",
       "      <td>080a509dc486d75323e6339a4b6eb5699d7a58e7</td>\n",
       "      <td>2025-03-03 19:53:54+00:00</td>\n",
       "      <td>9034584161813968</td>\n",
       "      <td>00064542</td>\n",
       "      <td>25.480000000</td>\n",
       "    </tr>\n",
       "    <tr>\n",
       "      <th>2</th>\n",
       "      <td>fd01bb15e8c6bf6788ef59374bbb0bbd8db07d41</td>\n",
       "      <td>2025-03-03 17:04:27+00:00</td>\n",
       "      <td>3503905935018327</td>\n",
       "      <td>00064542</td>\n",
       "      <td>94.420000000</td>\n",
       "    </tr>\n",
       "    <tr>\n",
       "      <th>3</th>\n",
       "      <td>abcbf07b40a4b6c4562b135642c5df806bff0e65</td>\n",
       "      <td>2025-03-03 04:44:46+00:00</td>\n",
       "      <td>0717942689361348</td>\n",
       "      <td>00064542</td>\n",
       "      <td>76.960000000</td>\n",
       "    </tr>\n",
       "    <tr>\n",
       "      <th>4</th>\n",
       "      <td>014c046c8fcb069fd4ec6cc464c3c90e7c8cff41</td>\n",
       "      <td>2025-03-03 06:32:12+00:00</td>\n",
       "      <td>6580876822931629</td>\n",
       "      <td>00064542</td>\n",
       "      <td>59.090000000</td>\n",
       "    </tr>\n",
       "  </tbody>\n",
       "</table>\n",
       "</div>"
      ],
      "text/plain": [
       "                                      TX_ID                     TX_TS  \\\n",
       "0  b837607fc4681fde61e8191ff70b45aa9cf1b6f1 2025-03-03 12:22:26+00:00   \n",
       "1  080a509dc486d75323e6339a4b6eb5699d7a58e7 2025-03-03 19:53:54+00:00   \n",
       "2  fd01bb15e8c6bf6788ef59374bbb0bbd8db07d41 2025-03-03 17:04:27+00:00   \n",
       "3  abcbf07b40a4b6c4562b135642c5df806bff0e65 2025-03-03 04:44:46+00:00   \n",
       "4  014c046c8fcb069fd4ec6cc464c3c90e7c8cff41 2025-03-03 06:32:12+00:00   \n",
       "\n",
       "        CUSTOMER_ID TERMINAL_ID     TX_AMOUNT  \n",
       "0  4428639496183819    00064542  76.850000000  \n",
       "1  9034584161813968    00064542  25.480000000  \n",
       "2  3503905935018327    00064542  94.420000000  \n",
       "3  0717942689361348    00064542  76.960000000  \n",
       "4  6580876822931629    00064542  59.090000000  "
      ]
     },
     "execution_count": 49,
     "metadata": {},
     "output_type": "execute_result"
    }
   ],
   "source": [
    "run_bq_query(\n",
    "    \"\"\"\n",
    "SELECT\n",
    "  *\n",
    "FROM\n",
    "  tx.tx\n",
    "LIMIT 5\n",
    "\"\"\"\n",
    ")"
   ]
  },
  {
   "cell_type": "markdown",
   "metadata": {
    "id": "5e0ab0d56773"
   },
   "source": [
    "#### tx.txlabels\n",
    "The `tx.txlabels` table contains information on whether each transation was fraud or not:\n",
    "- `TX_ID` is a unique ID per transaction\n",
    "- `TX_FRAUD` is 1 if the transaction was fraud, and 0 if the transaction was not fraudulent"
   ]
  },
  {
   "cell_type": "code",
   "execution_count": 50,
   "metadata": {
    "id": "c128a6c78e82",
    "tags": []
   },
   "outputs": [
    {
     "name": "stdout",
     "output_type": "stream",
     "text": [
      "Finished job_id: f65fa0a6-e66e-4371-af33-808f20285e84\n"
     ]
    },
    {
     "data": {
      "text/html": [
       "<div>\n",
       "<style scoped>\n",
       "    .dataframe tbody tr th:only-of-type {\n",
       "        vertical-align: middle;\n",
       "    }\n",
       "\n",
       "    .dataframe tbody tr th {\n",
       "        vertical-align: top;\n",
       "    }\n",
       "\n",
       "    .dataframe thead th {\n",
       "        text-align: right;\n",
       "    }\n",
       "</style>\n",
       "<table border=\"1\" class=\"dataframe\">\n",
       "  <thead>\n",
       "    <tr style=\"text-align: right;\">\n",
       "      <th></th>\n",
       "      <th>TX_ID</th>\n",
       "      <th>TX_FRAUD</th>\n",
       "    </tr>\n",
       "  </thead>\n",
       "  <tbody>\n",
       "    <tr>\n",
       "      <th>0</th>\n",
       "      <td>10acd92a057851af33982987c368506b231dd006</td>\n",
       "      <td>0</td>\n",
       "    </tr>\n",
       "    <tr>\n",
       "      <th>1</th>\n",
       "      <td>9d3329d73b49c62b99e7922170692845916f9dd6</td>\n",
       "      <td>0</td>\n",
       "    </tr>\n",
       "    <tr>\n",
       "      <th>2</th>\n",
       "      <td>f918c8e12b7b5e58e4a940d3bea7b955484f62b6</td>\n",
       "      <td>0</td>\n",
       "    </tr>\n",
       "    <tr>\n",
       "      <th>3</th>\n",
       "      <td>2a89a48489e7b7680a4f93f9ecdbf065469f399a</td>\n",
       "      <td>0</td>\n",
       "    </tr>\n",
       "    <tr>\n",
       "      <th>4</th>\n",
       "      <td>5ae74feb01aa582c3ccfca6acc50635c19fdefe7</td>\n",
       "      <td>0</td>\n",
       "    </tr>\n",
       "  </tbody>\n",
       "</table>\n",
       "</div>"
      ],
      "text/plain": [
       "                                      TX_ID  TX_FRAUD\n",
       "0  10acd92a057851af33982987c368506b231dd006         0\n",
       "1  9d3329d73b49c62b99e7922170692845916f9dd6         0\n",
       "2  f918c8e12b7b5e58e4a940d3bea7b955484f62b6         0\n",
       "3  2a89a48489e7b7680a4f93f9ecdbf065469f399a         0\n",
       "4  5ae74feb01aa582c3ccfca6acc50635c19fdefe7         0"
      ]
     },
     "execution_count": 50,
     "metadata": {},
     "output_type": "execute_result"
    }
   ],
   "source": [
    "run_bq_query(\n",
    "    \"\"\"\n",
    "SELECT\n",
    "  *\n",
    "FROM\n",
    "  tx.txlabels\n",
    "LIMIT 5\n",
    "\"\"\"\n",
    ")"
   ]
  },
  {
   "cell_type": "markdown",
   "metadata": {
    "id": "ffdfcfed70bd"
   },
   "source": [
    "### Check live streaming transactions via public Pub/Sub topics\n",
    "\n",
    "As part of the [README](README.md), you've created [subscriptions](https://console.cloud.google.com/cloudpubsub/subscription/) to public Pub/Sub topics, where there is a constant flow of new transactions. This means you have, in your own Google Cloud project, subscriptions to the public Pub/Sub topics. You will receive a Pub/Sub message in your subscription every time a new transaction is streamed into the Pub/Sub topic.\n",
    "\n",
    "There are two public Pub/Sub topics where there is a constant stream of live transactions occurring.\n",
    "\n",
    "The following Pub/Sub topics are used for transactions:\n",
    "```\n",
    "projects/cymbal-fraudfinder/topics/ff-tx\n",
    "projects/cymbal-fraudfinder/topics/ff-txlabels\n",
    "```\n",
    "\n",
    "Note: If you haven't completed the steps in the README, please make sure that you complete them first before continuing this notebook, otherwise you may not have Pub/Sub subscriptions."
   ]
  }
 ],
 "metadata": {
  "colab": {
   "collapsed_sections": [],
   "name": "00_environment_setup.ipynb",
   "toc_visible": true
  },
  "environment": {
   "kernel": "conda-base-py",
   "name": "workbench-notebooks.m125",
   "type": "gcloud",
   "uri": "us-docker.pkg.dev/deeplearning-platform-release/gcr.io/workbench-notebooks:m125"
  },
  "kernelspec": {
   "display_name": ".venv",
   "language": "python",
   "name": "python3"
  },
  "language_info": {
   "codemirror_mode": {
    "name": "ipython",
    "version": 3
   },
   "file_extension": ".py",
   "mimetype": "text/x-python",
   "name": "python",
   "nbconvert_exporter": "python",
   "pygments_lexer": "ipython3",
   "version": "3.11.10"
  }
 },
 "nbformat": 4,
 "nbformat_minor": 4
}
